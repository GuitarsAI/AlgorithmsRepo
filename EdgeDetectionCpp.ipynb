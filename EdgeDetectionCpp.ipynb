{
 "cells": [
  {
   "cell_type": "markdown",
   "metadata": {
    "kernel": "SoS"
   },
   "source": [
    "# C++: Image Edge Detector Filter (Convolution 2D)\n",
    "<p align=\"left\">\n",
    "<img src=\"./img/businesscard.jpg\" width=\"500px\" alt=\"Business Card\" align=\"left\" >\n",
    "</p>\n",
    "<br>\n",
    "\n",
    "[www.rptecnologias.com](http://www.rptecnologias.com)\n",
    "<br>\n",
    "guitars.ai@rptecnologias.com\n"
   ]
  },
  {
   "cell_type": "code",
   "execution_count": 1,
   "metadata": {
    "kernel": "xeus-cling-cpp14"
   },
   "outputs": [],
   "source": [
    "// Load Libraries\n",
    "#pragma cling add_library_path(\"/usr/lib/x86_64-linux-gnu/\")\n",
    "#pragma cling add_include_path(\"/usr/local/include/\")\n",
    "#pragma cling add_include_path(\"/usr/local/include/opencv4\")\n",
    "#pragma cling load(\"/usr/lib/x86_64-linux-gnu/libopencv_core.so.3.2.0\")\n",
    "#pragma cling load(\"/usr/lib/x86_64-linux-gnu/libopencv_imgcodecs.so.3.2.0\")\n",
    "#pragma cling load(\"/usr/lib/x86_64-linux-gnu/libopencv_imgproc.so.3.2.0\")\n",
    "#pragma cling load(\"./Cpp/libconvolution.so\")"
   ]
  },
  {
   "cell_type": "code",
   "execution_count": 2,
   "metadata": {
    "kernel": "xeus-cling-cpp14"
   },
   "outputs": [],
   "source": [
    "// Includes\n",
    "#include <string>\n",
    "#include <cstring>\n",
    "#include <opencv2/opencv.hpp>\n",
    "#include <opencv2/core.hpp>\n",
    "#include <opencv2/highgui.hpp>\n",
    "#include <opencv2/imgproc.hpp>\n",
    "#include <opencv2/imgcodecs.hpp>\n",
    "#include <iostream>\n",
    "#include <vector>\n",
    "#include<algorithm>\n",
    "#include <fstream>\n",
    "#include \"xtl/xbase64.hpp\"\n",
    "#include \"nlohmann/json.hpp\"\n",
    "#include \"./Cpp/convolution.hpp\"\n",
    "\n",
    "typedef std::vector<std::vector<double>> matrix;\n",
    "\n",
    "using namespace std;"
   ]
  },
  {
   "cell_type": "code",
   "execution_count": 3,
   "metadata": {
    "kernel": "xeus-cling-cpp14"
   },
   "outputs": [],
   "source": [
    "// Load Image\n",
    "using namespace cv;\n",
    "Mat image;\n",
    "image = imread(\"./img/guitar.jpg\" , IMREAD_UNCHANGED );"
   ]
  },
  {
   "cell_type": "code",
   "execution_count": 4,
   "metadata": {
    "kernel": "xeus-cling-cpp14"
   },
   "outputs": [],
   "source": [
    "// Edge Detection Kernel\n",
    "matrix kernel = {{-1,-1,-1},{-1,8,-1}, {-1,-1,-1}};"
   ]
  },
  {
   "cell_type": "code",
   "execution_count": 5,
   "metadata": {
    "kernel": "xeus-cling-cpp14"
   },
   "outputs": [],
   "source": [
    "// Define a Class to Hold RGB std::vector<std::vector<double>>\n",
    "class RGB2D \n",
    "{\n",
    "    public:\n",
    "        matrix r;\n",
    "        matrix g;\n",
    "        matrix b;\n",
    "        RGB2D(int h=0, int w=0)\n",
    "        {\n",
    "            r=matrix(h, std::vector<double>(w,0.0));\n",
    "            g=matrix(h, std::vector<double>(w,0.0));\n",
    "            b=matrix(h, std::vector<double>(w,0.0));\n",
    "        }\n",
    "        \n",
    "        //Method to set R\n",
    "        void setR(matrix &m)\n",
    "        {\n",
    "            r=m;\n",
    "        }\n",
    "        \n",
    "        //Method to set G\n",
    "        void setG(matrix &m)\n",
    "        {\n",
    "            g=m;\n",
    "        }\n",
    "        \n",
    "        //Method to set B\n",
    "        void setB(matrix &m)\n",
    "        {\n",
    "            b=m;\n",
    "        }\n",
    "        \n",
    "        // Method to set RGB\n",
    "        //Method to set R\n",
    "        void setRGB(matrix &m, matrix &n, matrix &o)\n",
    "        {\n",
    "            r=m;\n",
    "            g=n;\n",
    "            b=o;\n",
    "        }\n",
    "        \n",
    "       //Method to Flatten a 2D Matrix\n",
    "        std::vector<double> flatten(matrix &m)\n",
    "        {\n",
    "            std::vector<double> result;\n",
    "            for(auto mh = m.begin(); mh != m.end();mh++)\n",
    "            {    \n",
    "                for(auto mw = mh->begin(); mw != mh->end();mw++)\n",
    "                    {\n",
    "                        result.push_back((*mw));\n",
    "                    }\n",
    "            }\n",
    "            return result;\n",
    "        }\n",
    "        \n",
    "        // Method to Normalize Vectors\n",
    "        void normalizeVec(std::vector<double> &v)\n",
    "        {\n",
    "            double max = *std::max_element(v.begin(), v.end());\n",
    "            double min = *std::min_element(v.begin(),v.end());\n",
    "            \n",
    "            for (int i = 0; i < v.size();i++)\n",
    "            {\n",
    "                if((max-min) !=0)\n",
    "                {v[i]=(int)std::round(255*((v[i]-min)/(max-min)));}\n",
    "                else{v[i]=255;}\n",
    "            }\n",
    "        }\n",
    "        \n",
    "        // Method to convert Flatten  Vector back to 2D Matrix\n",
    "        matrix VecTo2D(std::vector<double> &v, int h, int w)\n",
    "        {\n",
    "            matrix result(h, std::vector<double>(w,0.0));\n",
    "            int index=0;\n",
    "            int n=0;\n",
    "            for (auto it = v.begin(); it != v.end();it++)\n",
    "            {\n",
    "                result[index][n] = *it;\n",
    "                n++;\n",
    "                if(n%w==0 && n!=0)\n",
    "                    {\n",
    "                        n=0;\n",
    "                        index++;\n",
    "                    }\n",
    "            }\n",
    "            return result;\n",
    "        }\n",
    "        \n",
    "        //Method to Convert to Black&White\n",
    "        void convertToBW()\n",
    "        {\n",
    "            for (int i=0; i<r.size(); i++)\n",
    "            {\n",
    "                for (int j=0; j<r[0].size(); j++)\n",
    "                {\n",
    "                        int avg = (int)std::round((b[i][j]+r[i][j]+g[i][j])/3.0);\n",
    "                        b[i][j] = ( avg < 128 ) ? 0 : 255;\n",
    "                        g[i][j] = ( avg < 128 ) ? 0 : 255;\n",
    "                        r[i][j] = ( avg < 128 ) ? 0 : 255;  \n",
    "                }\n",
    "            }\n",
    "        }\n",
    "        \n",
    "        //Method to Normalize RGBD2D\n",
    "        void normalizeRGB2D()\n",
    "        {\n",
    "            //Flatten\n",
    "            std::vector<double> flattenR = flatten(r);\n",
    "            std::vector<double> flattenG = flatten(g);\n",
    "            std::vector<double> flattenB = flatten(b);\n",
    "            //Normalize\n",
    "            normalizeVec(flattenR);\n",
    "            normalizeVec(flattenG);\n",
    "            normalizeVec(flattenB);\n",
    "            //Back to 2D\n",
    "            r = VecTo2D(flattenR,r.size(),r[0].size());\n",
    "            g = VecTo2D(flattenG,g.size(),g[0].size());\n",
    "            b = VecTo2D(flattenB,b.size(),b[0].size());\n",
    "            \n",
    "        }\n",
    "        \n",
    "        // Method to Convert RGB2D to OpenCV Mat\n",
    "        cv::Mat RGB2DtoMat()\n",
    "        {\n",
    "            cv::Mat result(r.size(), r[0].size(), CV_8UC3);\n",
    "            \n",
    "            for (int i=0; i<result.rows; i++)\n",
    "            {\n",
    "                for (int j=0; j<result.cols; j++)\n",
    "                {\n",
    "                        result.at<Vec3b>(i,j)[0] = b[i][j];\n",
    "                        result.at<Vec3b>(i,j)[1] = g[i][j];\n",
    "                        result.at<Vec3b>(i,j)[2] = r[i][j];            \n",
    "                }\n",
    "            }\n",
    "            return result;\n",
    "        }\n",
    "       \n",
    "};"
   ]
  },
  {
   "cell_type": "code",
   "execution_count": 6,
   "metadata": {
    "kernel": "xeus-cling-cpp14"
   },
   "outputs": [],
   "source": [
    "// Define a function to convert OpenCV MAT to std::vector<std::vector<double>>\n",
    "RGB2D convertTo2D(Mat image)\n",
    "{\n",
    "    RGB2D image2D(image.rows, image.cols);\n",
    "    for (int i=0; i < image.rows; ++i)\n",
    "    {\n",
    "        for (int j=0; j < image.cols; ++j)\n",
    "        {\n",
    "            Vec3b intensity = image.at<Vec3b>(i, j);\n",
    "            uchar blue = intensity.val[0];\n",
    "            uchar green = intensity.val[1];\n",
    "            uchar red = intensity.val[2];\n",
    "            image2D.r[i][j] = (int)red;\n",
    "            image2D.b[i][j] = (int)blue;\n",
    "            image2D.g[i][j] = (int)red;\n",
    "        }\n",
    "    }\n",
    "    return image2D;\n",
    "}"
   ]
  },
  {
   "cell_type": "code",
   "execution_count": 7,
   "metadata": {
    "kernel": "xeus-cling-cpp14"
   },
   "outputs": [],
   "source": [
    "// Convert OpenCV Mat to RGB2D Object\n",
    "RGB2D image2D=convertTo2D(image);"
   ]
  },
  {
   "cell_type": "code",
   "execution_count": 8,
   "metadata": {
    "kernel": "xeus-cling-cpp14"
   },
   "outputs": [],
   "source": [
    "// Convolve 2D Arrays with Kernel \n",
    "matrix convR=Convolution2D(image2D.r,kernel);\n",
    "matrix convG=Convolution2D(image2D.g,kernel);\n",
    "matrix convB=Convolution2D(image2D.b,kernel);"
   ]
  },
  {
   "cell_type": "code",
   "execution_count": 9,
   "metadata": {
    "kernel": "xeus-cling-cpp14"
   },
   "outputs": [],
   "source": [
    "// Replace RGB Matrices to Convolved Matrices\n",
    "image2D.setRGB(convR,convG,convB);\n",
    "//Normalize RGB 2D Image\n",
    "image2D.normalizeRGB2D();\n",
    "// Convert to Black and White\n",
    "image2D.convertToBW();"
   ]
  },
  {
   "cell_type": "code",
   "execution_count": 10,
   "metadata": {
    "kernel": "xeus-cling-cpp14"
   },
   "outputs": [],
   "source": [
    "// Convert RGB 2D Image back to OpenCV Mat\n",
    "cv::Mat edgedetectBWImg = image2D.RGB2DtoMat();"
   ]
  },
  {
   "cell_type": "code",
   "execution_count": 11,
   "metadata": {
    "kernel": "xeus-cling-cpp14"
   },
   "outputs": [],
   "source": [
    "// Save Edge Detected Image to File\n",
    "cv::imwrite( \"./img/guitarc++.jpg\", edgedetectBWImg );"
   ]
  },
  {
   "cell_type": "code",
   "execution_count": 12,
   "metadata": {
    "kernel": "xeus-cling-cpp14"
   },
   "outputs": [],
   "source": [
    "// Mechanism to Display Images inside Notebook\n",
    "namespace im\n",
    "{\n",
    "    struct image\n",
    "    {\n",
    "        inline image(const std::string& filename)\n",
    "        {\n",
    "            std::ifstream fin(filename, std::ios::binary);\n",
    "            m_buffer << fin.rdbuf();\n",
    "        }\n",
    "\n",
    "        std::stringstream m_buffer;\n",
    "    };\n",
    "\n",
    "    nlohmann::json mime_bundle_repr(const image& i)\n",
    "    {\n",
    "        auto bundle = nlohmann::json::object();\n",
    "        bundle[\"image/png\"] = xtl::base64encode(i.m_buffer.str());\n",
    "        return bundle;\n",
    "    }\n",
    "}"
   ]
  },
  {
   "cell_type": "code",
   "execution_count": 13,
   "metadata": {
    "kernel": "xeus-cling-cpp14"
   },
   "outputs": [
    {
     "data": {
      "image/png": "[encoded data removed]"
     },
     "execution_count": 13,
     "metadata": {},
     "output_type": "execute_result"
    }
   ],
   "source": [
    "im::image output(\"./img/guitarc++.jpg\");\n",
    "output"
   ]
  },
  {
   "cell_type": "code",
   "execution_count": 14,
   "metadata": {
    "kernel": "xeus-cling-cpp14"
   },
   "outputs": [
    {
     "data": {
      "image/png": "[encoded data removed]"
     },
     "execution_count": 14,
     "metadata": {},
     "output_type": "execute_result"
    }
   ],
   "source": [
    "im::image original(\"./img/guitar.jpg\");\n",
    "original"
   ]
  }
 ],
 "metadata": {
  "kernelspec": {
   "display_name": "SoS",
   "language": "sos",
   "name": "sos"
  },
  "language_info": {
   "codemirror_mode": "sos",
   "file_extension": ".sos",
   "mimetype": "text/x-sos",
   "name": "sos",
   "nbconvert_exporter": "sos_notebook.converter.SoS_Exporter",
   "pygments_lexer": "sos"
  },
  "sos": {
   "kernels": [
    [
     "xeus-cling-cpp14",
     "xeus-cling-cpp14",
     "C++14",
     "",
     "text/x-c++src"
    ]
   ],
   "panel": {
    "displayed": false,
    "height": 0
   },
   "version": "0.18.5"
  }
 },
 "nbformat": 4,
 "nbformat_minor": 2
}
