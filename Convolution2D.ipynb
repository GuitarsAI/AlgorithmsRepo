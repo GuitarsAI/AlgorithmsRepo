{
 "cells": [
  {
   "cell_type": "markdown",
   "metadata": {},
   "source": [
    "# Convolution 2D\n",
    "<p align=\"left\">\n",
    "<img src=\"./img/businesscard.jpg\" width=\"500px\" alt=\"Business Card\" align=\"left\" >\n",
    "</p>\n",
    "<br>\n",
    "\n",
    "[www.rptecnologias.com](http://www.rptecnologias.com)\n",
    "<br>\n",
    "guitars.ai@rptecnologias.com\n"
   ]
  },
  {
   "cell_type": "markdown",
   "metadata": {},
   "source": [
    "## Imports & Configurations"
   ]
  },
  {
   "cell_type": "code",
   "execution_count": 1,
   "metadata": {},
   "outputs": [],
   "source": [
    "# General Imports\n",
    "import numpy as np\n",
    "import scipy.signal as signal\n",
    "\n",
    "#Display ang Plots\n",
    "#%matplotlib notebook\n",
    "import matplotlib.pyplot as plt\n",
    "from IPython.core.display import HTML, display\n",
    "from displayUtils import show_web\n",
    "# Logging & Debbuging\n",
    "import logging"
   ]
  },
  {
   "cell_type": "code",
   "execution_count": 2,
   "metadata": {},
   "outputs": [],
   "source": [
    "# Logging Configuration\n",
    "import sys\n",
    "# Create logger\n",
    "logging.basicConfig(format='%(levelname)s : %(message)s', level=logging.INFO)\n",
    "logger = logging.getLogger()\n",
    "\n",
    "# Create STDERR handler\n",
    "handler = logging.StreamHandler(sys.stderr)\n",
    "\n",
    "# Set STDERR handler as the only handler \n",
    "logger.handlers = [handler]"
   ]
  },
  {
   "cell_type": "code",
   "execution_count": 3,
   "metadata": {},
   "outputs": [
    {
     "data": {
      "text/html": [
       "<center><iframe src=\"https://en.wikipedia.org/wiki/Multidimensional_discrete_convolution#Definition\" width=\"800\" height=\"600\" frameborder=\"0\" marginheight=\"0\" marginwidth=\"0\">Loading...</iframe></center>"
      ],
      "text/plain": [
       "<IPython.core.display.HTML object>"
      ]
     },
     "metadata": {},
     "output_type": "display_data"
    }
   ],
   "source": [
    "show_web(\"https://en.wikipedia.org/wiki/Multidimensional_discrete_convolution#Definition\")"
   ]
  },
  {
   "cell_type": "markdown",
   "metadata": {},
   "source": [
    "$$ \n",
    "\\Large\n",
    "\\begin{equation}\n",
    "f\\left[x,y \\right] * g\\left[x,y \\right] =  \\sum_{i=-\\infty}^{+\\infty}\\sum_{j=-\\infty}^{+\\infty} f\\left[i,j \\right] \\cdot g\\left[x-i,y-j \\right]\n",
    "\\end{equation}$$"
   ]
  },
  {
   "cell_type": "markdown",
   "metadata": {},
   "source": [
    "## Scipy Convolution 2D"
   ]
  },
  {
   "cell_type": "code",
   "execution_count": 4,
   "metadata": {},
   "outputs": [
    {
     "data": {
      "text/plain": [
       "array([[1, 1, 1, 1, 1, 1, 1, 1],\n",
       "       [1, 3, 3, 3, 3, 3, 3, 1],\n",
       "       [1, 3, 1, 1, 3, 1, 1, 1],\n",
       "       [1, 3, 3, 3, 3, 3, 3, 1],\n",
       "       [1, 3, 1, 1, 3, 1, 1, 1],\n",
       "       [1, 1, 1, 1, 1, 1, 1, 1]])"
      ]
     },
     "execution_count": 4,
     "metadata": {},
     "output_type": "execute_result"
    },
    {
     "data": {
      "image/png": "[encoded data removed]",
      "text/plain": [
       "<Figure size 576x432 with 1 Axes>"
      ]
     },
     "metadata": {
      "needs_background": "light"
     },
     "output_type": "display_data"
    }
   ],
   "source": [
    "# Test Matrices\n",
    "input_matrix=np.array([\n",
    "    [1,1,1,1,1,1,1,1],\n",
    "    [1,3,3,3,3,3,3,1],\n",
    "    [1,3,1,1,3,1,1,1],\n",
    "    [1,3,3,3,3,3,3,1],\n",
    "    [1,3,1,1,3,1,1,1],\n",
    "    [1,1,1,1,1,1,1,1]])\n",
    "plt.figure(figsize=(8,6))\n",
    "plt.imshow(input_matrix)\n",
    "input_matrix"
   ]
  },
  {
   "cell_type": "code",
   "execution_count": 5,
   "metadata": {},
   "outputs": [
    {
     "data": {
      "text/plain": [
       "array([[-1, -1, -1],\n",
       "       [ 2,  2,  2],\n",
       "       [-1, -1, -1]])"
      ]
     },
     "execution_count": 5,
     "metadata": {},
     "output_type": "execute_result"
    },
    {
     "data": {
      "image/png": "[encoded data removed]",
      "text/plain": [
       "<Figure size 576x432 with 1 Axes>"
      ]
     },
     "metadata": {
      "needs_background": "light"
     },
     "output_type": "display_data"
    }
   ],
   "source": [
    "convolution_kernel=np.array([\n",
    "    [-1,-1,-1],\n",
    "    [2,2,2],\n",
    "    [-1,-1,-1]\n",
    "])\n",
    "plt.figure(figsize=(8,6))\n",
    "plt.imshow(convolution_kernel)\n",
    "convolution_kernel"
   ]
  },
  {
   "cell_type": "code",
   "execution_count": 6,
   "metadata": {},
   "outputs": [
    {
     "data": {
      "text/plain": [
       "array([[-1, -2, -3, -3, -3, -3, -3, -3, -2, -1],\n",
       "       [ 1,  0, -1, -3, -3, -3, -3, -1,  0,  1],\n",
       "       [ 0,  2,  6, 10, 10, 10, 10,  8,  4,  0],\n",
       "       [ 0,  0, -4, -8, -8, -8, -8, -8, -4,  0],\n",
       "       [ 0,  0,  4,  8,  8,  8,  8,  8,  4,  0],\n",
       "       [ 0,  2,  0, -2, -2, -2, -2, -4, -2,  0],\n",
       "       [ 1,  0,  1,  1,  1,  1,  1,  3,  2,  1],\n",
       "       [-1, -2, -3, -3, -3, -3, -3, -3, -2, -1]])"
      ]
     },
     "execution_count": 6,
     "metadata": {},
     "output_type": "execute_result"
    },
    {
     "data": {
      "image/png": "[encoded data removed]",
      "text/plain": [
       "<Figure size 1440x720 with 2 Axes>"
      ]
     },
     "metadata": {
      "needs_background": "light"
     },
     "output_type": "display_data"
    }
   ],
   "source": [
    "# Scipy Convolution\n",
    "conv_result=signal.convolve2d(input_matrix,convolution_kernel,mode='full')\n",
    "plt.figure(figsize=(20,10))\n",
    "plt.subplot(1,2,1)\n",
    "plt.imshow(conv_result)\n",
    "plt.title(\"Convolution Result\")\n",
    "plt.subplot(1,2,2)\n",
    "plt.imshow(input_matrix)\n",
    "plt.title(\"Input Matrix\")\n",
    "conv_result"
   ]
  },
  {
   "cell_type": "markdown",
   "metadata": {},
   "source": [
    "## Python: Convolution 2D"
   ]
  },
  {
   "cell_type": "code",
   "execution_count": 7,
   "metadata": {},
   "outputs": [],
   "source": [
    "def Convolution2D(f,g):\n",
    "    result=np.zeros((f.shape[0]+g.shape[0]-1, f.shape[1]+g.shape[1]-1))\n",
    "    for x in range(f.shape[0]):\n",
    "        for y in range (f.shape[1]):\n",
    "            for i in range(g.shape[0]):\n",
    "                for j in range(g.shape[1]):\n",
    "                    result[x+i][y+j]+=f[x][y]*g[i][j]\n",
    "                      \n",
    "    return result"
   ]
  },
  {
   "cell_type": "code",
   "execution_count": 8,
   "metadata": {},
   "outputs": [
    {
     "data": {
      "text/plain": [
       "array([[-1., -2., -3., -3., -3., -3., -3., -3., -2., -1.],\n",
       "       [ 1.,  0., -1., -3., -3., -3., -3., -1.,  0.,  1.],\n",
       "       [ 0.,  2.,  6., 10., 10., 10., 10.,  8.,  4.,  0.],\n",
       "       [ 0.,  0., -4., -8., -8., -8., -8., -8., -4.,  0.],\n",
       "       [ 0.,  0.,  4.,  8.,  8.,  8.,  8.,  8.,  4.,  0.],\n",
       "       [ 0.,  2.,  0., -2., -2., -2., -2., -4., -2.,  0.],\n",
       "       [ 1.,  0.,  1.,  1.,  1.,  1.,  1.,  3.,  2.,  1.],\n",
       "       [-1., -2., -3., -3., -3., -3., -3., -3., -2., -1.]])"
      ]
     },
     "execution_count": 8,
     "metadata": {},
     "output_type": "execute_result"
    },
    {
     "data": {
      "image/png": "[encoded data removed]",
      "text/plain": [
       "<Figure size 432x288 with 1 Axes>"
      ]
     },
     "metadata": {
      "needs_background": "light"
     },
     "output_type": "display_data"
    }
   ],
   "source": [
    "plt.figure()\n",
    "conv2Dresult=Convolution2D(input_matrix,convolution_kernel)\n",
    "plt.imshow(conv2Dresult)\n",
    "conv2Dresult"
   ]
  },
  {
   "cell_type": "code",
   "execution_count": null,
   "metadata": {},
   "outputs": [],
   "source": []
  }
 ],
 "metadata": {
  "kernelspec": {
   "display_name": "Python 3",
   "language": "python",
   "name": "python3"
  },
  "language_info": {
   "codemirror_mode": {
    "name": "ipython",
    "version": 3
   },
   "file_extension": ".py",
   "mimetype": "text/x-python",
   "name": "python",
   "nbconvert_exporter": "python",
   "pygments_lexer": "ipython3",
   "version": "3.6.8"
  }
 },
 "nbformat": 4,
 "nbformat_minor": 2
}
