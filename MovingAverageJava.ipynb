{
 "cells": [
  {
   "cell_type": "markdown",
   "metadata": {
    "kernel": "SoS"
   },
   "source": [
    "# Moving Average Filter Javascript\n",
    "<p align=\"left\">\n",
    "<img src=\"./img/businesscard.jpg\" width=\"500px\" alt=\"Business Card\" align=\"left\" >\n",
    "</p>\n",
    "<br>\n",
    "\n",
    "[www.rptecnologias.com](http://www.rptecnologias.com)\n",
    "<br>\n",
    "guitars.ai@rptecnologias.com\n"
   ]
  },
  {
   "cell_type": "markdown",
   "metadata": {
    "kernel": "SoS"
   },
   "source": [
    "## Imports"
   ]
  },
  {
   "cell_type": "code",
   "execution_count": 1,
   "metadata": {
    "kernel": "java"
   },
   "outputs": [],
   "source": [
    "// Imports\n",
    "import java.util.Arrays;\n",
    "import java.lang.Math;\n",
    "import java.io.FileWriter;\n",
    "import java.io.IOException;\n",
    "import java.util.ArrayList;\n",
    "import java.util.List;"
   ]
  },
  {
   "cell_type": "markdown",
   "metadata": {
    "kernel": "java"
   },
   "source": [
    "## Function Moving Average h"
   ]
  },
  {
   "cell_type": "code",
   "execution_count": 2,
   "metadata": {
    "kernel": "java"
   },
   "outputs": [],
   "source": [
    "// Define hMovingAverage\n",
    "public static double[] hMovingAverage(int taps)\n",
    "{\n",
    "     \n",
    "    double h[] = new double[taps];\n",
    "    for(int i=0; i<h.length;++i)\n",
    "    {\n",
    "        h[i]=(1.0/taps);\n",
    "    }\n",
    "    return h;\n",
    "}"
   ]
  },
  {
   "cell_type": "code",
   "execution_count": 3,
   "metadata": {
    "kernel": "java"
   },
   "outputs": [
    {
     "name": "stdout",
     "output_type": "stream",
     "text": [
      "[0.09090909090909091, 0.09090909090909091, 0.09090909090909091, 0.09090909090909091, 0.09090909090909091, 0.09090909090909091, 0.09090909090909091, 0.09090909090909091, 0.09090909090909091, 0.09090909090909091, 0.09090909090909091]\n"
     ]
    }
   ],
   "source": [
    "// Create an impulse response h for a Moving Average Filter\n",
    "double h[]=hMovingAverage(11);\n",
    "System.out.println(Arrays.toString(h));"
   ]
  },
  {
   "cell_type": "markdown",
   "metadata": {
    "kernel": "java"
   },
   "source": [
    "## Function Convolution1D"
   ]
  },
  {
   "cell_type": "code",
   "execution_count": 4,
   "metadata": {
    "kernel": "java"
   },
   "outputs": [],
   "source": [
    "// Define Convolution1D\n",
    "public static double[] Convolution1D (double f[], double g[], boolean delay)\n",
    "{\n",
    "    // Initialize output array with zeros\n",
    "    double y[] = new double[f.length+g.length-1];\n",
    "    \n",
    "    //Convolution\n",
    "    for (int n=0; n < f.length; ++n)\n",
    "    {\n",
    "        for(int m=0; m<g.length;++m)\n",
    "            {\n",
    "                y[m+n]+=f[n]*g[m];\n",
    "            }\n",
    "    \n",
    "    }\n",
    "    \n",
    "    if(delay)\n",
    "    {\n",
    "        int index=(int)Math.round((g.length-1)/2.0);\n",
    "        return Arrays.copyOfRange(y, index, y.length-g.length+1);\n",
    "    }\n",
    "    else\n",
    "    {    return y; }\n",
    "    \n",
    "}"
   ]
  },
  {
   "cell_type": "markdown",
   "metadata": {
    "kernel": "java"
   },
   "source": [
    "## Function Linspace"
   ]
  },
  {
   "cell_type": "code",
   "execution_count": 5,
   "metadata": {
    "kernel": "java"
   },
   "outputs": [],
   "source": [
    "// Function Linspace\n",
    "public static double[] linspace(double a, double b, int n){\n",
    "    double[] result = new double[n];\n",
    "    for (int i=0; i<n; i++){\n",
    "    result[i]= a +i*(b-a)/(n-1);\n",
    "    }\n",
    "    return result;\n",
    "}"
   ]
  },
  {
   "cell_type": "markdown",
   "metadata": {
    "kernel": "java"
   },
   "source": [
    "## Create Signals: Ramp and Ramp + Noise"
   ]
  },
  {
   "cell_type": "code",
   "execution_count": 6,
   "metadata": {
    "kernel": "java"
   },
   "outputs": [],
   "source": [
    "double[] x = linspace(0, 100, 100);\n",
    "double[] x_noise = new double[x.length];\n",
    "\n",
    "for (int i = 0; i < x.length; i++) {\n",
    "  x_noise[i]=x[i]+ 4*(Math.random()*2-1);\n",
    "}"
   ]
  },
  {
   "cell_type": "markdown",
   "metadata": {
    "kernel": "java"
   },
   "source": [
    "## Convolve Ramp + Noise with Moving Average Impulse Response"
   ]
  },
  {
   "cell_type": "code",
   "execution_count": 7,
   "metadata": {
    "kernel": "java"
   },
   "outputs": [],
   "source": [
    "double[] x_noise_filtered = Convolution1D(x_noise, h, true)"
   ]
  },
  {
   "cell_type": "markdown",
   "metadata": {
    "kernel": "java"
   },
   "source": [
    "## Function to save signals as .csv files"
   ]
  },
  {
   "cell_type": "code",
   "execution_count": 8,
   "metadata": {
    "kernel": "java"
   },
   "outputs": [],
   "source": [
    "public static void writeToCsv(String fileName, double[] arr) {\n",
    "         \n",
    "         \n",
    "        FileWriter fileWriter = null;\n",
    "                 \n",
    "        try {\n",
    "            fileWriter = new FileWriter(fileName);\n",
    " \n",
    "            \n",
    "            for (double i : arr) {\n",
    "                fileWriter.append(Double.toString(i));\n",
    "                fileWriter.append(\",\");\n",
    "            }\n",
    "  \n",
    "             \n",
    "        } catch (Exception e) {\n",
    "            System.out.println(\"Error.\");\n",
    "            e.printStackTrace();\n",
    "        } finally {\n",
    "             \n",
    "            try {\n",
    "                fileWriter.flush();\n",
    "                fileWriter.close();\n",
    "            } catch (IOException e) {\n",
    "                System.out.println(\"Error.\");\n",
    "                e.printStackTrace();\n",
    "            }\n",
    "             \n",
    "        }\n",
    "    }"
   ]
  },
  {
   "cell_type": "markdown",
   "metadata": {
    "kernel": "java"
   },
   "source": [
    "## Save Ramp+Noise as .csv file"
   ]
  },
  {
   "cell_type": "code",
   "execution_count": 9,
   "metadata": {
    "kernel": "java"
   },
   "outputs": [],
   "source": [
    "writeToCsv(\"x_noise_java.csv\",x_noise);\n",
    "writeToCsv(\"x_noise_filtered_java.csv\", x_noise_filtered );"
   ]
  },
  {
   "cell_type": "markdown",
   "metadata": {
    "kernel": "java"
   },
   "source": [
    "## Read .csv File as Numpy Array"
   ]
  },
  {
   "cell_type": "code",
   "execution_count": 10,
   "metadata": {
    "kernel": "Python3"
   },
   "outputs": [],
   "source": [
    "# Imports\n",
    "from numpy import genfromtxt"
   ]
  },
  {
   "cell_type": "code",
   "execution_count": 11,
   "metadata": {
    "kernel": "Python3"
   },
   "outputs": [],
   "source": [
    "# Read .csv as numpy array\n",
    "x_noise = genfromtxt(\"x_noise_java.csv\", delimiter=',')\n",
    "x_noise_filtered = genfromtxt(\"x_noise_filtered_java.csv\", delimiter=',')"
   ]
  },
  {
   "cell_type": "code",
   "execution_count": 12,
   "metadata": {
    "kernel": "Python3"
   },
   "outputs": [],
   "source": [
    "import matplotlib.pyplot as plt"
   ]
  },
  {
   "cell_type": "code",
   "execution_count": 13,
   "metadata": {
    "kernel": "Python3"
   },
   "outputs": [
    {
     "data": {
      "image/png": "[encoded data removed]",
      "text/plain": [
       "<Figure size 720x576 with 1 Axes>"
      ]
     },
     "metadata": {
      "needs_background": "light"
     },
     "output_type": "display_data"
    }
   ],
   "source": [
    "plt.figure(figsize=(10,8))\n",
    "plt.title(\"Moving Average Filter\")\n",
    "plt.xlabel('x')\n",
    "plt.ylabel('y')\n",
    "plt.plot(range(x_noise.size), label='Ramp')\n",
    "plt.plot(x_noise, 'g.', label='Ramp+Noise')\n",
    "plt.plot(x_noise_filtered, 'r--', label='Filtered Ramp+Noise (Delay Compensated)')\n",
    "plt.legend();"
   ]
  },
  {
   "cell_type": "code",
   "execution_count": null,
   "metadata": {
    "kernel": "Python3"
   },
   "outputs": [],
   "source": []
  }
 ],
 "metadata": {
  "kernelspec": {
   "display_name": "SoS",
   "language": "sos",
   "name": "sos"
  },
  "language_info": {
   "codemirror_mode": "sos",
   "file_extension": ".sos",
   "mimetype": "text/x-sos",
   "name": "sos",
   "nbconvert_exporter": "sos_notebook.converter.SoS_Exporter",
   "pygments_lexer": "sos"
  },
  "sos": {
   "kernels": [
    [
     "Python3",
     "python3",
     "Python3",
     "#FFD91A",
     ""
    ],
    [
     "java",
     "java",
     "java",
     "",
     "java"
    ]
   ],
   "panel": {
    "displayed": false,
    "height": 0
   },
   "version": "0.18.5"
  }
 },
 "nbformat": 4,
 "nbformat_minor": 2
}
