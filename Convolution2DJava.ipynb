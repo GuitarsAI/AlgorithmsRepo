{
 "cells": [
  {
   "cell_type": "markdown",
   "metadata": {},
   "source": [
    "# Java: Convolution 2D\n",
    "<p align=\"left\">\n",
    "<img src=\"./img/businesscard.jpg\" width=\"500px\" alt=\"Business Card\" align=\"left\" >\n",
    "</p>\n",
    "<br>\n",
    "\n",
    "[www.rptecnologias.com](http://www.rptecnologias.com)\n",
    "<br>\n",
    "guitars.ai@rptecnologias.com\n"
   ]
  },
  {
   "cell_type": "code",
   "execution_count": 1,
   "metadata": {},
   "outputs": [],
   "source": [
    "// Imports\n",
    "import java.util.Arrays;"
   ]
  },
  {
   "cell_type": "code",
   "execution_count": 2,
   "metadata": {},
   "outputs": [],
   "source": [
    "// Define Convolution2D\n",
    "public static double[][] Convolution2D (double f[][], double g[][])\n",
    "{\n",
    "    // Initialize output array with zeros\n",
    "    double result[][] = new double[f.length+g.length-1][f[0].length+g[0].length-1];\n",
    "    //Convolution\n",
    "    for (int x=0; x < f.length; ++x)\n",
    "    {\n",
    "        for(int y=0; y<f[0].length;++y)\n",
    "            {\n",
    "                for (int i=0; i<g.length;++i)\n",
    "                {\n",
    "                    for (int j=0; j<g[0].length;++j)\n",
    "                    {\n",
    "                        result[x+i][y+j]+=f[x][y]*g[i][j];\n",
    "                    }\n",
    "                }\n",
    "                \n",
    "            }\n",
    "    \n",
    "    }\n",
    "     \n",
    "     \n",
    "    return result;\n",
    "    \n",
    "}"
   ]
  },
  {
   "cell_type": "code",
   "execution_count": 3,
   "metadata": {},
   "outputs": [],
   "source": [
    "double[][] f = {{1,1,1,1,1,1,1,1}, {1,3,3,3,3,3,3,1}, {1,3,1,1,3,1,1,1}, {1,3,3,3,3,3,3,1}, {1,3,1,1,3,1,1,1},{1,1,1,1,1,1,1,1}};\n",
    "double[][] g = {{-1,-1,-1},{2,2,2}, {-1,-1,-1}};"
   ]
  },
  {
   "cell_type": "code",
   "execution_count": 4,
   "metadata": {},
   "outputs": [
    {
     "name": "stdout",
     "output_type": "stream",
     "text": [
      "[-1.0, -2.0, -3.0, -3.0, -3.0, -3.0, -3.0, -3.0, -2.0, -1.0]\n",
      "[1.0, 0.0, -1.0, -3.0, -3.0, -3.0, -3.0, -1.0, 0.0, 1.0]\n",
      "[0.0, 2.0, 6.0, 10.0, 10.0, 10.0, 10.0, 8.0, 4.0, 0.0]\n",
      "[0.0, 0.0, -4.0, -8.0, -8.0, -8.0, -8.0, -8.0, -4.0, 0.0]\n",
      "[0.0, 0.0, 4.0, 8.0, 8.0, 8.0, 8.0, 8.0, 4.0, 0.0]\n",
      "[0.0, 2.0, 0.0, -2.0, -2.0, -2.0, -2.0, -4.0, -2.0, 0.0]\n",
      "[1.0, 0.0, 1.0, 1.0, 1.0, 1.0, 1.0, 3.0, 2.0, 1.0]\n",
      "[-1.0, -2.0, -3.0, -3.0, -3.0, -3.0, -3.0, -3.0, -2.0, -1.0]\n"
     ]
    }
   ],
   "source": [
    "void printElements(double[][] jaggedArr) {\n",
    "    for (int index = 0; index < jaggedArr.length; index++) {\n",
    "        System.out.println(Arrays.toString(jaggedArr[index]));\n",
    "    }\n",
    "}\n",
    "double[][] result_Conv2d_java=Convolution2D(f,g);\n",
    "printElements(result_Conv2d_java);"
   ]
  },
  {
   "cell_type": "code",
   "execution_count": null,
   "metadata": {},
   "outputs": [],
   "source": []
  }
 ],
 "metadata": {
  "kernelspec": {
   "display_name": "Java",
   "language": "java",
   "name": "java"
  },
  "language_info": {
   "codemirror_mode": "java",
   "file_extension": ".java",
   "mimetype": "text/x-java-source",
   "name": "Java",
   "pygments_lexer": "java",
   "version": "10.0.2+13-Ubuntu-1ubuntu0.18.04.4"
  }
 },
 "nbformat": 4,
 "nbformat_minor": 2
}
