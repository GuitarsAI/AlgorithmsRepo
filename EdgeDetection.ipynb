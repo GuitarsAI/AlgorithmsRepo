{
 "cells": [
  {
   "cell_type": "markdown",
   "metadata": {},
   "source": [
    "# Image Edge Detection Filter (Convolution 2D)\n",
    "<p align=\"left\">\n",
    "<img src=\"./img/businesscard.jpg\" width=\"500px\" alt=\"Business Card\" align=\"left\" >\n",
    "</p>\n",
    "<br>\n",
    "\n",
    "[www.rptecnologias.com](http://www.rptecnologias.com)\n",
    "<br>\n",
    "guitars.ai@rptecnologias.com"
   ]
  },
  {
   "cell_type": "markdown",
   "metadata": {},
   "source": [
    "## Imports & Configurations"
   ]
  },
  {
   "cell_type": "code",
   "execution_count": 1,
   "metadata": {},
   "outputs": [
    {
     "name": "stdout",
     "output_type": "stream",
     "text": [
      "Importing Jupyter notebook from Convolution2D.ipynb\n"
     ]
    }
   ],
   "source": [
    "# General Imports\n",
    "import numpy as np\n",
    "import scipy.signal as signal\n",
    "import nbimporter\n",
    "\n",
    "# Image\n",
    "from PIL import Image\n",
    "\n",
    "# Import Convolution2D form Convolution2D.ipynb\n",
    "from Convolution2D import Convolution2D\n",
    "\n",
    "#Display ang Plots\n",
    "%matplotlib notebook\n",
    "import matplotlib.pyplot as plt\n",
    "from IPython.core.display import HTML, display\n",
    "from displayUtils import show_web\n",
    "\n",
    "# Logging & Debbuging\n",
    "import logging"
   ]
  },
  {
   "cell_type": "code",
   "execution_count": 2,
   "metadata": {},
   "outputs": [],
   "source": [
    "# Logging Configuration\n",
    "import sys\n",
    "# Create logger\n",
    "logging.basicConfig(format='%(levelname)s : %(message)s', level=logging.INFO)\n",
    "logger = logging.getLogger()\n",
    "\n",
    "# Create STDERR handler\n",
    "handler = logging.StreamHandler(sys.stderr)\n",
    "\n",
    "# Set STDERR handler as the only handler \n",
    "logger.handlers = [handler]"
   ]
  },
  {
   "cell_type": "code",
   "execution_count": 3,
   "metadata": {},
   "outputs": [
    {
     "data": {
      "text/html": [
       "<center><iframe src=\"https://en.wikipedia.org/wiki/Edge_detection\" width=\"800\" height=\"600\" frameborder=\"0\" marginheight=\"0\" marginwidth=\"0\">Loading...</iframe></center>"
      ],
      "text/plain": [
       "<IPython.core.display.HTML object>"
      ]
     },
     "metadata": {},
     "output_type": "display_data"
    }
   ],
   "source": [
    "show_web(\"https://en.wikipedia.org/wiki/Edge_detection\")"
   ]
  },
  {
   "cell_type": "code",
   "execution_count": 4,
   "metadata": {},
   "outputs": [
    {
     "data": {
      "text/html": [
       "<center><iframe src=\"https://en.wikipedia.org/wiki/Kernel_(image_processing)\" width=\"800\" height=\"600\" frameborder=\"0\" marginheight=\"0\" marginwidth=\"0\">Loading...</iframe></center>"
      ],
      "text/plain": [
       "<IPython.core.display.HTML object>"
      ]
     },
     "metadata": {},
     "output_type": "display_data"
    }
   ],
   "source": [
    "show_web(\"https://en.wikipedia.org/wiki/Kernel_(image_processing)\")"
   ]
  },
  {
   "cell_type": "markdown",
   "metadata": {},
   "source": [
    "## Edge Detection Simple Kernel"
   ]
  },
  {
   "cell_type": "code",
   "execution_count": 5,
   "metadata": {},
   "outputs": [],
   "source": [
    "# Edge Detecttion Kernel\n",
    "kernel=np.array([[-1, -1, -1],\n",
    "                [-1,  8, -1],\n",
    "                [-1, -1, -1]])"
   ]
  },
  {
   "cell_type": "markdown",
   "metadata": {},
   "source": [
    "## Load Image"
   ]
  },
  {
   "cell_type": "code",
   "execution_count": 6,
   "metadata": {},
   "outputs": [],
   "source": [
    "im = np.asarray(Image.open('./img/guitar.jpg'))\n",
    "I = np.array(Image.fromarray(np.uint8(im)))"
   ]
  },
  {
   "cell_type": "markdown",
   "metadata": {},
   "source": [
    "## Convolve Image with Kernel"
   ]
  },
  {
   "cell_type": "code",
   "execution_count": 7,
   "metadata": {},
   "outputs": [],
   "source": [
    "convR=Convolution2D(I[:,:,0],kernel)\n",
    "convG=Convolution2D(I[:,:,1],kernel)\n",
    "convB=Convolution2D(I[:,:,2],kernel)"
   ]
  },
  {
   "cell_type": "markdown",
   "metadata": {},
   "source": [
    "## Normalization"
   ]
  },
  {
   "cell_type": "code",
   "execution_count": 8,
   "metadata": {},
   "outputs": [],
   "source": [
    "# Define a function to normalize an array\n",
    "def normalize(arr):\n",
    "    maxValue=np.max(arr)\n",
    "    minValue=np.min(arr)\n",
    "    for i,value in np.ndenumerate(arr):\n",
    "        if ((maxValue-minValue) !=0):\n",
    "            arr[i]=np.round(255*(value-minValue)/(maxValue-minValue)).astype(np.uint8)\n",
    "        else:\n",
    "            arr[i]=255\n",
    "    return arr"
   ]
  },
  {
   "cell_type": "code",
   "execution_count": 9,
   "metadata": {},
   "outputs": [],
   "source": [
    "#Normalize arrays\n",
    "convR=normalize(convR)\n",
    "convG=normalize(convG)\n",
    "convB=normalize(convB)"
   ]
  },
  {
   "cell_type": "markdown",
   "metadata": {},
   "source": [
    "## Convert to BW"
   ]
  },
  {
   "cell_type": "code",
   "execution_count": 10,
   "metadata": {},
   "outputs": [],
   "source": [
    "convR[convR < 128]=0\n",
    "convR[convR >= 128]=255\n",
    "convG[convG < 128]=0\n",
    "convG[convG >= 128]=255\n",
    "convB[convB < 128]=0\n",
    "convB[convB >= 128]=255"
   ]
  },
  {
   "cell_type": "code",
   "execution_count": 11,
   "metadata": {},
   "outputs": [],
   "source": [
    "# Stack RGB back to Image\n",
    "edgeImage=np.stack((convR,convG,convB), axis=2).astype(np.uint8)"
   ]
  },
  {
   "cell_type": "markdown",
   "metadata": {},
   "source": [
    "## Display Edge Detection"
   ]
  },
  {
   "cell_type": "code",
   "execution_count": 12,
   "metadata": {},
   "outputs": [
    {
     "data": {
      "image/png": "[encoded data removed]",
      "text/plain": [
       "<Figure size 432x288 with 1 Axes>"
      ]
     },
     "metadata": {
      "needs_background": "light"
     },
     "output_type": "display_data"
    }
   ],
   "source": [
    "# Display Edge Detection Filtered Image\n",
    "plt.figure()\n",
    "plt.axis('off')\n",
    "plt.imshow(edgeImage);"
   ]
  },
  {
   "cell_type": "markdown",
   "metadata": {},
   "source": [
    "## Sobel Filter"
   ]
  },
  {
   "cell_type": "code",
   "execution_count": 13,
   "metadata": {},
   "outputs": [
    {
     "data": {
      "text/html": [
       "<center><iframe src=\"https://en.wikipedia.org/wiki/Sobel_operator\" width=\"800\" height=\"600\" frameborder=\"0\" marginheight=\"0\" marginwidth=\"0\">Loading...</iframe></center>"
      ],
      "text/plain": [
       "<IPython.core.display.HTML object>"
      ]
     },
     "metadata": {},
     "output_type": "display_data"
    }
   ],
   "source": [
    "show_web(\"https://en.wikipedia.org/wiki/Sobel_operator\")"
   ]
  },
  {
   "cell_type": "markdown",
   "metadata": {},
   "source": [
    "## Sobel Kernels"
   ]
  },
  {
   "cell_type": "code",
   "execution_count": 14,
   "metadata": {},
   "outputs": [],
   "source": [
    "SobelX=np.array([\n",
    "    [-1,0,1],\n",
    "    [-2,0,2],\n",
    "    [-1,0,1]\n",
    "])\n",
    "SobelY=np.array([\n",
    "    [-1,-2,-1],\n",
    "    [0,0,0],\n",
    "    [1,2,1]\n",
    "])"
   ]
  },
  {
   "cell_type": "code",
   "execution_count": 15,
   "metadata": {},
   "outputs": [],
   "source": [
    "#Load Image as BW\n",
    "Im=np.asarray(Image.open('./img/guitar.jpg').convert('L'))\n",
    "Img = np.array(Image.fromarray(np.uint8(Im)))"
   ]
  },
  {
   "cell_type": "markdown",
   "metadata": {},
   "source": [
    "## Convolution with Sobel Kernels"
   ]
  },
  {
   "cell_type": "code",
   "execution_count": 16,
   "metadata": {},
   "outputs": [],
   "source": [
    "imageSobelXR=Convolution2D(I[:,:,0],SobelX);\n",
    "imageSobelYR=Convolution2D(I[:,:,0],SobelY);\n",
    "imageSobelR=np.sqrt(imageSobelXR**2+imageSobelYR**2)\n",
    "\n",
    "imageSobelXG=Convolution2D(I[:,:,1],SobelX);\n",
    "imageSobelYG=Convolution2D(I[:,:,1],SobelY);\n",
    "imageSobelG=np.sqrt(imageSobelXG**2+imageSobelYG**2)\n",
    "\n",
    "imageSobelXB=Convolution2D(I[:,:,2],SobelX);\n",
    "imageSobelYB=Convolution2D(I[:,:,2],SobelY);\n",
    "imageSobelB=np.sqrt(imageSobelXB**2+imageSobelYB**2)\n",
    "\n",
    "#1 Channel BW\n",
    "imageSobelX=Convolution2D(Img,SobelX);\n",
    "imageSobelY=Convolution2D(Img,SobelY);\n",
    "imageSobel=np.sqrt(imageSobelX**2+imageSobelY**2)"
   ]
  },
  {
   "cell_type": "markdown",
   "metadata": {},
   "source": [
    "## Normalization"
   ]
  },
  {
   "cell_type": "code",
   "execution_count": 17,
   "metadata": {},
   "outputs": [],
   "source": [
    "#Normalize arrays\n",
    "imageSobelR=normalize(imageSobelR)\n",
    "imageSobelG=normalize(imageSobelG)\n",
    "imageSobelB=normalize(imageSobelB)\n",
    "\n",
    "imageSobel=normalize(imageSobel)"
   ]
  },
  {
   "cell_type": "markdown",
   "metadata": {},
   "source": [
    "## Reverse Colors"
   ]
  },
  {
   "cell_type": "code",
   "execution_count": 18,
   "metadata": {},
   "outputs": [],
   "source": [
    "# Reverse\n",
    "imageSobelR=255-imageSobelR\n",
    "imageSobelG=255-imageSobelG\n",
    "imageSobelB=255-imageSobelB"
   ]
  },
  {
   "cell_type": "code",
   "execution_count": 19,
   "metadata": {},
   "outputs": [],
   "source": [
    "# Stack RGB back to Image\n",
    "edgeImageSobel=np.stack((imageSobelR,imageSobelG,imageSobelB), axis=2).astype(np.uint8)"
   ]
  },
  {
   "cell_type": "markdown",
   "metadata": {},
   "source": [
    "## Display Edge Detection Sobel"
   ]
  },
  {
   "cell_type": "code",
   "execution_count": 20,
   "metadata": {},
   "outputs": [
    {
     "data": {
      "image/png": "[encoded data removed]",
      "text/plain": [
       "<Figure size 432x288 with 1 Axes>"
      ]
     },
     "metadata": {
      "needs_background": "light"
     },
     "output_type": "display_data"
    }
   ],
   "source": [
    "# Display Edge Detection Filtered Image\n",
    "plt.figure()\n",
    "plt.axis('off')\n",
    "plt.imshow(edgeImageSobel);"
   ]
  },
  {
   "cell_type": "code",
   "execution_count": 21,
   "metadata": {},
   "outputs": [
    {
     "data": {
      "image/png": "[encoded data removed]",
      "text/plain": [
       "<Figure size 432x288 with 1 Axes>"
      ]
     },
     "metadata": {
      "needs_background": "light"
     },
     "output_type": "display_data"
    }
   ],
   "source": [
    "# Display Edge Detection Filtered Image\n",
    "plt.figure()\n",
    "plt.axis('off')\n",
    "plt.imshow(imageSobel, cmap=\"gray_r\");"
   ]
  },
  {
   "cell_type": "code",
   "execution_count": 22,
   "metadata": {},
   "outputs": [
    {
     "data": {
      "text/plain": [
       "<matplotlib.image.AxesImage at 0x7f4b9d99bb70>"
      ]
     },
     "execution_count": 22,
     "metadata": {},
     "output_type": "execute_result"
    },
    {
     "data": {
      "image/png": "[encoded data removed]",
      "text/plain": [
       "<Figure size 432x288 with 1 Axes>"
      ]
     },
     "metadata": {
      "needs_background": "light"
     },
     "output_type": "display_data"
    }
   ],
   "source": [
    "#Display Original Image\n",
    "plt.figure()\n",
    "plt.axis(\"off\")\n",
    "plt.imshow(im)"
   ]
  },
  {
   "cell_type": "code",
   "execution_count": null,
   "metadata": {},
   "outputs": [],
   "source": []
  }
 ],
 "metadata": {
  "kernelspec": {
   "display_name": "Python 3",
   "language": "python",
   "name": "python3"
  },
  "language_info": {
   "codemirror_mode": {
    "name": "ipython",
    "version": 3
   },
   "file_extension": ".py",
   "mimetype": "text/x-python",
   "name": "python",
   "nbconvert_exporter": "python",
   "pygments_lexer": "ipython3",
   "version": "3.6.8"
  }
 },
 "nbformat": 4,
 "nbformat_minor": 2
}
