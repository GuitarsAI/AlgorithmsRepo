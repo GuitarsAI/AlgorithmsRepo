{
 "cells": [
  {
   "cell_type": "code",
   "execution_count": 1,
   "metadata": {},
   "outputs": [],
   "source": [
    "import math\n",
    "import json"
   ]
  },
  {
   "cell_type": "code",
   "execution_count": 3,
   "metadata": {},
   "outputs": [],
   "source": [
    "REQUEST = json.dumps({\n",
    "    'path' : {},\n",
    "    'args' : {}\n",
    "})"
   ]
  },
  {
   "cell_type": "code",
   "execution_count": 4,
   "metadata": {},
   "outputs": [
    {
     "name": "stdout",
     "output_type": "stream",
     "text": [
      "{\"convertedAngle\": null}\n"
     ]
    }
   ],
   "source": [
    "# GET /convert\n",
    "req = json.loads(REQUEST)\n",
    "args = req['args']\n",
    "\n",
    "if 'angle' not in args:\n",
    "  print(json.dumps({'convertedAngle': None}))\n",
    "else:\n",
    "  # Note the [0] when retrieving the argument.\n",
    "  # This is because you could potentially pass multiple angles.\n",
    "  angle = int(args['angle'][0])\n",
    "  converted = math.radians(angle)\n",
    "  print(json.dumps({'convertedAngle': converted}))"
   ]
  },
  {
   "cell_type": "code",
   "execution_count": null,
   "metadata": {},
   "outputs": [],
   "source": []
  }
 ],
 "metadata": {
  "kernelspec": {
   "display_name": "Python 3",
   "language": "python",
   "name": "python3"
  },
  "language_info": {
   "codemirror_mode": {
    "name": "ipython",
    "version": 3
   },
   "file_extension": ".py",
   "mimetype": "text/x-python",
   "name": "python",
   "nbconvert_exporter": "python",
   "pygments_lexer": "ipython3",
   "version": "3.6.8"
  }
 },
 "nbformat": 4,
 "nbformat_minor": 2
}
