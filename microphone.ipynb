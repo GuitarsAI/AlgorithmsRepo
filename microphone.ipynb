{
  "nbformat": 4,
  "nbformat_minor": 0,
  "metadata": {
    "colab": {
      "name": "microphone.ipynb",
      "provenance": [],
      "collapsed_sections": []
    },
    "kernelspec": {
      "name": "python3",
      "display_name": "Python 3"
    }
  },
  "cells": [
    {
      "cell_type": "code",
      "metadata": {
        "id": "W1fL4ll3CYhd"
      },
      "source": [
        "!pip install pydub"
      ],
      "execution_count": null,
      "outputs": []
    },
    {
      "cell_type": "code",
      "metadata": {
        "id": "A6ZA_rsA-z72"
      },
      "source": [
        "import ipywidgets as widgets\r\n",
        "from IPython import display as disp\r\n",
        "from IPython.display import display, Audio, clear_output\r\n",
        "from google.colab import output\r\n",
        "import base64\r\n",
        "from pydub import AudioSegment\r\n",
        "import io\r\n",
        "import tempfile\r\n",
        "import librosa"
      ],
      "execution_count": null,
      "outputs": []
    },
    {
      "cell_type": "code",
      "metadata": {
        "id": "bS3MeG3P-JGV"
      },
      "source": [
        "#\r\n",
        "# original code: https://github.com/magenta/ddsp/blob/master/ddsp/colab/colab_utils.py\r\n",
        "#\r\n",
        "\r\n",
        "\r\n",
        "# Copyright 2020 The DDSP Authors.\r\n",
        "#\r\n",
        "# Licensed under the Apache License, Version 2.0 (the \"License\");\r\n",
        "# you may not use this file except in compliance with the License.\r\n",
        "# You may obtain a copy of the License at\r\n",
        "#\r\n",
        "#     http://www.apache.org/licenses/LICENSE-2.0\r\n",
        "#\r\n",
        "# Unless required by applicable law or agreed to in writing, software\r\n",
        "# distributed under the License is distributed on an \"AS IS\" BASIS,\r\n",
        "# WITHOUT WARRANTIES OR CONDITIONS OF ANY KIND, either express or implied.\r\n",
        "# See the License for the specific language governing permissions and\r\n",
        "# limitations under the License.\r\n",
        "\r\n",
        "def record_audio(seconds=3,\r\n",
        "                 sample_rate=44100,\r\n",
        "                 normalize_db=0.1):\r\n",
        "    \"\"\"Record audio from the browser in colab using javascript.\r\n",
        "    Based on: https://gist.github.com/korakot/c21c3476c024ad6d56d5f48b0bca92be\r\n",
        "    Args:\r\n",
        "      seconds: Number of seconds to record.\r\n",
        "      sample_rate: Resample recorded audio to this sample rate.\r\n",
        "      normalize_db: Normalize the audio to this many decibels. Set to None to skip\r\n",
        "        normalization step.\r\n",
        "    Returns:\r\n",
        "      An array of the recorded audio at sample_rate.\r\n",
        "    \"\"\"\r\n",
        "    # Use Javascript to record audio.\r\n",
        "    record_js_code = \"\"\"\r\n",
        "      const sleep  = time => new Promise(resolve => setTimeout(resolve, time))\r\n",
        "      const b2text = blob => new Promise(resolve => {\r\n",
        "        const reader = new FileReader()\r\n",
        "        reader.onloadend = e => resolve(e.srcElement.result)\r\n",
        "        reader.readAsDataURL(blob)\r\n",
        "      })\r\n",
        "      var record = time => new Promise(async resolve => {\r\n",
        "        stream = await navigator.mediaDevices.getUserMedia({ audio: true })\r\n",
        "        recorder = new MediaRecorder(stream)\r\n",
        "        chunks = []\r\n",
        "        recorder.ondataavailable = e => chunks.push(e.data)\r\n",
        "        recorder.start()\r\n",
        "        await sleep(time)\r\n",
        "        recorder.onstop = async ()=>{\r\n",
        "          blob = new Blob(chunks)\r\n",
        "          text = await b2text(blob)\r\n",
        "          resolve(text)\r\n",
        "        }\r\n",
        "        recorder.stop()\r\n",
        "      })\r\n",
        "      \"\"\"\r\n",
        "    print('Starting recording for {} seconds...'.format(seconds))\r\n",
        "    display(disp.Javascript(record_js_code))\r\n",
        "    audio_string = output.eval_js('record(%d)' % (seconds * 1000.0))\r\n",
        "    print('Finished recording!')\r\n",
        "    audio_bytes = base64.b64decode(audio_string.split(',')[1])\r\n",
        "    return audio_bytes_to_np(audio_bytes,\r\n",
        "                             sample_rate=sample_rate,\r\n",
        "                             normalize_db=normalize_db)\r\n",
        "    \r\n",
        "def audio_bytes_to_np(wav_data,\r\n",
        "                      sample_rate=44100,\r\n",
        "                      normalize_db=0.1):\r\n",
        "    \"\"\"Convert audio file data (in bytes) into a numpy array.\r\n",
        "    Saves to a tempfile and loads with librosa.\r\n",
        "    Args:\r\n",
        "      wav_data: A byte stream of audio data.\r\n",
        "      sample_rate: Resample recorded audio to this sample rate.\r\n",
        "      normalize_db: Normalize the audio to this many decibels. Set to None to skip\r\n",
        "        normalization step.\r\n",
        "    Returns:\r\n",
        "      An array of the recorded audio at sample_rate.\r\n",
        "    \"\"\"\r\n",
        "    # Parse and normalize the audio.\r\n",
        "    audio = AudioSegment.from_file(io.BytesIO(wav_data))\r\n",
        "    audio.remove_dc_offset()\r\n",
        "    if normalize_db is not None:\r\n",
        "        audio.normalize(headroom=normalize_db)\r\n",
        "    # Save to tempfile and load with librosa.\r\n",
        "    with tempfile.NamedTemporaryFile(suffix='.wav') as temp_wav_file:\r\n",
        "        fname = temp_wav_file.name\r\n",
        "        audio.export(fname, format='wav')\r\n",
        "        audio_np, unused_sr = librosa.load(fname, sr=sample_rate)\r\n",
        "    return audio_np"
      ],
      "execution_count": null,
      "outputs": []
    },
    {
      "cell_type": "code",
      "metadata": {
        "id": "gikjQSQP-mxH"
      },
      "source": [
        "#@title Record\r\n",
        "#@markdown * Set recording time:\r\n",
        "\r\n",
        "SAMPLE_RATE = 44100\r\n",
        "record_seconds =   10#@param {type:\"number\", min:1, max:10, step:1}\r\n",
        "\r\n",
        "def _record_audio(b):\r\n",
        "  clear_output()\r\n",
        "  audio = record_audio(record_seconds, sample_rate=SAMPLE_RATE)\r\n",
        "  display(Audio(audio, rate=SAMPLE_RATE))\r\n",
        "\r\n",
        "button = widgets.Button(description=\"Start recording...\")\r\n",
        "button.on_click(_record_audio)\r\n",
        "display(button)\r\n"
      ],
      "execution_count": null,
      "outputs": []
    },
    {
      "cell_type": "code",
      "metadata": {
        "id": "BiH7Mh1ADy74"
      },
      "source": [
        ""
      ],
      "execution_count": null,
      "outputs": []
    }
  ]
}