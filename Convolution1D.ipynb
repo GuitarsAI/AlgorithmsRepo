{
 "cells": [
  {
   "cell_type": "markdown",
   "metadata": {},
   "source": [
    "# The Convolution \n",
    "<p align=\"left\">\n",
    "<img src=\"./img/businesscard.jpg\" width=\"500px\" alt=\"Business Card\" align=\"left\" >\n",
    "</p>\n",
    "<br>\n",
    "\n",
    "[www.rptecnologias.com](http://www.rptecnologias.com)\n",
    "<br>\n",
    "guitars.ai@rptecnologias.com"
   ]
  },
  {
   "cell_type": "markdown",
   "metadata": {},
   "source": [
    "## Python: Imports and Configuration"
   ]
  },
  {
   "cell_type": "code",
   "execution_count": 1,
   "metadata": {},
   "outputs": [],
   "source": [
    "# General Imports\n",
    "import numpy as np\n",
    "import scipy.signal as signal\n",
    "\n",
    "#Display ang Plots\n",
    "%matplotlib notebook\n",
    "import matplotlib.pyplot as plt\n",
    "from IPython.core.display import HTML, display\n",
    "from displayUtils import show_web\n",
    "\n",
    "# Logging & Debbuging\n",
    "import logging"
   ]
  },
  {
   "cell_type": "code",
   "execution_count": 2,
   "metadata": {},
   "outputs": [],
   "source": [
    "# Logging Configuration\n",
    "import sys\n",
    "# Create logger\n",
    "logging.basicConfig(format='%(levelname)s : %(message)s', level=logging.INFO)\n",
    "logger = logging.getLogger()\n",
    "\n",
    "# Create STDERR handler\n",
    "handler = logging.StreamHandler(sys.stderr)\n",
    "\n",
    "# Set STDERR handler as the only handler \n",
    "logger.handlers = [handler]"
   ]
  },
  {
   "cell_type": "markdown",
   "metadata": {},
   "source": [
    "## The Convolution\n",
    "\n",
    "$$ \n",
    "\\Large\n",
    "\\begin{equation}\n",
    "\\left(f*g \\right) \\left[n \\right] =  \\sum_{m=-\\infty}^{+\\infty}f\\left[m \\right] \\cdot g\\left[n-m \\right]\n",
    "\\end{equation}$$"
   ]
  },
  {
   "cell_type": "code",
   "execution_count": 3,
   "metadata": {},
   "outputs": [
    {
     "data": {
      "text/html": [
       "<center><iframe src=\"https://en.wikipedia.org/wiki/Convolution#Discrete_convolution\" width=\"800\" height=\"600\" frameborder=\"0\" marginheight=\"0\" marginwidth=\"0\">Loading...</iframe></center>"
      ],
      "text/plain": [
       "<IPython.core.display.HTML object>"
      ]
     },
     "metadata": {},
     "output_type": "display_data"
    }
   ],
   "source": [
    "show_web(\"https://en.wikipedia.org/wiki/Convolution#Discrete_convolution\")"
   ]
  },
  {
   "cell_type": "code",
   "execution_count": 4,
   "metadata": {},
   "outputs": [
    {
     "name": "stdout",
     "output_type": "stream",
     "text": [
      "f[n]= [1 2 3 4 5]\n",
      "g[n]= [10 20 30 40 50 60]\n"
     ]
    }
   ],
   "source": [
    "# Arrays for Testing\n",
    "f=np.array([1,2,3,4,5])\n",
    "print('f[n]=',f)\n",
    "g=np.array([10,20,30,40,50,60])\n",
    "print('g[n]=',g)"
   ]
  },
  {
   "cell_type": "markdown",
   "metadata": {},
   "source": [
    "## Numpy Convolution"
   ]
  },
  {
   "cell_type": "code",
   "execution_count": 5,
   "metadata": {},
   "outputs": [
    {
     "name": "stdout",
     "output_type": "stream",
     "text": [
      "y[n]=(f*g)[n]= [ 10  40 100 200 350 500 580 580 490 300]\n"
     ]
    }
   ],
   "source": [
    "# Numpy Convolution\n",
    "y=np.convolve(f,g,mode='full')\n",
    "print('y[n]=(f*g)[n]=',y)"
   ]
  },
  {
   "cell_type": "markdown",
   "metadata": {},
   "source": [
    "## Python: Convolution 1D"
   ]
  },
  {
   "cell_type": "code",
   "execution_count": 6,
   "metadata": {},
   "outputs": [],
   "source": [
    "# Define Convolution1D\n",
    "def Convolution1D(f,g, log=False):\n",
    "    if not log:\n",
    "        logger.setLevel(logging.ERROR)\n",
    "    else:\n",
    "        logger.setLevel(logging.INFO)\n",
    "    # Check the number of elements in the input arrays\n",
    "    # If g > f, swap the arrays\n",
    "    if (f.size<g.size):\n",
    "        logger.info(\"g[n] is bigger than f[n]. Swapping the arrays.\")\n",
    "        f, g = g , f\n",
    "    \n",
    "    #Create an empty array with zeros with the length of the longest array\n",
    "    #This function will return an array with the maximum number of elemets equalto\n",
    "    #the length of the longest array\n",
    "    logger.info(\"Creating an array with %d zeros.\"%f.size)\n",
    "    y=np.zeros(f.size+g.size-1)\n",
    "    logger.info(\"y[n]=%s\\n\",y)\n",
    "    \n",
    "    #Start calculating the convolution for each output element n\n",
    "    for n in range(y.size):\n",
    "        logger.info(\"\\nCalculating:\")\n",
    "        logger.info(\"y[%d]=\"%n)\n",
    "\n",
    "        for m in range(f.size):\n",
    "            if (n-m)<0 or (n-m)>=g.size:\n",
    "                y[n]+=f[m]*0\n",
    "                logger.info(\"f[%d]*g[%d-%d] = f[%d]*g[%d] = %d*%d = 0 +\"%(m,n,m,m,(n-m),f[m],0))\n",
    "            else:\n",
    "                # For the intervals where the signal is defined\n",
    "                y[n]+=f[m]*g[n-m]\n",
    "                logger.info(\"f[%d]*g[%d-%d] = f[%d]*g[%d] = %d*%d = %d +\"%(m,n,m,m,(n-m),f[m],g[n-m],f[m]*g[n-m]))\n",
    "        logger.info(\"=%d\"%y[n])\n",
    "        logger.info(\"Actual y[n]=%s\"%y)\n",
    "    return y"
   ]
  },
  {
   "cell_type": "code",
   "execution_count": 7,
   "metadata": {},
   "outputs": [
    {
     "name": "stderr",
     "output_type": "stream",
     "text": [
      "Creating an array with 6 zeros.\n",
      "y[n]=[0. 0. 0. 0. 0. 0. 0. 0. 0. 0.]\n",
      "\n",
      "\n",
      "Calculating:\n",
      "y[0]=\n",
      "f[0]*g[0-0] = f[0]*g[0] = 10*1 = 10 +\n",
      "f[1]*g[0-1] = f[1]*g[-1] = 20*0 = 0 +\n",
      "f[2]*g[0-2] = f[2]*g[-2] = 30*0 = 0 +\n",
      "f[3]*g[0-3] = f[3]*g[-3] = 40*0 = 0 +\n",
      "f[4]*g[0-4] = f[4]*g[-4] = 50*0 = 0 +\n",
      "f[5]*g[0-5] = f[5]*g[-5] = 60*0 = 0 +\n",
      "=10\n",
      "Actual y[n]=[10.  0.  0.  0.  0.  0.  0.  0.  0.  0.]\n",
      "\n",
      "Calculating:\n",
      "y[1]=\n",
      "f[0]*g[1-0] = f[0]*g[1] = 10*2 = 20 +\n",
      "f[1]*g[1-1] = f[1]*g[0] = 20*1 = 20 +\n",
      "f[2]*g[1-2] = f[2]*g[-1] = 30*0 = 0 +\n",
      "f[3]*g[1-3] = f[3]*g[-2] = 40*0 = 0 +\n",
      "f[4]*g[1-4] = f[4]*g[-3] = 50*0 = 0 +\n",
      "f[5]*g[1-5] = f[5]*g[-4] = 60*0 = 0 +\n",
      "=40\n",
      "Actual y[n]=[10. 40.  0.  0.  0.  0.  0.  0.  0.  0.]\n",
      "\n",
      "Calculating:\n",
      "y[2]=\n",
      "f[0]*g[2-0] = f[0]*g[2] = 10*3 = 30 +\n",
      "f[1]*g[2-1] = f[1]*g[1] = 20*2 = 40 +\n",
      "f[2]*g[2-2] = f[2]*g[0] = 30*1 = 30 +\n",
      "f[3]*g[2-3] = f[3]*g[-1] = 40*0 = 0 +\n",
      "f[4]*g[2-4] = f[4]*g[-2] = 50*0 = 0 +\n",
      "f[5]*g[2-5] = f[5]*g[-3] = 60*0 = 0 +\n",
      "=100\n",
      "Actual y[n]=[ 10.  40. 100.   0.   0.   0.   0.   0.   0.   0.]\n",
      "\n",
      "Calculating:\n",
      "y[3]=\n",
      "f[0]*g[3-0] = f[0]*g[3] = 10*4 = 40 +\n",
      "f[1]*g[3-1] = f[1]*g[2] = 20*3 = 60 +\n",
      "f[2]*g[3-2] = f[2]*g[1] = 30*2 = 60 +\n",
      "f[3]*g[3-3] = f[3]*g[0] = 40*1 = 40 +\n",
      "f[4]*g[3-4] = f[4]*g[-1] = 50*0 = 0 +\n",
      "f[5]*g[3-5] = f[5]*g[-2] = 60*0 = 0 +\n",
      "=200\n",
      "Actual y[n]=[ 10.  40. 100. 200.   0.   0.   0.   0.   0.   0.]\n",
      "\n",
      "Calculating:\n",
      "y[4]=\n",
      "f[0]*g[4-0] = f[0]*g[4] = 10*5 = 50 +\n",
      "f[1]*g[4-1] = f[1]*g[3] = 20*4 = 80 +\n",
      "f[2]*g[4-2] = f[2]*g[2] = 30*3 = 90 +\n",
      "f[3]*g[4-3] = f[3]*g[1] = 40*2 = 80 +\n",
      "f[4]*g[4-4] = f[4]*g[0] = 50*1 = 50 +\n",
      "f[5]*g[4-5] = f[5]*g[-1] = 60*0 = 0 +\n",
      "=350\n",
      "Actual y[n]=[ 10.  40. 100. 200. 350.   0.   0.   0.   0.   0.]\n",
      "\n",
      "Calculating:\n",
      "y[5]=\n",
      "f[0]*g[5-0] = f[0]*g[5] = 10*0 = 0 +\n",
      "f[1]*g[5-1] = f[1]*g[4] = 20*5 = 100 +\n",
      "f[2]*g[5-2] = f[2]*g[3] = 30*4 = 120 +\n",
      "f[3]*g[5-3] = f[3]*g[2] = 40*3 = 120 +\n",
      "f[4]*g[5-4] = f[4]*g[1] = 50*2 = 100 +\n",
      "f[5]*g[5-5] = f[5]*g[0] = 60*1 = 60 +\n",
      "=500\n",
      "Actual y[n]=[ 10.  40. 100. 200. 350. 500.   0.   0.   0.   0.]\n",
      "\n",
      "Calculating:\n",
      "y[6]=\n",
      "f[0]*g[6-0] = f[0]*g[6] = 10*0 = 0 +\n",
      "f[1]*g[6-1] = f[1]*g[5] = 20*0 = 0 +\n",
      "f[2]*g[6-2] = f[2]*g[4] = 30*5 = 150 +\n",
      "f[3]*g[6-3] = f[3]*g[3] = 40*4 = 160 +\n",
      "f[4]*g[6-4] = f[4]*g[2] = 50*3 = 150 +\n",
      "f[5]*g[6-5] = f[5]*g[1] = 60*2 = 120 +\n",
      "=580\n",
      "Actual y[n]=[ 10.  40. 100. 200. 350. 500. 580.   0.   0.   0.]\n",
      "\n",
      "Calculating:\n",
      "y[7]=\n",
      "f[0]*g[7-0] = f[0]*g[7] = 10*0 = 0 +\n",
      "f[1]*g[7-1] = f[1]*g[6] = 20*0 = 0 +\n",
      "f[2]*g[7-2] = f[2]*g[5] = 30*0 = 0 +\n",
      "f[3]*g[7-3] = f[3]*g[4] = 40*5 = 200 +\n",
      "f[4]*g[7-4] = f[4]*g[3] = 50*4 = 200 +\n",
      "f[5]*g[7-5] = f[5]*g[2] = 60*3 = 180 +\n",
      "=580\n",
      "Actual y[n]=[ 10.  40. 100. 200. 350. 500. 580. 580.   0.   0.]\n",
      "\n",
      "Calculating:\n",
      "y[8]=\n",
      "f[0]*g[8-0] = f[0]*g[8] = 10*0 = 0 +\n",
      "f[1]*g[8-1] = f[1]*g[7] = 20*0 = 0 +\n",
      "f[2]*g[8-2] = f[2]*g[6] = 30*0 = 0 +\n",
      "f[3]*g[8-3] = f[3]*g[5] = 40*0 = 0 +\n",
      "f[4]*g[8-4] = f[4]*g[4] = 50*5 = 250 +\n",
      "f[5]*g[8-5] = f[5]*g[3] = 60*4 = 240 +\n",
      "=490\n",
      "Actual y[n]=[ 10.  40. 100. 200. 350. 500. 580. 580. 490.   0.]\n",
      "\n",
      "Calculating:\n",
      "y[9]=\n",
      "f[0]*g[9-0] = f[0]*g[9] = 10*0 = 0 +\n",
      "f[1]*g[9-1] = f[1]*g[8] = 20*0 = 0 +\n",
      "f[2]*g[9-2] = f[2]*g[7] = 30*0 = 0 +\n",
      "f[3]*g[9-3] = f[3]*g[6] = 40*0 = 0 +\n",
      "f[4]*g[9-4] = f[4]*g[5] = 50*0 = 0 +\n",
      "f[5]*g[9-5] = f[5]*g[4] = 60*5 = 300 +\n",
      "=300\n",
      "Actual y[n]=[ 10.  40. 100. 200. 350. 500. 580. 580. 490. 300.]\n"
     ]
    }
   ],
   "source": [
    "# Test Implemented Convolution\n",
    "y=Convolution1D(g,f, log=True)"
   ]
  },
  {
   "cell_type": "code",
   "execution_count": null,
   "metadata": {},
   "outputs": [],
   "source": []
  }
 ],
 "metadata": {
  "kernelspec": {
   "display_name": "Python 3",
   "language": "python",
   "name": "python3"
  },
  "language_info": {
   "codemirror_mode": {
    "name": "ipython",
    "version": 3
   },
   "file_extension": ".py",
   "mimetype": "text/x-python",
   "name": "python",
   "nbconvert_exporter": "python",
   "pygments_lexer": "ipython3",
   "version": "3.6.8"
  }
 },
 "nbformat": 4,
 "nbformat_minor": 2
}
