{
 "cells": [
  {
   "cell_type": "markdown",
   "metadata": {
    "kernel": "SoS"
   },
   "source": [
    "# The Convolution \n",
    "<p align=\"left\">\n",
    "<img src=\"./img/businesscard.jpg\" width=\"500px\" alt=\"Business Card\" align=\"left\" >\n",
    "</p>\n",
    "<br>\n",
    "\n",
    "[www.rptecnologias.com](http://www.rptecnologias.com)\n",
    "<br>\n",
    "guitars.ai@rptecnologias.com\n"
   ]
  },
  {
   "cell_type": "markdown",
   "metadata": {
    "kernel": "SoS"
   },
   "source": [
    "## Python: Imports and Configuration"
   ]
  },
  {
   "cell_type": "code",
   "execution_count": 1,
   "metadata": {
    "kernel": "Python3"
   },
   "outputs": [],
   "source": [
    "# General Imports\n",
    "import numpy as np\n",
    "import scipy.signal as signal\n",
    "\n",
    "#Display ang Plots\n",
    "#%matplotlib notebook\n",
    "import matplotlib.pyplot as plt\n",
    "from IPython.core.display import HTML, display\n",
    "\n",
    "# Logging & Debbuging\n",
    "import logging\n"
   ]
  },
  {
   "cell_type": "code",
   "execution_count": 2,
   "metadata": {
    "kernel": "Python3"
   },
   "outputs": [],
   "source": [
    "# Logging Configuration\n",
    "import sys\n",
    "# Create logger\n",
    "logging.basicConfig(format='%(levelname)s : %(message)s', level=logging.INFO)\n",
    "logger = logging.getLogger()\n",
    "\n",
    "# Create STDERR handler\n",
    "handler = logging.StreamHandler(sys.stderr)\n",
    "\n",
    "# Set STDERR handler as the only handler \n",
    "logger.handlers = [handler]"
   ]
  },
  {
   "cell_type": "code",
   "execution_count": 3,
   "metadata": {
    "kernel": "Python3"
   },
   "outputs": [],
   "source": [
    "# Function to Display a Website\n",
    "def show_web(url):\n",
    "    html_code='<center><iframe src=\"%s\" width=\"800\" height=\"600\" frameborder=\"0\" marginheight=\"0\" marginwidth=\"0\">Loading...</iframe></center>' \\\n",
    "\t\t% (url)\n",
    "    display(HTML(html_code))"
   ]
  },
  {
   "cell_type": "markdown",
   "metadata": {
    "kernel": "Python3"
   },
   "source": [
    "# The Convolution\n",
    "\n",
    "$$ \n",
    "\\Large\n",
    "\\begin{equation}\n",
    "\\left(f*g \\right) \\left[n \\right] =  \\sum_{m=-\\infty}^{+\\infty}f\\left[m \\right] \\cdot g\\left[n-m \\right]\n",
    "\\end{equation}$$"
   ]
  },
  {
   "cell_type": "code",
   "execution_count": 4,
   "metadata": {
    "kernel": "Python3"
   },
   "outputs": [
    {
     "data": {
      "text/html": [
       "<center><iframe src=\"https://en.wikipedia.org/wiki/Convolution#Discrete_convolution\" width=\"800\" height=\"600\" frameborder=\"0\" marginheight=\"0\" marginwidth=\"0\">Loading...</iframe></center>"
      ],
      "text/plain": [
       "<IPython.core.display.HTML object>"
      ]
     },
     "metadata": {},
     "output_type": "display_data"
    }
   ],
   "source": [
    "show_web(\"https://en.wikipedia.org/wiki/Convolution#Discrete_convolution\")"
   ]
  },
  {
   "cell_type": "code",
   "execution_count": 5,
   "metadata": {
    "kernel": "Python3"
   },
   "outputs": [
    {
     "name": "stdout",
     "output_type": "stream",
     "text": [
      "f[n]= [1 2 3 4 5]\n",
      "g[n]= [10 20 30 40 50 60]\n"
     ]
    }
   ],
   "source": [
    "# Arrays for Testing\n",
    "f=np.array([1,2,3,4,5])\n",
    "print('f[n]=',f)\n",
    "g=np.array([10,20,30,40,50,60])\n",
    "print('g[n]=',g)"
   ]
  },
  {
   "cell_type": "markdown",
   "metadata": {
    "kernel": "Python3"
   },
   "source": [
    "## Numpy Convolution"
   ]
  },
  {
   "cell_type": "code",
   "execution_count": 6,
   "metadata": {
    "kernel": "Python3"
   },
   "outputs": [
    {
     "name": "stdout",
     "output_type": "stream",
     "text": [
      "y[n]=(f*g)[n]= [ 10  40 100 200 350 500 580 580 490 300]\n"
     ]
    }
   ],
   "source": [
    "# Numpy Convolution\n",
    "y=np.convolve(f,g,mode='full')\n",
    "print('y[n]=(f*g)[n]=',y)"
   ]
  },
  {
   "cell_type": "markdown",
   "metadata": {
    "kernel": "Python3"
   },
   "source": [
    "## Python: Convolution 1D"
   ]
  },
  {
   "cell_type": "code",
   "execution_count": 7,
   "metadata": {
    "kernel": "Python3"
   },
   "outputs": [],
   "source": [
    "# Define Convolution1D\n",
    "def Convolution1D(f,g, log=False):\n",
    "    if not log:\n",
    "        logger.setLevel(logging.ERROR)\n",
    "    else:\n",
    "        logger.setLevel(logging.INFO)\n",
    "    # Check the number of elements in the input arrays\n",
    "    # If g > f, swap the arrays\n",
    "    if (f.size<g.size):\n",
    "        logger.info(\"g[n] is bigger than f[n]. Swapping the arrays.\")\n",
    "        f, g = g , f\n",
    "    \n",
    "    #Create an empty array with zeros with the length of the longest array\n",
    "    #This function will return an array with the maximum number of elemets equalto\n",
    "    #the length of the longest array\n",
    "    logger.info(\"Creating an array with %d zeros.\"%f.size)\n",
    "    y=np.zeros(f.size+g.size-1)\n",
    "    logger.info(\"y[n]=%s\\n\",y)\n",
    "    \n",
    "    #Start calculating the convolution for each output element n\n",
    "    for n in range(y.size):\n",
    "        logger.info(\"\\nCalculating:\")\n",
    "        logger.info(\"y[%d]=\"%n)\n",
    "\n",
    "        for m in range(f.size):\n",
    "            if (n-m)<0 or (n-m)>=g.size:\n",
    "                y[n]+=f[m]*0\n",
    "                logger.info(\"f[%d]*g[%d-%d] = f[%d]*g[%d] = %d*%d = 0 +\"%(m,n,m,m,(n-m),f[m],0))\n",
    "            else:\n",
    "                # For the intervals where the signal is defined\n",
    "                y[n]+=f[m]*g[n-m]\n",
    "                logger.info(\"f[%d]*g[%d-%d] = f[%d]*g[%d] = %d*%d = %d +\"%(m,n,m,m,(n-m),f[m],g[n-m],f[m]*g[n-m]))\n",
    "        logger.info(\"=%d\"%y[n])\n",
    "        logger.info(\"Actual y[n]=%s\"%y)\n",
    "    return y"
   ]
  },
  {
   "cell_type": "code",
   "execution_count": 8,
   "metadata": {
    "kernel": "Python3"
   },
   "outputs": [
    {
     "name": "stderr",
     "output_type": "stream",
     "text": [
      "Creating an array with 6 zeros.\n",
      "y[n]=[0. 0. 0. 0. 0. 0. 0. 0. 0. 0.]\n",
      "\n",
      "\n",
      "Calculating:\n",
      "y[0]=\n",
      "f[0]*g[0-0] = f[0]*g[0] = 10*1 = 10 +\n",
      "f[1]*g[0-1] = f[1]*g[-1] = 20*0 = 0 +\n",
      "f[2]*g[0-2] = f[2]*g[-2] = 30*0 = 0 +\n",
      "f[3]*g[0-3] = f[3]*g[-3] = 40*0 = 0 +\n",
      "f[4]*g[0-4] = f[4]*g[-4] = 50*0 = 0 +\n",
      "f[5]*g[0-5] = f[5]*g[-5] = 60*0 = 0 +\n",
      "=10\n",
      "Actual y[n]=[10.  0.  0.  0.  0.  0.  0.  0.  0.  0.]\n",
      "\n",
      "Calculating:\n",
      "y[1]=\n",
      "f[0]*g[1-0] = f[0]*g[1] = 10*2 = 20 +\n",
      "f[1]*g[1-1] = f[1]*g[0] = 20*1 = 20 +\n",
      "f[2]*g[1-2] = f[2]*g[-1] = 30*0 = 0 +\n",
      "f[3]*g[1-3] = f[3]*g[-2] = 40*0 = 0 +\n",
      "f[4]*g[1-4] = f[4]*g[-3] = 50*0 = 0 +\n",
      "f[5]*g[1-5] = f[5]*g[-4] = 60*0 = 0 +\n",
      "=40\n",
      "Actual y[n]=[10. 40.  0.  0.  0.  0.  0.  0.  0.  0.]\n",
      "\n",
      "Calculating:\n",
      "y[2]=\n",
      "f[0]*g[2-0] = f[0]*g[2] = 10*3 = 30 +\n",
      "f[1]*g[2-1] = f[1]*g[1] = 20*2 = 40 +\n",
      "f[2]*g[2-2] = f[2]*g[0] = 30*1 = 30 +\n",
      "f[3]*g[2-3] = f[3]*g[-1] = 40*0 = 0 +\n",
      "f[4]*g[2-4] = f[4]*g[-2] = 50*0 = 0 +\n",
      "f[5]*g[2-5] = f[5]*g[-3] = 60*0 = 0 +\n",
      "=100\n",
      "Actual y[n]=[ 10.  40. 100.   0.   0.   0.   0.   0.   0.   0.]\n",
      "\n",
      "Calculating:\n",
      "y[3]=\n",
      "f[0]*g[3-0] = f[0]*g[3] = 10*4 = 40 +\n",
      "f[1]*g[3-1] = f[1]*g[2] = 20*3 = 60 +\n",
      "f[2]*g[3-2] = f[2]*g[1] = 30*2 = 60 +\n",
      "f[3]*g[3-3] = f[3]*g[0] = 40*1 = 40 +\n",
      "f[4]*g[3-4] = f[4]*g[-1] = 50*0 = 0 +\n",
      "f[5]*g[3-5] = f[5]*g[-2] = 60*0 = 0 +\n",
      "=200\n",
      "Actual y[n]=[ 10.  40. 100. 200.   0.   0.   0.   0.   0.   0.]\n",
      "\n",
      "Calculating:\n",
      "y[4]=\n",
      "f[0]*g[4-0] = f[0]*g[4] = 10*5 = 50 +\n",
      "f[1]*g[4-1] = f[1]*g[3] = 20*4 = 80 +\n",
      "f[2]*g[4-2] = f[2]*g[2] = 30*3 = 90 +\n",
      "f[3]*g[4-3] = f[3]*g[1] = 40*2 = 80 +\n",
      "f[4]*g[4-4] = f[4]*g[0] = 50*1 = 50 +\n",
      "f[5]*g[4-5] = f[5]*g[-1] = 60*0 = 0 +\n",
      "=350\n",
      "Actual y[n]=[ 10.  40. 100. 200. 350.   0.   0.   0.   0.   0.]\n",
      "\n",
      "Calculating:\n",
      "y[5]=\n",
      "f[0]*g[5-0] = f[0]*g[5] = 10*0 = 0 +\n",
      "f[1]*g[5-1] = f[1]*g[4] = 20*5 = 100 +\n",
      "f[2]*g[5-2] = f[2]*g[3] = 30*4 = 120 +\n",
      "f[3]*g[5-3] = f[3]*g[2] = 40*3 = 120 +\n",
      "f[4]*g[5-4] = f[4]*g[1] = 50*2 = 100 +\n",
      "f[5]*g[5-5] = f[5]*g[0] = 60*1 = 60 +\n",
      "=500\n",
      "Actual y[n]=[ 10.  40. 100. 200. 350. 500.   0.   0.   0.   0.]\n",
      "\n",
      "Calculating:\n",
      "y[6]=\n",
      "f[0]*g[6-0] = f[0]*g[6] = 10*0 = 0 +\n",
      "f[1]*g[6-1] = f[1]*g[5] = 20*0 = 0 +\n",
      "f[2]*g[6-2] = f[2]*g[4] = 30*5 = 150 +\n",
      "f[3]*g[6-3] = f[3]*g[3] = 40*4 = 160 +\n",
      "f[4]*g[6-4] = f[4]*g[2] = 50*3 = 150 +\n",
      "f[5]*g[6-5] = f[5]*g[1] = 60*2 = 120 +\n",
      "=580\n",
      "Actual y[n]=[ 10.  40. 100. 200. 350. 500. 580.   0.   0.   0.]\n",
      "\n",
      "Calculating:\n",
      "y[7]=\n",
      "f[0]*g[7-0] = f[0]*g[7] = 10*0 = 0 +\n",
      "f[1]*g[7-1] = f[1]*g[6] = 20*0 = 0 +\n",
      "f[2]*g[7-2] = f[2]*g[5] = 30*0 = 0 +\n",
      "f[3]*g[7-3] = f[3]*g[4] = 40*5 = 200 +\n",
      "f[4]*g[7-4] = f[4]*g[3] = 50*4 = 200 +\n",
      "f[5]*g[7-5] = f[5]*g[2] = 60*3 = 180 +\n",
      "=580\n",
      "Actual y[n]=[ 10.  40. 100. 200. 350. 500. 580. 580.   0.   0.]\n",
      "\n",
      "Calculating:\n",
      "y[8]=\n",
      "f[0]*g[8-0] = f[0]*g[8] = 10*0 = 0 +\n",
      "f[1]*g[8-1] = f[1]*g[7] = 20*0 = 0 +\n",
      "f[2]*g[8-2] = f[2]*g[6] = 30*0 = 0 +\n",
      "f[3]*g[8-3] = f[3]*g[5] = 40*0 = 0 +\n",
      "f[4]*g[8-4] = f[4]*g[4] = 50*5 = 250 +\n",
      "f[5]*g[8-5] = f[5]*g[3] = 60*4 = 240 +\n",
      "=490\n",
      "Actual y[n]=[ 10.  40. 100. 200. 350. 500. 580. 580. 490.   0.]\n",
      "\n",
      "Calculating:\n",
      "y[9]=\n",
      "f[0]*g[9-0] = f[0]*g[9] = 10*0 = 0 +\n",
      "f[1]*g[9-1] = f[1]*g[8] = 20*0 = 0 +\n",
      "f[2]*g[9-2] = f[2]*g[7] = 30*0 = 0 +\n",
      "f[3]*g[9-3] = f[3]*g[6] = 40*0 = 0 +\n",
      "f[4]*g[9-4] = f[4]*g[5] = 50*0 = 0 +\n",
      "f[5]*g[9-5] = f[5]*g[4] = 60*5 = 300 +\n",
      "=300\n",
      "Actual y[n]=[ 10.  40. 100. 200. 350. 500. 580. 580. 490. 300.]\n"
     ]
    }
   ],
   "source": [
    "# Test Implemented Convolution\n",
    "y=Convolution1D(g,f, log=True)"
   ]
  },
  {
   "cell_type": "markdown",
   "metadata": {
    "kernel": "Python3"
   },
   "source": [
    "## Javascript: Convolution 1D"
   ]
  },
  {
   "cell_type": "code",
   "execution_count": 9,
   "metadata": {
    "kernel": "JavaScript"
   },
   "outputs": [],
   "source": [
    "// Function Convolution1D\n",
    "function Convolution1D(f,g)\n",
    "{\n",
    "        \n",
    "        // Define output matrix with zeros\n",
    "        var y = new Array(f.length+g.length-1).fill(0);\n",
    "        \n",
    "        // Convolution\n",
    "        for (n=0;n<f.length;++n)\n",
    "        {\n",
    "            for(m=0;m<g.length;++m)\n",
    "            {\n",
    "                \n",
    "                y[m+n]+=f[n]*g[m];\n",
    "            }\n",
    "        }\n",
    "        return y;\n",
    "}"
   ]
  },
  {
   "cell_type": "code",
   "execution_count": 10,
   "metadata": {
    "kernel": "JavaScript"
   },
   "outputs": [
    {
     "name": "stdout",
     "output_type": "stream",
     "text": [
      "[ 10, 40, 100, 200, 350, 500, 580, 580, 490, 300 ]\n",
      "[ 10, 40, 100, 200, 350, 500, 580, 580, 490, 300 ]\n"
     ]
    }
   ],
   "source": [
    "// Test Convolution1D\n",
    "console.log(Convolution1D([1,2,3,4,5],[10,20,30,40,50,60]))\n",
    "console.log(Convolution1D([10,20,30,40,50,60],[1,2,3,4,5]))"
   ]
  },
  {
   "cell_type": "markdown",
   "metadata": {
    "kernel": "JavaScript"
   },
   "source": [
    "## Java: Convolution 1D"
   ]
  },
  {
   "cell_type": "code",
   "execution_count": 11,
   "metadata": {
    "kernel": "java"
   },
   "outputs": [],
   "source": [
    "// Imports\n",
    "import java.util.Arrays;\n"
   ]
  },
  {
   "cell_type": "code",
   "execution_count": 12,
   "metadata": {
    "kernel": "java"
   },
   "outputs": [],
   "source": [
    "// Define Convolution1D\n",
    "public static double[] Convolution1D (double f[], double g[])\n",
    "{\n",
    "    // Initialize output array with zeros\n",
    "    double y[] = new double[f.length+g.length-1];\n",
    "    \n",
    "    //Convolution\n",
    "    for (int n=0; n < f.length; ++n)\n",
    "    {\n",
    "        for(int m=0; m<g.length;++m)\n",
    "            {\n",
    "                y[m+n]+=f[n]*g[m];\n",
    "            }\n",
    "    \n",
    "    }\n",
    "     \n",
    "     \n",
    "    return y;\n",
    "    \n",
    "}"
   ]
  },
  {
   "cell_type": "code",
   "execution_count": 13,
   "metadata": {
    "kernel": "java"
   },
   "outputs": [
    {
     "name": "stdout",
     "output_type": "stream",
     "text": [
      "[10.0, 40.0, 100.0, 200.0, 350.0, 500.0, 580.0, 580.0, 490.0, 300.0]\n"
     ]
    }
   ],
   "source": [
    "// Test Convolution 1D\n",
    "double[] f = {1,2,3,4,5};\n",
    "double[] g = {10,20,30,40,50,60};\n",
    "System.out.println(Arrays.toString(Convolution1D(f, g)));"
   ]
  },
  {
   "cell_type": "markdown",
   "metadata": {
    "kernel": "java"
   },
   "source": [
    "## C++: Convolution 1D"
   ]
  },
  {
   "cell_type": "code",
   "execution_count": 14,
   "metadata": {
    "kernel": "xeus-cling-cpp14"
   },
   "outputs": [],
   "source": [
    "// Includes\n",
    "#include <vector>\n",
    "using namespace std;"
   ]
  },
  {
   "cell_type": "code",
   "execution_count": 15,
   "metadata": {
    "kernel": "xeus-cling-cpp14"
   },
   "outputs": [],
   "source": [
    "// Define Convolution1D\n",
    "void Convolution1D (double *f, int fLEN, double *g, int gLEN, double *y)\n",
    "{\n",
    "    for (int n=0; n < fLEN; n++)\n",
    "    {\n",
    "        for (int m=0; m < gLEN; m++)\n",
    "        {\n",
    "            y[n+m] +=  f[n]*g[m];\n",
    "        }\n",
    "    }\n",
    "}"
   ]
  },
  {
   "cell_type": "code",
   "execution_count": 16,
   "metadata": {
    "kernel": "xeus-cling-cpp14"
   },
   "outputs": [
    {
     "data": {
      "text/plain": [
       "{ 10, 40, 100, 200, 350, 500, 580, 580, 490, 300 }"
      ]
     },
     "execution_count": 16,
     "metadata": {},
     "output_type": "execute_result"
    }
   ],
   "source": [
    "// Test Convolution 1D\n",
    "double f[] = {10,20,30,40,50,60};\n",
    "const int fLEN=sizeof(f)/sizeof(f[0]);\n",
    "double g[] = {1,2,3,4,5};\n",
    "const int gLEN=sizeof(g)/sizeof(g[0]);\n",
    "double y[fLEN+gLEN-1]= {};\n",
    "Convolution1D (&f[0],fLEN,&g[0], gLEN, &y[0]);\n",
    "y"
   ]
  },
  {
   "cell_type": "code",
   "execution_count": 17,
   "metadata": {
    "kernel": "xeus-cling-cpp14"
   },
   "outputs": [],
   "source": [
    "// Define Convolution1D Vector\n",
    "std::vector<double> Convolution1D_Vec(vector<double> &f, vector<double> &g)\n",
    "{\n",
    "    //Initialize output vector\n",
    "    std::vector<double> y(f.size()+g.size()-1, 0.0);\n",
    "    \n",
    "    \n",
    "    for(auto fn = f.begin(); fn != f.end();fn++)\n",
    "    {    \n",
    "        for(auto gm = g.begin();gm != g.end();gm++)\n",
    "        {\n",
    "             y[distance(f.begin(),fn)+distance(g.begin(),gm)]+= (*fn)*(*gm);\n",
    "        }\n",
    "    }\n",
    "    return y;\n",
    "    \n",
    "}"
   ]
  },
  {
   "cell_type": "code",
   "execution_count": 18,
   "metadata": {
    "kernel": "xeus-cling-cpp14"
   },
   "outputs": [
    {
     "data": {
      "text/plain": [
       "{ 10, 40, 100, 200, 350, 500, 580, 580, 490, 300 }"
      ]
     },
     "execution_count": 18,
     "metadata": {},
     "output_type": "execute_result"
    }
   ],
   "source": [
    "// Test Convolution1D Vector\n",
    " vector<double> f_vec = {1,2,3,4,5};\n",
    " vector<double> g_vec = {10,20,30,40,50,60};\n",
    " Convolution1D_Vec(f_vec,g_vec)"
   ]
  },
  {
   "cell_type": "code",
   "execution_count": null,
   "metadata": {
    "kernel": "xeus-cling-cpp14"
   },
   "outputs": [],
   "source": []
  }
 ],
 "metadata": {
  "kernelspec": {
   "display_name": "SoS",
   "language": "sos",
   "name": "sos"
  },
  "language_info": {
   "codemirror_mode": "sos",
   "file_extension": ".sos",
   "mimetype": "text/x-sos",
   "name": "sos",
   "nbconvert_exporter": "sos_notebook.converter.SoS_Exporter",
   "pygments_lexer": "sos"
  },
  "sos": {
   "kernels": [
    [
     "JavaScript",
     "javascript",
     "JavaScript",
     "#c8e1ae",
     ""
    ],
    [
     "Python3",
     "python3",
     "Python3",
     "#FFD91A",
     {
      "name": "ipython",
      "version": 3
     }
    ],
    [
     "java",
     "java",
     "java",
     "",
     "java"
    ],
    [
     "xeus-cling-cpp14",
     "xeus-cling-cpp14",
     "C++14",
     "",
     "text/x-c++src"
    ]
   ],
   "panel": {
    "displayed": false,
    "height": 0
   },
   "version": "0.18.5"
  }
 },
 "nbformat": 4,
 "nbformat_minor": 2
}
