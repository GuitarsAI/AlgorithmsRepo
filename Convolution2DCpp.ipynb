{
 "cells": [
  {
   "cell_type": "markdown",
   "metadata": {
    "kernel": "SoS"
   },
   "source": [
    "# C++: Convolution 2D\n",
    "<p align=\"left\">\n",
    "<img src=\"./img/businesscard.jpg\" width=\"500px\" alt=\"Business Card\" align=\"left\" >\n",
    "</p>\n",
    "<br>\n",
    "\n",
    "[www.rptecnologias.com](http://www.rptecnologias.com)\n",
    "<br>\n",
    "guitars.ai@rptecnologias.com\n"
   ]
  },
  {
   "cell_type": "code",
   "execution_count": 1,
   "metadata": {
    "kernel": "xeus-cling-cpp14"
   },
   "outputs": [],
   "source": [
    "// Includes\n",
    "#include <vector>\n",
    "typedef std::vector<std::vector<double>> matrix;\n",
    "using namespace std;"
   ]
  },
  {
   "cell_type": "code",
   "execution_count": 2,
   "metadata": {
    "kernel": "xeus-cling-cpp14"
   },
   "outputs": [],
   "source": [
    "// Define Convolution2D Vector\n",
    "matrix Convolution2D(matrix &f, matrix &g)\n",
    "{\n",
    "    //Initialize output vector\n",
    "    matrix result(f.size()+g.size()-1, std::vector<double>(f[0].size()+g[0].size()-1,0.0));\n",
    "    \n",
    "    \n",
    "    for(auto fx = f.begin(); fx != f.end();fx++)\n",
    "    {    \n",
    "        for(auto fy = fx->begin(); fy != fx->end();fy++)\n",
    "        {\n",
    "            for(auto gi = g.begin(); gi != g.end(); gi++)\n",
    "            {\n",
    "                for (auto gj = gi->begin(); gj != gi->end(); gj++)\n",
    "                {\n",
    "                    result[distance(f.begin(),fx)+distance(g.begin(),gi)][distance(fx->begin(),fy)+distance(gi->begin(),gj)]+= (*fy)*(*gj);\n",
    "                }\n",
    "            }\n",
    "        }\n",
    "    \n",
    "    }\n",
    "    return result;  \n",
    "}"
   ]
  },
  {
   "cell_type": "code",
   "execution_count": 3,
   "metadata": {
    "kernel": "xeus-cling-cpp14"
   },
   "outputs": [],
   "source": [
    "//Test Convolution 2D\n",
    "matrix f = {{1,1,1,1,1,1,1,1}, {1,3,3,3,3,3,3,1}, {1,3,1,1,3,1,1,1}, {1,3,3,3,3,3,3,1}, {1,3,1,1,3,1,1,1},{1,1,1,1,1,1,1,1}};\n",
    "matrix g = {{-1,-1,-1},{2,2,2}, {-1,-1,-1}};"
   ]
  },
  {
   "cell_type": "code",
   "execution_count": 4,
   "metadata": {
    "kernel": "xeus-cling-cpp14"
   },
   "outputs": [
    {
     "data": {
      "text/plain": [
       "{ { -1, -2, -3, -3, -3, -3, -3, -3, -2, -1 }, { 1, 0, -1, -3, -3, -3, -3, -1, 0, 1 }, { 0, 2, 6, 10, 10, 10, 10, 8, 4, 0 }, { 0, 0, -4, -8, -8, -8, -8, -8, -4, 0 }, { 0, 0, 4, 8, 8, 8, 8, 8, 4, 0 }, { 0, 2, 0, -2, -2, -2, -2, -4, -2, 0 }, { 1, 0, 1, 1, 1, 1, 1, 3, 2, 1 }, { -1, -2, -3, -3, -3, -3, -3, -3, -2, -1 } }"
      ]
     },
     "execution_count": 4,
     "metadata": {},
     "output_type": "execute_result"
    }
   ],
   "source": [
    "Convolution2D(g,f)"
   ]
  },
  {
   "cell_type": "code",
   "execution_count": null,
   "metadata": {
    "kernel": "xeus-cling-cpp14"
   },
   "outputs": [],
   "source": []
  }
 ],
 "metadata": {
  "kernelspec": {
   "display_name": "SoS",
   "language": "sos",
   "name": "sos"
  },
  "language_info": {
   "codemirror_mode": "sos",
   "file_extension": ".sos",
   "mimetype": "text/x-sos",
   "name": "sos",
   "nbconvert_exporter": "sos_notebook.converter.SoS_Exporter",
   "pygments_lexer": "sos"
  },
  "sos": {
   "kernels": [
    [
     "xeus-cling-cpp14",
     "xeus-cling-cpp14",
     "C++14",
     "",
     ""
    ]
   ],
   "panel": {
    "displayed": false,
    "height": 0
   },
   "version": "0.18.5"
  }
 },
 "nbformat": 4,
 "nbformat_minor": 2
}
