{
 "cells": [
  {
   "cell_type": "markdown",
   "metadata": {},
   "source": [
    "# The Convolution \n",
    "<p align=\"left\">\n",
    "<img src=\"./img/businesscard.jpg\" width=\"500px\" alt=\"Business Card\" align=\"left\" >\n",
    "</p>\n",
    "<br>\n",
    "\n",
    "[www.rptecnologias.com](http://www.rptecnologias.com)\n",
    "<br>\n",
    "guitars.ai@rptecnologias.com\n"
   ]
  },
  {
   "cell_type": "code",
   "execution_count": 1,
   "metadata": {},
   "outputs": [],
   "source": [
    "// Function Convolution1D\n",
    "function Convolution1D(f,g)\n",
    "{\n",
    "        \n",
    "        // Define output matrix with zeros\n",
    "        var y = new Array(f.length+g.length-1).fill(0);\n",
    "        \n",
    "        // Convolution\n",
    "        for (n=0;n<f.length;++n)\n",
    "        {\n",
    "            for(m=0;m<g.length;++m)\n",
    "            {\n",
    "                \n",
    "                y[m+n]+=f[n]*g[m];\n",
    "            }\n",
    "        }\n",
    "        return y;\n",
    "}"
   ]
  },
  {
   "cell_type": "code",
   "execution_count": 2,
   "metadata": {},
   "outputs": [
    {
     "name": "stdout",
     "output_type": "stream",
     "text": [
      "[ 10, 40, 100, 200, 350, 500, 580, 580, 490, 300 ]\n",
      "[ 10, 40, 100, 200, 350, 500, 580, 580, 490, 300 ]\n"
     ]
    }
   ],
   "source": [
    "// Test Convolution1D\n",
    "console.log(Convolution1D([1,2,3,4,5],[10,20,30,40,50,60]))\n",
    "console.log(Convolution1D([10,20,30,40,50,60],[1,2,3,4,5]))"
   ]
  },
  {
   "cell_type": "code",
   "execution_count": null,
   "metadata": {},
   "outputs": [],
   "source": []
  }
 ],
 "metadata": {
  "kernelspec": {
   "display_name": "Javascript (Node.js)",
   "language": "javascript",
   "name": "javascript"
  },
  "language_info": {
   "file_extension": ".js",
   "mimetype": "application/javascript",
   "name": "javascript",
   "version": "11.9.0"
  }
 },
 "nbformat": 4,
 "nbformat_minor": 2
}
