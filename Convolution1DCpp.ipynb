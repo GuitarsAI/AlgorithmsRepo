{
 "cells": [
  {
   "cell_type": "markdown",
   "metadata": {
    "kernel": "SoS"
   },
   "source": [
    "# C++: Convolution 1D\n",
    "<p align=\"left\">\n",
    "<img src=\"./img/businesscard.jpg\" width=\"500px\" alt=\"Business Card\" align=\"left\" >\n",
    "</p>\n",
    "<br>\n",
    "\n",
    "[www.rptecnologias.com](http://www.rptecnologias.com)\n",
    "<br>\n",
    "guitars.ai@rptecnologias.com"
   ]
  },
  {
   "cell_type": "code",
   "execution_count": 1,
   "metadata": {
    "kernel": "xeus-cling-cpp14"
   },
   "outputs": [],
   "source": [
    "// Includes\n",
    "#include <vector>\n",
    "using namespace std;"
   ]
  },
  {
   "cell_type": "code",
   "execution_count": 2,
   "metadata": {
    "kernel": "xeus-cling-cpp14"
   },
   "outputs": [],
   "source": [
    "// Define Convolution1D\n",
    "void Convolution1D (double *f, int fLEN, double *g, int gLEN, double *y)\n",
    "{\n",
    "    for (int n=0; n < fLEN; n++)\n",
    "    {\n",
    "        for (int m=0; m < gLEN; m++)\n",
    "        {\n",
    "            y[n+m] +=  f[n]*g[m];\n",
    "        }\n",
    "    }\n",
    "}"
   ]
  },
  {
   "cell_type": "code",
   "execution_count": 3,
   "metadata": {
    "kernel": "xeus-cling-cpp14"
   },
   "outputs": [
    {
     "data": {
      "text/plain": [
       "{ 10, 40, 100, 200, 350, 500, 580, 580, 490, 300 }"
      ]
     },
     "execution_count": 3,
     "metadata": {},
     "output_type": "execute_result"
    }
   ],
   "source": [
    "// Test Convolution 1D\n",
    "double f[] = {10,20,30,40,50,60};\n",
    "const int fLEN=sizeof(f)/sizeof(f[0]);\n",
    "double g[] = {1,2,3,4,5};\n",
    "const int gLEN=sizeof(g)/sizeof(g[0]);\n",
    "double y[fLEN+gLEN-1]= {};\n",
    "Convolution1D (&f[0],fLEN,&g[0], gLEN, &y[0]);\n",
    "y"
   ]
  },
  {
   "cell_type": "code",
   "execution_count": 4,
   "metadata": {
    "kernel": "xeus-cling-cpp14"
   },
   "outputs": [],
   "source": [
    "// Define Convolution1D Vector\n",
    "std::vector<double> Convolution1D_Vec(vector<double> &f, vector<double> &g)\n",
    "{\n",
    "    //Initialize output vector\n",
    "    std::vector<double> y(f.size()+g.size()-1, 0.0);\n",
    "    \n",
    "    \n",
    "    for(auto fn = f.begin(); fn != f.end();fn++)\n",
    "    {    \n",
    "        for(auto gm = g.begin();gm != g.end();gm++)\n",
    "        {\n",
    "             y[distance(f.begin(),fn)+distance(g.begin(),gm)]+= (*fn)*(*gm);\n",
    "        }\n",
    "    }\n",
    "    return y;   \n",
    "}"
   ]
  },
  {
   "cell_type": "code",
   "execution_count": 5,
   "metadata": {
    "kernel": "xeus-cling-cpp14"
   },
   "outputs": [
    {
     "data": {
      "text/plain": [
       "{ 10, 40, 100, 200, 350, 500, 580, 580, 490, 300 }"
      ]
     },
     "execution_count": 5,
     "metadata": {},
     "output_type": "execute_result"
    }
   ],
   "source": [
    "// Test Convolution1D Vector\n",
    " vector<double> f_vec = {1,2,3,4,5};\n",
    " vector<double> g_vec = {10,20,30,40,50,60};\n",
    " Convolution1D_Vec(f_vec,g_vec)"
   ]
  },
  {
   "cell_type": "code",
   "execution_count": null,
   "metadata": {
    "kernel": "xeus-cling-cpp14"
   },
   "outputs": [],
   "source": []
  }
 ],
 "metadata": {
  "kernelspec": {
   "display_name": "SoS",
   "language": "sos",
   "name": "sos"
  },
  "language_info": {
   "codemirror_mode": "sos",
   "file_extension": ".sos",
   "mimetype": "text/x-sos",
   "name": "sos",
   "nbconvert_exporter": "sos_notebook.converter.SoS_Exporter",
   "pygments_lexer": "sos"
  },
  "sos": {
   "kernels": [
    [
     "xeus-cling-cpp14",
     "xeus-cling-cpp14",
     "C++14",
     "",
     ""
    ]
   ],
   "panel": {
    "displayed": false,
    "height": 0
   },
   "version": "0.18.5"
  }
 },
 "nbformat": 4,
 "nbformat_minor": 2
}
