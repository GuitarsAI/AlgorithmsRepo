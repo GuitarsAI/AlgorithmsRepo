{
 "cells": [
  {
   "cell_type": "markdown",
   "metadata": {},
   "source": [
    "# Java: Image Edge Detection Filter\n",
    "<p align=\"left\">\n",
    "<img src=\"./img/businesscard.jpg\" width=\"500px\" alt=\"Business Card\" align=\"left\" >\n",
    "</p>\n",
    "<br>\n",
    "\n",
    "[www.rptecnologias.com](http://www.rptecnologias.com)\n",
    "<br>\n",
    "guitars.ai@rptecnologias.com\n"
   ]
  },
  {
   "cell_type": "code",
   "execution_count": 1,
   "metadata": {},
   "outputs": [],
   "source": [
    "// Imports\n",
    "import java.io.File;\n",
    "import java.io.IOException;\n",
    "import java.awt.image.BufferedImage;\n",
    "import javax.imageio.ImageIO;\n",
    "import java.util.Arrays;\n",
    "import java.util.ArrayList;\n",
    "import java.util.Collections;"
   ]
  },
  {
   "cell_type": "code",
   "execution_count": 2,
   "metadata": {},
   "outputs": [],
   "source": [
    "// Load JPG\n",
    "BufferedImage image = ImageIO.read(new File(\"./img/guitar.jpg\"));"
   ]
  },
  {
   "cell_type": "code",
   "execution_count": 3,
   "metadata": {},
   "outputs": [],
   "source": [
    "// Get Image Dimensions\n",
    "int width = image.getWidth();\n",
    "int height = image.getHeight();"
   ]
  },
  {
   "cell_type": "code",
   "execution_count": 4,
   "metadata": {},
   "outputs": [],
   "source": [
    "// Initialize r,g,b,a arrays\n",
    "double r[][] = new double[height][width];\n",
    "double g[][] = new double[height][width];\n",
    "double b[][] = new double[height][width];\n",
    "double a[][] = new double[height][width];"
   ]
  },
  {
   "cell_type": "code",
   "execution_count": 5,
   "metadata": {},
   "outputs": [],
   "source": [
    "// Define Class for RGBA 2D Arrays\n",
    "public class RGBA2D\n",
    "{\n",
    "    // 2D Arrays\n",
    "    double r[][] = new double[height][width];\n",
    "    double g[][] = new double[height][width];\n",
    "    double b[][] = new double[height][width];\n",
    "    double a[][] = new double[height][width];   \n",
    "}"
   ]
  },
  {
   "cell_type": "code",
   "execution_count": 6,
   "metadata": {},
   "outputs": [],
   "source": [
    "// Define a function to convert RGBA to RGBA 2D Arrays\n",
    "private static RGBA2D ConvertRGBAtoRGBA2D (BufferedImage image)\n",
    "{\n",
    "    int width = image.getWidth();\n",
    "    int height = image.getHeight();\n",
    "    \n",
    "    RGBA2D image2D = new RGBA2D();\n",
    "    \n",
    "    for(int y = 0; y < height; y++)\n",
    "    {\n",
    "        for(int x = 0; x < width; x++)\n",
    "        {\n",
    "            int pixel = image.getRGB(x,y);\n",
    "            image2D.a[y][x] = (pixel>>24)&0xff;\n",
    "            image2D.r[y][x] = (pixel>>16)&0xff;\n",
    "            image2D.g[y][x] = (pixel>>8)&0xff;\n",
    "            image2D.b[y][x] = pixel&0xff;\n",
    "        }\n",
    "    }\n",
    "    return image2D;\n",
    "}"
   ]
  },
  {
   "cell_type": "code",
   "execution_count": 7,
   "metadata": {},
   "outputs": [],
   "source": [
    "// Convert RGBA Image to RGBA 2D Object\n",
    "RGBA2D image2D = ConvertRGBAtoRGBA2D (image);"
   ]
  },
  {
   "cell_type": "code",
   "execution_count": 8,
   "metadata": {},
   "outputs": [],
   "source": [
    "// Define Convolution2D\n",
    "public static double[][] Convolution2D (double f[][], double g[][])\n",
    "{\n",
    "    // Initialize output array\n",
    "    double result[][] = new double[f.length+g.length-1][f[0].length+g[0].length-1];\n",
    "\n",
    "    //Convolution\n",
    "    for (int x=0; x < f.length; ++x)\n",
    "    {\n",
    "        for(int y=0; y<f[0].length;++y)\n",
    "            {\n",
    "                for (int i=0; i<g.length;++i)\n",
    "                {\n",
    "                    for (int j=0; j<g[0].length;++j)\n",
    "                    {\n",
    "                        result[x+i][y+j]+=f[x][y]*g[i][j];\n",
    "                    }\n",
    "                }\n",
    "                \n",
    "            }\n",
    "    \n",
    "    }\n",
    "    return result;   \n",
    "}"
   ]
  },
  {
   "cell_type": "code",
   "execution_count": 9,
   "metadata": {},
   "outputs": [],
   "source": [
    "// Define Edge Detection Kernel\n",
    "double[][] kernel = {{-1,-1,-1},{-1,8,-1}, {-1,-1,-1}};"
   ]
  },
  {
   "cell_type": "code",
   "execution_count": 10,
   "metadata": {},
   "outputs": [],
   "source": [
    "// Convolve 2D Arrays with Kernel and Adjust for Alpha\n",
    "double[][] convR=Convolution2D(image2D.r,kernel);\n",
    "double[][] convG=Convolution2D(image2D.g,kernel);\n",
    "double[][] convB=Convolution2D(image2D.b,kernel);\n",
    "double new_a[][] = new double[convR.length][convR[0].length];"
   ]
  },
  {
   "cell_type": "code",
   "execution_count": 11,
   "metadata": {},
   "outputs": [],
   "source": [
    "// Define a function to normalize 2D RGBA Arrays\n",
    "public static double[][] Normalize2D (double f[][])\n",
    "{\n",
    " \n",
    "    // Flatten\n",
    "    ArrayList<Double> flatten = new ArrayList<Double>();\n",
    "    for(int y = 0; y < f.length; y++)\n",
    "    {\n",
    "        for(int x = 0; x < f[0].length; x++)\n",
    "        {\n",
    "            flatten.add(f[y][x]);\n",
    "        }\n",
    "    }\n",
    "    \n",
    "    //Normalize\n",
    "    double min = Collections.min(flatten); \n",
    "    double max = Collections.max(flatten); \n",
    "    \n",
    "    for (int i = 0; i < flatten.size();i++)\n",
    "    {\n",
    "        if((max-min) !=0)\n",
    "        {flatten.set(i,255*(flatten.get(i)-min)/(max-min));}\n",
    "        else{flatten.set(i,255.0);}\n",
    "    }\n",
    "    \n",
    "    //Back to 2D\n",
    "    double result[][] = new double[f.length][f[0].length];\n",
    "    int index=0;\n",
    "    int n=0;\n",
    "    for(int i = 0; i < flatten.size(); i++)\n",
    "    {\n",
    "        result[index][n] = flatten.get(i);\n",
    "        n++;\n",
    "        if(n%f[0].length==0 && n!=0)\n",
    "            {\n",
    "                n=0;\n",
    "                index++;\n",
    "            }\n",
    "        \n",
    "    } \n",
    "    return result;\n",
    "    \n",
    "}"
   ]
  },
  {
   "cell_type": "code",
   "execution_count": 12,
   "metadata": {},
   "outputs": [],
   "source": [
    "// Normalize Arrays\n",
    "double[][] normconvResR=Normalize2D(convR);\n",
    "double[][] normconvResG=Normalize2D(convG);\n",
    "double[][] normconvResB=Normalize2D(convB);"
   ]
  },
  {
   "cell_type": "code",
   "execution_count": 13,
   "metadata": {},
   "outputs": [],
   "source": [
    "// Function to Convert 2D Arrays backto RGBA format\n",
    "public static BufferedImage arr2DtoRGBA(double r[][],double g[][],double b[][],int a_value)\n",
    "{\n",
    "      BufferedImage image = new BufferedImage(r[0].length, r.length,\n",
    "                BufferedImage.TYPE_3BYTE_BGR);\n",
    "    \n",
    "    for (var h=0;h<r.length;h++)\n",
    "    {\n",
    "        for(var w=0;w<r[0].length;w++)\n",
    "        {\n",
    "            int pixel = (a_value<<24) | ((int)r[h][w]<<16) | ((int)g[h][w]<<8) | (int)b[h][w];\n",
    "            image.setRGB(w, h, pixel);\n",
    "       \n",
    "        }\n",
    "    }\n",
    "    return image;\n",
    "}"
   ]
  },
  {
   "cell_type": "code",
   "execution_count": 14,
   "metadata": {},
   "outputs": [],
   "source": [
    "// Convert Convolved 2D Arrays to RGBA Format\n",
    "BufferedImage edgeImage=arr2DtoRGBA(normconvResR,normconvResG,normconvResB,255)"
   ]
  },
  {
   "cell_type": "code",
   "execution_count": 15,
   "metadata": {},
   "outputs": [],
   "source": [
    "public static BufferedImage ConvertToBW(BufferedImage image)\n",
    "{\n",
    "    int width = image.getWidth();\n",
    "    int height = image.getHeight();\n",
    "    \n",
    "    for (var h=0;h<r.length;h++)\n",
    "    {\n",
    "        for(var w=0;w<r[0].length;w++)\n",
    "        {\n",
    "            int pixel = image.getRGB(w,h);\n",
    "\n",
    "            int a = (pixel>>24)&0xff;\n",
    "            int r = (pixel>>16)&0xff;\n",
    "            r = (r < 128) ? 0 : 255;\n",
    "            int g = (pixel>>8)&0xff;\n",
    "            g = (g < 128) ? 0 : 255;\n",
    "            int b = pixel&0xff;\n",
    "            b = (b < 128) ? 0 : 255;\n",
    "\n",
    "            //Grayscale by Average \n",
    "            int avg = (r+g+b)/3;\n",
    "\n",
    "            //set Pixel\n",
    "            pixel = (a<<24) | (avg<<16) | (avg<<8) | avg;\n",
    "\n",
    "            image.setRGB(w, h, pixel);\n",
    "       \n",
    "        }\n",
    "    }\n",
    "    return image;\n",
    "    \n",
    "}"
   ]
  },
  {
   "cell_type": "code",
   "execution_count": 16,
   "metadata": {},
   "outputs": [],
   "source": [
    "BufferedImage edgeImageBW = ConvertToBW(edgeImage);"
   ]
  },
  {
   "cell_type": "code",
   "execution_count": 17,
   "metadata": {},
   "outputs": [
    {
     "data": {
      "text/plain": [
       "true"
      ]
     },
     "execution_count": 17,
     "metadata": {},
     "output_type": "execute_result"
    }
   ],
   "source": [
    "ImageIO.write(edgeImageBW, \"jpg\", new File(\"./img/guitarEdge.jpg\"));"
   ]
  },
  {
   "cell_type": "code",
   "execution_count": 18,
   "metadata": {},
   "outputs": [
    {
     "data": {
      "image/png": "[encoded data removed]",
      "text/plain": [
       "BufferedImage@65efad9d: type = 5 ColorModel: #pixelBits = 24 numComponents = 3 color space = java.awt.color.ICC_ColorSpace@5ddb890d transparency = 1 has alpha = false isAlphaPre = false ByteInterleavedRaster: width = 258 height = 258 #numDataElements 3 dataOff[0] = 2"
      ]
     },
     "execution_count": 18,
     "metadata": {},
     "output_type": "execute_result"
    }
   ],
   "source": [
    "edgeImageBW"
   ]
  },
  {
   "cell_type": "code",
   "execution_count": 19,
   "metadata": {},
   "outputs": [
    {
     "data": {
      "image/png": "[encoded data removed]",
      "text/plain": [
       "BufferedImage@b08cec8: type = 5 ColorModel: #pixelBits = 24 numComponents = 3 color space = java.awt.color.ICC_ColorSpace@5ddb890d transparency = 1 has alpha = false isAlphaPre = false ByteInterleavedRaster: width = 256 height = 256 #numDataElements 3 dataOff[0] = 2"
      ]
     },
     "execution_count": 19,
     "metadata": {},
     "output_type": "execute_result"
    }
   ],
   "source": [
    "image"
   ]
  },
  {
   "cell_type": "code",
   "execution_count": null,
   "metadata": {},
   "outputs": [],
   "source": []
  }
 ],
 "metadata": {
  "kernelspec": {
   "display_name": "Java",
   "language": "java",
   "name": "java"
  },
  "language_info": {
   "codemirror_mode": "java",
   "file_extension": ".java",
   "mimetype": "text/x-java-source",
   "name": "Java",
   "pygments_lexer": "java",
   "version": "10.0.2+13-Ubuntu-1ubuntu0.18.04.4"
  }
 },
 "nbformat": 4,
 "nbformat_minor": 2
}
