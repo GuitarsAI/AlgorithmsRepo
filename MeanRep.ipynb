{
 "cells": [
  {
   "cell_type": "markdown",
   "metadata": {
    "kernel": "SoS"
   },
   "source": [
    "# Mean (Average) \n",
    "<p align=\"left\">\n",
    "<img src=\"./img/businesscard.jpg\" width=\"500px\" alt=\"Business Card\" align=\"left\" >\n",
    "</p>\n",
    "<br>\n",
    "\n",
    "[www.rptecnologias.com](http://www.rptecnologias.com)\n",
    "<br>\n",
    "guitars.ai@rptecnologias.com\n"
   ]
  },
  {
   "cell_type": "markdown",
   "metadata": {
    "kernel": "SoS"
   },
   "source": [
    "# Imports & Configurations"
   ]
  },
  {
   "cell_type": "code",
   "execution_count": 1,
   "metadata": {
    "kernel": "Python3"
   },
   "outputs": [],
   "source": [
    "# General Imports\n",
    "import numpy as np\n",
    "\n",
    "#Display ang Plots\n",
    "import matplotlib.pyplot as plt\n",
    "from IPython.core.display import HTML, display\n",
    "\n",
    "# Logging & Debbuging\n",
    "import logging"
   ]
  },
  {
   "cell_type": "code",
   "execution_count": 2,
   "metadata": {
    "kernel": "Python3"
   },
   "outputs": [],
   "source": [
    "# Function to Display a Website\n",
    "def show_web(url):\n",
    "    html_code='<center><iframe src=\"%s\" width=\"800\" height=\"600\" frameborder=\"0\" marginheight=\"0\" marginwidth=\"0\">Loading...</iframe></center>' \\\n",
    "\t\t% (url)\n",
    "    display(HTML(html_code))"
   ]
  },
  {
   "cell_type": "markdown",
   "metadata": {
    "kernel": "Python3"
   },
   "source": [
    "## Half-Rectified Sinusoid"
   ]
  },
  {
   "cell_type": "code",
   "execution_count": 3,
   "metadata": {
    "kernel": "Python3"
   },
   "outputs": [
    {
     "data": {
      "text/html": [
       "<center><iframe src=\"https://en.wikipedia.org/wiki/Rectifier#Half-wave_rectification\" width=\"800\" height=\"600\" frameborder=\"0\" marginheight=\"0\" marginwidth=\"0\">Loading...</iframe></center>"
      ],
      "text/plain": [
       "<IPython.core.display.HTML object>"
      ]
     },
     "metadata": {},
     "output_type": "display_data"
    }
   ],
   "source": [
    "show_web('https://en.wikipedia.org/wiki/Rectifier#Half-wave_rectification')"
   ]
  },
  {
   "cell_type": "markdown",
   "metadata": {
    "kernel": "Python3"
   },
   "source": [
    "## Python: Half-rectified Sinusoid"
   ]
  },
  {
   "cell_type": "code",
   "execution_count": 4,
   "metadata": {
    "kernel": "Python3"
   },
   "outputs": [],
   "source": [
    "# Half-rectified Sinusoid\n",
    "x = np.linspace(-np.pi, np.pi, 201)\n",
    "sin_x=np.sin(x)\n",
    "half_sin_x=np.array(sin_x, copy=True)\n",
    "half_sin_x[half_sin_x<0]=0"
   ]
  },
  {
   "cell_type": "code",
   "execution_count": 5,
   "metadata": {
    "kernel": "Python3"
   },
   "outputs": [
    {
     "data": {
      "image/png": "[encoded data removed]",
      "text/plain": [
       "<Figure size 432x288 with 2 Axes>"
      ]
     },
     "metadata": {
      "needs_background": "light"
     },
     "output_type": "display_data"
    }
   ],
   "source": [
    "plt.figure()\n",
    "plt.subplot(2,1,1)\n",
    "plt.plot(x,sin_x)\n",
    "plt.xlabel('x')\n",
    "plt.ylabel('sin(x)')\n",
    "plt.subplot(2,1,2)\n",
    "plt.plot(x,half_sin_x);\n",
    "plt.xlabel('x')\n",
    "plt.ylabel('sin(x) half-rectifier');"
   ]
  },
  {
   "cell_type": "code",
   "execution_count": 6,
   "metadata": {
    "kernel": "Python3"
   },
   "outputs": [
    {
     "name": "stdout",
     "output_type": "stream",
     "text": [
      "Mean of Sin: 0.0\n",
      "Mean of Half-Sin: 0.3167002047904059\n"
     ]
    }
   ],
   "source": [
    "print(\"Mean of Sin:\", np.mean(sin_x, dtype=np.float64))\n",
    "print(\"Mean of Half-Sin:\", np.mean(half_sin_x,dtype=np.float64))"
   ]
  },
  {
   "cell_type": "markdown",
   "metadata": {
    "kernel": "Python3"
   },
   "source": [
    "## Javascript: Half-rectified Sinusoid"
   ]
  },
  {
   "cell_type": "code",
   "execution_count": 7,
   "metadata": {
    "kernel": "JavaScript"
   },
   "outputs": [
    {
     "data": {
      "text/plain": [
       "[Function: __get_sos_vars]"
      ]
     },
     "execution_count": 7,
     "metadata": {},
     "output_type": "execute_result"
    }
   ],
   "source": [
    "// Function Linspace\n",
    "function linspace(a,b,n) {\n",
    "    var increment = (b -a )/(n-1);\n",
    "    var arr = Array(n);\n",
    "    for (i=0;i<n;i++)\n",
    "    {\n",
    "        arr[i]=a+i*increment;\n",
    "    }\n",
    "    return arr;\n",
    "}"
   ]
  },
  {
   "cell_type": "code",
   "execution_count": 8,
   "metadata": {
    "kernel": "JavaScript"
   },
   "outputs": [
    {
     "data": {
      "text/plain": [
       "[ 0,\n",
       "  0,\n",
       "  0,\n",
       "  0,\n",
       "  0,\n",
       "  0,\n",
       "  0,\n",
       "  0,\n",
       "  0,\n",
       "  0,\n",
       "  0,\n",
       "  0,\n",
       "  0,\n",
       "  0,\n",
       "  0,\n",
       "  0,\n",
       "  0,\n",
       "  0,\n",
       "  0,\n",
       "  0,\n",
       "  0,\n",
       "  0,\n",
       "  0,\n",
       "  0,\n",
       "  0,\n",
       "  0,\n",
       "  0,\n",
       "  0,\n",
       "  0,\n",
       "  0,\n",
       "  0,\n",
       "  0,\n",
       "  0,\n",
       "  0,\n",
       "  0,\n",
       "  0,\n",
       "  0,\n",
       "  0,\n",
       "  0,\n",
       "  0,\n",
       "  0,\n",
       "  0,\n",
       "  0,\n",
       "  0,\n",
       "  0,\n",
       "  0,\n",
       "  0,\n",
       "  0,\n",
       "  0,\n",
       "  0,\n",
       "  0,\n",
       "  0,\n",
       "  0,\n",
       "  0,\n",
       "  0,\n",
       "  0,\n",
       "  0,\n",
       "  0,\n",
       "  0,\n",
       "  0,\n",
       "  0,\n",
       "  0,\n",
       "  0,\n",
       "  0,\n",
       "  0,\n",
       "  0,\n",
       "  0,\n",
       "  0,\n",
       "  0,\n",
       "  0,\n",
       "  0,\n",
       "  0,\n",
       "  0,\n",
       "  0,\n",
       "  0,\n",
       "  0,\n",
       "  0,\n",
       "  0,\n",
       "  0,\n",
       "  0,\n",
       "  0,\n",
       "  0,\n",
       "  0,\n",
       "  0,\n",
       "  0,\n",
       "  0,\n",
       "  0,\n",
       "  0,\n",
       "  0,\n",
       "  0,\n",
       "  0,\n",
       "  0,\n",
       "  0,\n",
       "  0,\n",
       "  0,\n",
       "  0,\n",
       "  0,\n",
       "  0,\n",
       "  0,\n",
       "  0,\n",
       "  ... 101 more items ]"
      ]
     },
     "execution_count": 8,
     "metadata": {},
     "output_type": "execute_result"
    }
   ],
   "source": [
    "// Half-rectified Sinusoid\n",
    "var x = linspace(-Math.PI,Math.PI,201);\n",
    "sin_x=x.map(Math.sin);\n",
    "half_sin_x_javascript=Array.from(sin_x, x => (x<0) ? 0 : x);"
   ]
  },
  {
   "cell_type": "code",
   "execution_count": 9,
   "metadata": {
    "kernel": "Python3"
   },
   "outputs": [
    {
     "data": {
      "text/plain": [
       "[<matplotlib.lines.Line2D at 0x7f77991eed30>]"
      ]
     },
     "execution_count": 9,
     "metadata": {},
     "output_type": "execute_result"
    },
    {
     "data": {
      "image/png": "[encoded data removed]",
      "text/plain": [
       "<Figure size 432x288 with 1 Axes>"
      ]
     },
     "metadata": {
      "needs_background": "light"
     },
     "output_type": "display_data"
    }
   ],
   "source": [
    "%get half_sin_x_javascript --from javascript\n",
    "plt.figure()\n",
    "plt.plot(half_sin_x_javascript)"
   ]
  },
  {
   "cell_type": "markdown",
   "metadata": {
    "kernel": "Python3"
   },
   "source": [
    "## Java: Half-rectified Sinusoid"
   ]
  },
  {
   "cell_type": "code",
   "execution_count": 10,
   "metadata": {
    "kernel": "java"
   },
   "outputs": [],
   "source": [
    "// Function Linspace\n",
    "public static double[] linspace(double a, double b, int n){\n",
    "    double[] result = new double[n];\n",
    "    for (int i=0; i<n; i++){\n",
    "    result[i]= a +i*(b-a)/(n-1);\n",
    "    }\n",
    "    return result;\n",
    "}"
   ]
  },
  {
   "cell_type": "code",
   "execution_count": 11,
   "metadata": {
    "kernel": "java"
   },
   "outputs": [
    {
     "name": "stdout",
     "output_type": "stream",
     "text": [
      "0.0\n",
      "0.0\n",
      "0.0\n",
      "0.0\n",
      "0.0\n",
      "0.0\n",
      "0.0\n",
      "0.0\n",
      "0.0\n",
      "0.0\n",
      "0.0\n",
      "0.0\n",
      "0.0\n",
      "0.0\n",
      "0.0\n",
      "0.0\n",
      "0.0\n",
      "0.0\n",
      "0.0\n",
      "0.0\n",
      "0.0\n",
      "0.0\n",
      "0.0\n",
      "0.0\n",
      "0.0\n",
      "0.0\n",
      "0.0\n",
      "0.0\n",
      "0.0\n",
      "0.0\n",
      "0.0\n",
      "0.0\n",
      "0.0\n",
      "0.0\n",
      "0.0\n",
      "0.0\n",
      "0.0\n",
      "0.0\n",
      "0.0\n",
      "0.0\n",
      "0.0\n",
      "0.0\n",
      "0.0\n",
      "0.0\n",
      "0.0\n",
      "0.0\n",
      "0.0\n",
      "0.0\n",
      "0.0\n",
      "0.0\n",
      "0.0\n",
      "0.0\n",
      "0.0\n",
      "0.0\n",
      "0.0\n",
      "0.0\n",
      "0.0\n",
      "0.0\n",
      "0.0\n",
      "0.0\n",
      "0.0\n",
      "0.0\n",
      "0.0\n",
      "0.0\n",
      "0.0\n",
      "0.0\n",
      "0.0\n",
      "0.0\n",
      "0.0\n",
      "0.0\n",
      "0.0\n",
      "0.0\n",
      "0.0\n",
      "0.0\n",
      "0.0\n",
      "0.0\n",
      "0.0\n",
      "0.0\n",
      "0.0\n",
      "0.0\n",
      "0.0\n",
      "0.0\n",
      "0.0\n",
      "0.0\n",
      "0.0\n",
      "0.0\n",
      "0.0\n",
      "0.0\n",
      "0.0\n",
      "0.0\n",
      "0.0\n",
      "0.0\n",
      "0.0\n",
      "0.0\n",
      "0.0\n",
      "0.0\n",
      "0.0\n",
      "0.0\n",
      "0.0\n",
      "0.0\n",
      "0.0\n",
      "0.03141075907812812\n",
      "0.06279051952931346\n",
      "0.09410831331851423\n",
      "0.12533323356430442\n",
      "0.15643446504023087\n",
      "0.18738131458572488\n",
      "0.21814324139654262\n",
      "0.24868988716485468\n",
      "0.278991106039229\n",
      "0.3090169943749474\n",
      "0.33873792024529165\n",
      "0.36812455268467803\n",
      "0.3971478906347805\n",
      "0.4257792915650724\n",
      "0.4539904997395472\n",
      "0.4817536741017155\n",
      "0.5090414157503713\n",
      "0.5358267949789965\n",
      "0.5620833778521304\n",
      "0.5877852522924728\n",
      "0.6129070536529767\n",
      "0.6374239897486897\n",
      "0.6613118653236518\n",
      "0.6845471059286885\n",
      "0.7071067811865472\n",
      "0.7289686274214117\n",
      "0.7501110696304596\n",
      "0.7705132427757895\n",
      "0.7901550123756904\n",
      "0.8090169943749475\n",
      "0.8270805742745617\n",
      "0.8443279255020153\n",
      "0.8607420270039438\n",
      "0.8763066800438637\n",
      "0.8910065241883678\n",
      "0.9048270524660198\n",
      "0.9177546256839814\n",
      "0.9297764858882516\n",
      "0.9408807689542256\n",
      "0.9510565162951535\n",
      "0.960293685676943\n",
      "0.9685831611286312\n",
      "0.9759167619387474\n",
      "0.9822872507286887\n",
      "0.9876883405951378\n",
      "0.9921147013144778\n",
      "0.9955619646030801\n",
      "0.9980267284282716\n",
      "0.9995065603657316\n",
      "1.0\n",
      "0.9995065603657316\n",
      "0.9980267284282716\n",
      "0.99556196460308\n",
      "0.9921147013144778\n",
      "0.9876883405951378\n",
      "0.9822872507286887\n",
      "0.9759167619387475\n",
      "0.9685831611286311\n",
      "0.9602936856769431\n",
      "0.9510565162951536\n",
      "0.9408807689542256\n",
      "0.9297764858882516\n",
      "0.9177546256839814\n",
      "0.9048270524660199\n",
      "0.8910065241883683\n",
      "0.8763066800438633\n",
      "0.8607420270039434\n",
      "0.844327925502015\n",
      "0.8270805742745617\n",
      "0.8090169943749475\n",
      "0.7901550123756905\n",
      "0.7705132427757895\n",
      "0.7501110696304599\n",
      "0.7289686274214121\n",
      "0.7071067811865482\n",
      "0.6845471059286888\n",
      "0.6613118653236515\n",
      "0.6374239897486895\n",
      "0.6129070536529764\n",
      "0.5877852522924732\n",
      "0.5620833778521308\n",
      "0.535826794978997\n",
      "0.5090414157503719\n",
      "0.481753674101716\n",
      "0.45399049973954686\n",
      "0.4257792915650729\n",
      "0.39714789063478023\n",
      "0.36812455268467775\n",
      "0.3387379202452913\n",
      "0.3090169943749475\n",
      "0.27899110603922955\n",
      "0.24868988716485524\n",
      "0.21814324139654317\n",
      "0.18738131458572457\n",
      "0.15643446504023098\n",
      "0.12533323356430454\n",
      "0.0941083133185148\n",
      "0.06279051952931314\n",
      "0.031410759078128236\n",
      "1.2246467991473532E-16\n"
     ]
    }
   ],
   "source": [
    "// Half-rectified Sinusoid\n",
    "double[] x = linspace(-Math.PI, Math.PI, 201);\n",
    "double[] half_sine_x = new double[x.length];\n",
    "\n",
    "for (int i = 0; i < x.length; i++) {\n",
    "  if (x[i]<0){half_sine_x[i]=0;}\n",
    "  else {half_sine_x[i]=Math.sin(x[i]);}\n",
    "  System.out.println(half_sine_x[i]);\n",
    "}"
   ]
  },
  {
   "cell_type": "markdown",
   "metadata": {
    "kernel": "java"
   },
   "source": [
    "## C++: Half-rectified Sinusoid"
   ]
  },
  {
   "cell_type": "code",
   "execution_count": 12,
   "metadata": {
    "kernel": "xeus-cling-cpp14"
   },
   "outputs": [],
   "source": [
    "// Includes\n",
    "#include <iostream>\n",
    "#include <cmath>\n",
    "#include <vector>\n",
    "#include <numeric>\n",
    "using namespace std;"
   ]
  },
  {
   "cell_type": "code",
   "execution_count": 13,
   "metadata": {
    "kernel": "xeus-cling-cpp14"
   },
   "outputs": [],
   "source": [
    "// Linspace Function\n",
    "template <typename T>\n",
    "std::vector<T> linspace(T a, T b, size_t N) {\n",
    "    T h = (b - a) / static_cast<T>(N-1);\n",
    "    std::vector<T> xs(N);\n",
    "    typename std::vector<T>::iterator x;\n",
    "    T val;\n",
    "    for (x = xs.begin(), val = a; x != xs.end(); ++x, val += h)\n",
    "        *x = val;\n",
    "    return xs;\n",
    "}"
   ]
  },
  {
   "cell_type": "code",
   "execution_count": 14,
   "metadata": {
    "kernel": "xeus-cling-cpp14"
   },
   "outputs": [],
   "source": [
    "// Half-rectified Sinusoidal Vector\n",
    "\n",
    "// Aux Function\n",
    "std::vector<double> fillSin (std::vector<double> &xValues, bool Half)\n",
    "{\n",
    "    std::vector<double> sin_x;\n",
    "    for (auto j: xValues)\n",
    "    {\n",
    "         double sin_value=sin(j);\n",
    "         if (Half==true && sin_value<0)\n",
    "         {\n",
    "             sin_x.push_back(0);\n",
    "         }\n",
    "        else\n",
    "        {\n",
    "          sin_x.push_back(sin_value);\n",
    "        }\n",
    "    }\n",
    "    return sin_x;\n",
    "}\n",
    "\n",
    "// x linspace\n",
    "std::vector<double> x = linspace(-M_PI, M_PI, 201);\n",
    "\n",
    "// Half-Rectified Sin(x) Vector\n",
    "std::vector<double> half_sin_x = fillSin(x, true);\n",
    "\n",
    "// Half-Rectified sin(x) array of double\n",
    "double half_sin_x_double[201];\n",
    "std::copy(half_sin_x.begin(), half_sin_x.end(), half_sin_x_double);"
   ]
  },
  {
   "cell_type": "markdown",
   "metadata": {
    "kernel": "xeus-cling-cpp14"
   },
   "source": [
    "# Mean (Average)"
   ]
  },
  {
   "cell_type": "markdown",
   "metadata": {
    "kernel": "Python3"
   },
   "source": [
    "$$ \\begin{equation}\n",
    "\\mu = \\frac{1}{N}\\cdot \\sum_{i=0}^{N-1}x_i\n",
    "\\end{equation}$$"
   ]
  },
  {
   "cell_type": "code",
   "execution_count": 15,
   "metadata": {
    "kernel": "Python3"
   },
   "outputs": [
    {
     "data": {
      "text/html": [
       "<center><iframe src=\"https://en.wikipedia.org/wiki/Arithmetic_mean\" width=\"800\" height=\"600\" frameborder=\"0\" marginheight=\"0\" marginwidth=\"0\">Loading...</iframe></center>"
      ],
      "text/plain": [
       "<IPython.core.display.HTML object>"
      ]
     },
     "metadata": {},
     "output_type": "display_data"
    }
   ],
   "source": [
    "show_web(\"https://en.wikipedia.org/wiki/Arithmetic_mean\")"
   ]
  },
  {
   "cell_type": "markdown",
   "metadata": {
    "kernel": "Python3"
   },
   "source": [
    "## Python: Mean Function"
   ]
  },
  {
   "cell_type": "code",
   "execution_count": 16,
   "metadata": {
    "kernel": "Python3"
   },
   "outputs": [],
   "source": [
    "def signal_mean(arr):\n",
    "    mean=0\n",
    "    for i in arr:\n",
    "        mean+=i\n",
    "        \n",
    "    mean/=arr.size\n",
    "    return mean"
   ]
  },
  {
   "cell_type": "code",
   "execution_count": 17,
   "metadata": {
    "kernel": "Python3"
   },
   "outputs": [
    {
     "name": "stdout",
     "output_type": "stream",
     "text": [
      "Mean of Sin: 0.0\n",
      "Mean of Half-Sin: 0.3167\n"
     ]
    }
   ],
   "source": [
    "print(\"Mean of Sin:\", round(signal_mean(sin_x),4))\n",
    "print(\"Mean of Half-Sin:\", round(signal_mean(half_sin_x),4))"
   ]
  },
  {
   "cell_type": "markdown",
   "metadata": {
    "kernel": "Python3"
   },
   "source": [
    "## Javascript: Mean Function"
   ]
  },
  {
   "cell_type": "code",
   "execution_count": 18,
   "metadata": {
    "kernel": "JavaScript"
   },
   "outputs": [],
   "source": [
    "// Mean Variant I\n",
    "function average(arr)\n",
    "{\n",
    "    var sum=0;\n",
    "    for (i=0;i<arr.length;i++)\n",
    "    {\n",
    "     sum+=arr[i];\n",
    "     }\n",
    "     return sum/arr.length;\n",
    "}"
   ]
  },
  {
   "cell_type": "code",
   "execution_count": 19,
   "metadata": {
    "kernel": "JavaScript"
   },
   "outputs": [
    {
     "data": {
      "text/plain": [
       "0.31670020479040584"
      ]
     },
     "execution_count": 19,
     "metadata": {},
     "output_type": "execute_result"
    }
   ],
   "source": [
    "// Test Mean Variant I\n",
    "average(half_sin_x_javascript)"
   ]
  },
  {
   "cell_type": "code",
   "execution_count": 20,
   "metadata": {
    "kernel": "JavaScript"
   },
   "outputs": [],
   "source": [
    "// Mean Variant II\n",
    "function mean (arr)\n",
    "{\n",
    " return  arr.reduce(function(total,num){return total+num;})/arr.length;\n",
    " }"
   ]
  },
  {
   "cell_type": "code",
   "execution_count": 21,
   "metadata": {
    "kernel": "JavaScript"
   },
   "outputs": [
    {
     "data": {
      "text/plain": [
       "0.31670020479040584"
      ]
     },
     "execution_count": 21,
     "metadata": {},
     "output_type": "execute_result"
    }
   ],
   "source": [
    "// Test Mean Variant II\n",
    "mean(half_sin_x_javascript)"
   ]
  },
  {
   "cell_type": "markdown",
   "metadata": {
    "kernel": "JavaScript"
   },
   "source": [
    "## Java: Mean Function"
   ]
  },
  {
   "cell_type": "code",
   "execution_count": 22,
   "metadata": {
    "kernel": "java"
   },
   "outputs": [],
   "source": [
    "// Mean Function\n",
    "public static double mean(double[] input)\n",
    "{\n",
    "    double sum=0;\n",
    "    for (double i: input){\n",
    "    sum+=i;\n",
    "    }\n",
    "    return sum/input.length;\n",
    "}"
   ]
  },
  {
   "cell_type": "code",
   "execution_count": 23,
   "metadata": {
    "kernel": "java"
   },
   "outputs": [
    {
     "data": {
      "text/plain": [
       "0.31670020479040584"
      ]
     },
     "execution_count": 23,
     "metadata": {},
     "output_type": "execute_result"
    }
   ],
   "source": [
    "// Test Mean Function\n",
    "mean(half_sine_x)"
   ]
  },
  {
   "cell_type": "markdown",
   "metadata": {
    "kernel": "java"
   },
   "source": [
    "## C++: Mean Function"
   ]
  },
  {
   "cell_type": "code",
   "execution_count": 24,
   "metadata": {
    "kernel": "xeus-cling-cpp14"
   },
   "outputs": [],
   "source": [
    "// Mean Function Array of Doubles\n",
    "double calc_signal_mean(double *signal, int sig_len)\n",
    "{\n",
    "    double _mean=0.0;\n",
    "    for (int i=0; i<sig_len;i++)\n",
    "    {\n",
    "    _mean = _mean + signal[i];\n",
    "    }\n",
    "    return _mean/sig_len;\n",
    "}"
   ]
  },
  {
   "cell_type": "code",
   "execution_count": 25,
   "metadata": {
    "kernel": "xeus-cling-cpp14"
   },
   "outputs": [
    {
     "data": {
      "text/plain": [
       "0.3167"
      ]
     },
     "execution_count": 25,
     "metadata": {},
     "output_type": "execute_result"
    }
   ],
   "source": [
    "// Test Mean Function Array of Double\n",
    "int len = sizeof(half_sin_x_double)/sizeof(half_sin_x_double[0]);\n",
    "double mean_half_sin_x = calc_signal_mean(&half_sin_x_double[0], len);\n",
    "mean_half_sin_x"
   ]
  },
  {
   "cell_type": "code",
   "execution_count": 26,
   "metadata": {
    "kernel": "xeus-cling-cpp14"
   },
   "outputs": [],
   "source": [
    "// Mean Function Vector of Doubles\n",
    "double signal_mean(std::vector<double>  &sigValues)\n",
    "{\n",
    "     return accumulate(sigValues.begin(), sigValues.end(),0.0)/sigValues.size();\n",
    "}"
   ]
  },
  {
   "cell_type": "code",
   "execution_count": 27,
   "metadata": {
    "kernel": "xeus-cling-cpp14"
   },
   "outputs": [
    {
     "data": {
      "text/plain": [
       "0.3167"
      ]
     },
     "execution_count": 27,
     "metadata": {},
     "output_type": "execute_result"
    }
   ],
   "source": [
    "// Test Mean Vector of Doubles\n",
    "double half_sin_x_mean = signal_mean(half_sin_x);\n",
    "half_sin_x_mean"
   ]
  }
 ],
 "metadata": {
  "kernelspec": {
   "display_name": "SoS",
   "language": "sos",
   "name": "sos"
  },
  "language_info": {
   "codemirror_mode": "sos",
   "file_extension": ".sos",
   "mimetype": "text/x-sos",
   "name": "sos",
   "nbconvert_exporter": "sos_notebook.converter.SoS_Exporter",
   "pygments_lexer": "sos"
  },
  "sos": {
   "kernels": [
    [
     "JavaScript",
     "javascript",
     "JavaScript",
     "#c8e1ae",
     ""
    ],
    [
     "Python3",
     "python3",
     "Python3",
     "#FFD91A",
     {
      "name": "ipython",
      "version": 3
     }
    ],
    [
     "java",
     "java",
     "java",
     "",
     "java"
    ],
    [
     "xeus-cling-cpp14",
     "xeus-cling-cpp14",
     "C++14",
     "",
     "text/x-c++src"
    ]
   ],
   "panel": {
    "displayed": false,
    "height": 0
   },
   "version": "0.18.5"
  }
 },
 "nbformat": 4,
 "nbformat_minor": 2
}
