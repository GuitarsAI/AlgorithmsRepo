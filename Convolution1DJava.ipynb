{
 "cells": [
  {
   "cell_type": "markdown",
   "metadata": {},
   "source": [
    "# Java: Convolution 1D \n",
    "<p align=\"left\">\n",
    "<img src=\"./img/businesscard.jpg\" width=\"500px\" alt=\"Business Card\" align=\"left\" >\n",
    "</p>\n",
    "<br>\n",
    "\n",
    "[www.rptecnologias.com](http://www.rptecnologias.com)\n",
    "<br>\n",
    "guitars.ai@rptecnologias.com\n"
   ]
  },
  {
   "cell_type": "code",
   "execution_count": 1,
   "metadata": {},
   "outputs": [],
   "source": [
    "// Imports\n",
    "import java.util.Arrays;"
   ]
  },
  {
   "cell_type": "code",
   "execution_count": 2,
   "metadata": {},
   "outputs": [],
   "source": [
    "// Define Convolution1D\n",
    "public static double[] Convolution1D (double f[], double g[])\n",
    "{\n",
    "    // Initialize output array with zeros\n",
    "    double y[] = new double[f.length+g.length-1];\n",
    "    \n",
    "    //Convolution\n",
    "    for (int n=0; n < f.length; ++n)\n",
    "    {\n",
    "        for(int m=0; m<g.length;++m)\n",
    "            {\n",
    "                y[m+n]+=f[n]*g[m];\n",
    "            }\n",
    "    \n",
    "    }    \n",
    "    return y;\n",
    "}"
   ]
  },
  {
   "cell_type": "code",
   "execution_count": 3,
   "metadata": {},
   "outputs": [
    {
     "name": "stdout",
     "output_type": "stream",
     "text": [
      "[10.0, 40.0, 100.0, 200.0, 350.0, 500.0, 580.0, 580.0, 490.0, 300.0]\n"
     ]
    }
   ],
   "source": [
    "// Test Convolution 1D\n",
    "double[] f = {1,2,3,4,5};\n",
    "double[] g = {10,20,30,40,50,60};\n",
    "System.out.println(Arrays.toString(Convolution1D(f, g)));"
   ]
  },
  {
   "cell_type": "code",
   "execution_count": null,
   "metadata": {},
   "outputs": [],
   "source": []
  }
 ],
 "metadata": {
  "kernelspec": {
   "display_name": "Java",
   "language": "java",
   "name": "java"
  },
  "language_info": {
   "codemirror_mode": "java",
   "file_extension": ".java",
   "mimetype": "text/x-java-source",
   "name": "Java",
   "pygments_lexer": "java",
   "version": "10.0.2+13-Ubuntu-1ubuntu0.18.04.4"
  }
 },
 "nbformat": 4,
 "nbformat_minor": 2
}
