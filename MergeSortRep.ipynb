{
 "cells": [
  {
   "cell_type": "markdown",
   "metadata": {
    "kernel": "SoS"
   },
   "source": [
    "# MergeSort \n",
    "<p align=\"left\">\n",
    "<img src=\"./img/businesscard.jpg\" width=\"500px\" alt=\"Business Card\" align=\"left\" >\n",
    "</p>\n",
    "<br>\n",
    "\n",
    "[www.rptecnologias.com](http://www.rptecnologias.com)\n",
    "<br>\n",
    "guitars.ai@rptecnologias.com\n"
   ]
  },
  {
   "cell_type": "markdown",
   "metadata": {
    "kernel": "SoS"
   },
   "source": [
    "# Imports & Configurations"
   ]
  },
  {
   "cell_type": "code",
   "execution_count": null,
   "metadata": {
    "kernel": "Python3"
   },
   "outputs": [],
   "source": [
    "# Display\n",
    "from IPython.core.display import HTML, display\n",
    "\n",
    "# Logging & Debbuging\n",
    "import logging\n",
    "\n",
    "# System\n",
    "import sys"
   ]
  },
  {
   "cell_type": "code",
   "execution_count": null,
   "metadata": {
    "kernel": "Python3"
   },
   "outputs": [],
   "source": [
    "# Logging Configuration\n",
    "\n",
    "# Create logger\n",
    "logging.basicConfig(format='%(levelname)s : %(message)s', level=logging.INFO)\n",
    "logger = logging.getLogger()\n",
    "\n",
    "# Create STDERR handler\n",
    "handler = logging.StreamHandler(sys.stderr)\n",
    "\n",
    "# Set STDERR handler as the only handler \n",
    "logger.handlers = [handler]"
   ]
  },
  {
   "cell_type": "code",
   "execution_count": null,
   "metadata": {
    "kernel": "Python3"
   },
   "outputs": [],
   "source": [
    "# Function to Display a Website\n",
    "def show_web(url):\n",
    "    html_code='<center><iframe src=\"%s\" width=\"800\" height=\"600\" frameborder=\"0\" marginheight=\"0\" marginwidth=\"0\">Loading...</iframe></center>' \\\n",
    "\t\t% (url)\n",
    "    display(HTML(html_code))"
   ]
  },
  {
   "cell_type": "markdown",
   "metadata": {
    "kernel": "Python3"
   },
   "source": [
    "# MergeSort Algorithm"
   ]
  },
  {
   "cell_type": "code",
   "execution_count": null,
   "metadata": {
    "kernel": "Python3"
   },
   "outputs": [],
   "source": [
    "if __name__ == \"__main__\":\n",
    "    show_web(\"https://en.wikipedia.org/wiki/Merge_sort\")"
   ]
  },
  {
   "cell_type": "markdown",
   "metadata": {
    "kernel": "Python3"
   },
   "source": [
    "## Python: Split Function"
   ]
  },
  {
   "cell_type": "code",
   "execution_count": null,
   "metadata": {
    "kernel": "Python3"
   },
   "outputs": [],
   "source": [
    "# Define function split\n",
    "def split(a_list):\n",
    "    logger.info(\"\\n--Inside function split(%s)\"%a_list)\n",
    "    middle_ind=len(a_list)//2\n",
    "    logger.info(\"  Calculate the index of the middle point: %d.\"%middle_ind)\n",
    "    logger.info(\"  Returning the ouput %s.\"%[a_list[:middle_ind], a_list[middle_ind:]])\n",
    "    logger.info(\"--Exiting function split(%s)\"%a_list)\n",
    "    return a_list[:middle_ind], a_list[middle_ind:]"
   ]
  },
  {
   "cell_type": "code",
   "execution_count": null,
   "metadata": {
    "kernel": "Python3"
   },
   "outputs": [],
   "source": [
    "# Test function split\n",
    "if __name__ == \"__main__\":\n",
    "    split([1,2,3])"
   ]
  },
  {
   "cell_type": "markdown",
   "metadata": {
    "kernel": "Python3"
   },
   "source": [
    "## Javascript: Split Function"
   ]
  },
  {
   "cell_type": "code",
   "execution_count": null,
   "metadata": {
    "kernel": "JavaScript"
   },
   "outputs": [],
   "source": [
    "// Define Split Function\n",
    "function split (aList)\n",
    "{\n",
    "    var middle_ind = Math.floor(aList.length /2);\n",
    "    left = aList.slice(0, middle_ind);\n",
    "    right = aList.slice(middle_ind)\n",
    "    return [left, right];\n",
    "};"
   ]
  },
  {
   "cell_type": "code",
   "execution_count": null,
   "metadata": {
    "kernel": "JavaScript"
   },
   "outputs": [],
   "source": [
    "// Test Split Function\n",
    "var test = [1,2,3];\n",
    "console.log(split(test))"
   ]
  },
  {
   "cell_type": "markdown",
   "metadata": {
    "kernel": "JavaScript"
   },
   "source": [
    "## C++: Split Function"
   ]
  },
  {
   "cell_type": "code",
   "execution_count": null,
   "metadata": {
    "kernel": "xeus-cling-cpp14"
   },
   "outputs": [],
   "source": [
    "// Includes\n",
    "#include <iostream>\n",
    "#include <vector>\n",
    "using namespace std;\n",
    "typedef vector<vector<int>> vectorVectors;"
   ]
  },
  {
   "cell_type": "code",
   "execution_count": null,
   "metadata": {
    "kernel": "xeus-cling-cpp14"
   },
   "outputs": [],
   "source": [
    "// Define Split Function\n",
    "vectorVectors split (vector<int> &aList)\n",
    "{\n",
    "    vector<int> firstHalfVect(aList.begin(),\n",
    "                               aList.begin()+aList.size()/2);\n",
    "    vector<int> secondHalfVect(aList.begin()+aList.size()/2, aList.end());\n",
    "    vectorVectors result = {firstHalfVect, secondHalfVect};\n",
    "    return result;\n",
    "}"
   ]
  },
  {
   "cell_type": "code",
   "execution_count": null,
   "metadata": {
    "kernel": "xeus-cling-cpp14"
   },
   "outputs": [],
   "source": [
    "// Test Split Function\n",
    " std::vector<int> testVector = {1,2,3};\n",
    " split(testVector)"
   ]
  },
  {
   "cell_type": "markdown",
   "metadata": {
    "kernel": "xeus-cling-cpp14"
   },
   "source": [
    "## Java: Split Function"
   ]
  },
  {
   "cell_type": "code",
   "execution_count": null,
   "metadata": {
    "kernel": "java"
   },
   "outputs": [],
   "source": [
    "// Imports\n",
    "import java.util.ArrayList;"
   ]
  },
  {
   "cell_type": "code",
   "execution_count": null,
   "metadata": {
    "kernel": "java"
   },
   "outputs": [],
   "source": [
    "// Define Split Function\n",
    "public static int[][] split(int[] aList)\n",
    "{\n",
    "        int len = aList.length;\n",
    "        int left[] = Arrays.copyOfRange(aList, 0, len/2);\n",
    "        int right[] = Arrays.copyOfRange(aList, (len/2), len);\n",
    "        int result[][] = new int[][] {left,right};\n",
    "        return result;\n",
    "}"
   ]
  },
  {
   "cell_type": "code",
   "execution_count": null,
   "metadata": {
    "kernel": "java"
   },
   "outputs": [],
   "source": [
    "// Test Split Function\n",
    "int[] testVec = {1,2,3};\n",
    "\n",
    "void printElements(int[][] jaggedArr) {\n",
    "    for (int index = 0; index < jaggedArr.length; index++) {\n",
    "        System.out.println(Arrays.toString(jaggedArr[index]));\n",
    "    }\n",
    "}\n",
    "printElements(split(testVec));"
   ]
  },
  {
   "cell_type": "markdown",
   "metadata": {
    "kernel": "java"
   },
   "source": [
    "## Python: Merge Function"
   ]
  },
  {
   "cell_type": "code",
   "execution_count": null,
   "metadata": {
    "kernel": "Python3"
   },
   "outputs": [],
   "source": [
    "# Define Merge Function\n",
    "def merge(lList,rList):\n",
    "    logger.info(\"\\n++Inside function merge(%s,%s).\"%(str(lList),str(rList)))\n",
    "    lInd=0\n",
    "    rInd=0\n",
    "    result=[]\n",
    "    for i in range(len(lList)+len(rList)):\n",
    "        logger.info(\"    Output Element %d\"%i)\n",
    "        if rInd == len(rList):\n",
    "            result.append(lList[lInd])\n",
    "            lInd+=1\n",
    "            logger.info(\"    Case end of rList. Intermediate result: %s.\"%str(result))\n",
    "        elif lInd == len(lList):\n",
    "            result.append(rList[rInd])\n",
    "            rInd+=1\n",
    "            logger.info(\"    Case end of lList. Intermediate result: %s.\"%str(result))\n",
    "        elif lList[lInd] < rList[rInd]:\n",
    "            result.append(lList[lInd])\n",
    "            logger.info(\"    Case element from lList %d <= %d element from rList. Intermediate result: %s.\"%(lList[lInd],rList[rInd],str(result)))\n",
    "            lInd+=1\n",
    "        else:\n",
    "            result.append(rList[rInd])\n",
    "            logger.info(\"    Case element from lList %d >= %d element from rList. Intermediate result: %s.\"%(lList[lInd],rList[rInd],str(result)))\n",
    "            rInd+=1\n",
    "    logger.info(\"    Returning the ouput %s.\"%str(result))\n",
    "    logger.info(\"++Exiting function merge(%s,%s)++\\n.\"%(str(lList),str(rList)))\n",
    "    return result"
   ]
  },
  {
   "cell_type": "code",
   "execution_count": null,
   "metadata": {
    "kernel": "Python3"
   },
   "outputs": [],
   "source": [
    "# Test Merge Function\n",
    "if __name__ == \"__main__\":\n",
    "    merge([3,4,5,7],[2,4,6])"
   ]
  },
  {
   "cell_type": "markdown",
   "metadata": {
    "kernel": "Python3"
   },
   "source": [
    "## Javascript: Merge Function"
   ]
  },
  {
   "cell_type": "code",
   "execution_count": null,
   "metadata": {
    "kernel": "JavaScript"
   },
   "outputs": [],
   "source": [
    "// Define Merge Function\n",
    "function merge (lList, rList)\n",
    "{\n",
    "    lInd = 0;\n",
    "    rInd = 0;\n",
    "    result=[];\n",
    "    \n",
    "    for( i=0; i < (lList.length)+(rList.length); i++)\n",
    "    {\n",
    "        if (rInd==rList.length ){\n",
    "            result.push(lList[lInd]);\n",
    "            lInd++;\n",
    "            }\n",
    "            \n",
    "        else if (lInd==lList.length){\n",
    "            result.push(rList[rInd]);\n",
    "            rInd++;\n",
    "            }\n",
    "            \n",
    "        else if (lList[lInd] < rList[rInd])\n",
    "        {\n",
    "            result.push(lList[lInd]);\n",
    "            lInd++;\n",
    "        }\n",
    "        \n",
    "        else\n",
    "        {\n",
    "            result.push(rList[rInd]);\n",
    "            rInd++;\n",
    "        }\n",
    "    }\n",
    "    return result;\n",
    "}"
   ]
  },
  {
   "cell_type": "code",
   "execution_count": null,
   "metadata": {
    "kernel": "JavaScript"
   },
   "outputs": [],
   "source": [
    "// Test Merge Function\n",
    "var testl = [3,4,5,7];\n",
    "var testr= [2,4,6];\n",
    "merge(testl, testr)"
   ]
  },
  {
   "cell_type": "markdown",
   "metadata": {
    "kernel": "JavaScript"
   },
   "source": [
    "## C++: Merge Function"
   ]
  },
  {
   "cell_type": "code",
   "execution_count": null,
   "metadata": {
    "kernel": "xeus-cling-cpp14"
   },
   "outputs": [],
   "source": [
    "// Define Merge Function\n",
    "std::vector<int> merge (std::vector<int> &lList, std::vector<int> &rList)\n",
    "{\n",
    "    int lInd = 0;\n",
    "    int rInd = 0;\n",
    "    std::vector<int> result;\n",
    "    \n",
    "    for (int i=0; i < (lList.size()+rList.size());i++)\n",
    "    {\n",
    "        if (rInd==rList.size() ){\n",
    "            result.push_back(lList[lInd]);\n",
    "            lInd++;\n",
    "            }\n",
    "            \n",
    "        else if (lInd==lList.size()){\n",
    "            result.push_back(rList[rInd]);\n",
    "            rInd++;\n",
    "            }\n",
    "            \n",
    "        else if (lList[lInd] < rList[rInd])\n",
    "        {\n",
    "            result.push_back(lList[lInd]);\n",
    "            lInd++;\n",
    "        }\n",
    "        \n",
    "        else\n",
    "        {\n",
    "            result.push_back(rList[rInd]);\n",
    "            rInd++;\n",
    "        }\n",
    "    }\n",
    "    return result;\n",
    "    \n",
    "}"
   ]
  },
  {
   "cell_type": "code",
   "execution_count": null,
   "metadata": {
    "kernel": "xeus-cling-cpp14"
   },
   "outputs": [],
   "source": [
    "// Test Merge Function\n",
    "std::vector<int> intVectL = {3,4,5,7};\n",
    "std::vector<int> intVectR = {2,4,6};\n",
    "merge(intVectL,intVectR)"
   ]
  },
  {
   "cell_type": "markdown",
   "metadata": {
    "kernel": "Python3"
   },
   "source": [
    "## Java: Merge Function"
   ]
  },
  {
   "cell_type": "code",
   "execution_count": null,
   "metadata": {
    "kernel": "java"
   },
   "outputs": [],
   "source": [
    "// Define Merge Function\n",
    "public static int[] merge (int[] lList, int[] rList)\n",
    "{\n",
    "    int lInd=0;\n",
    "    int rInd=0;\n",
    "    ArrayList<Integer> result= new ArrayList<Integer>();\n",
    "    \n",
    "    for( int i=0; i < (lList.length)+(rList.length); i++)\n",
    "    {\n",
    "        if (rInd==rList.length ){\n",
    "            result.add(lList[lInd]);\n",
    "            lInd++;\n",
    "            }\n",
    "            \n",
    "        else if (lInd==lList.length){\n",
    "            result.add(rList[rInd]);\n",
    "            rInd++;\n",
    "            }\n",
    "            \n",
    "        else if (lList[lInd] < rList[rInd])\n",
    "        {\n",
    "            result.add(lList[lInd]);\n",
    "            lInd++;\n",
    "        }\n",
    "        \n",
    "        else\n",
    "        {\n",
    "            result.add(rList[rInd]);\n",
    "            rInd++;\n",
    "        }\n",
    "    }\n",
    "    \n",
    "    int[] arr = new int[result.size()];\n",
    "    for(int i = 0; i < result.size(); i++) {\n",
    "        arr[i] = result.get(i);\n",
    "    }\n",
    "    return arr;\n",
    "}"
   ]
  },
  {
   "cell_type": "code",
   "execution_count": null,
   "metadata": {
    "kernel": "java"
   },
   "outputs": [],
   "source": [
    "// Test Merge Function\n",
    "int[] testVecl = {3,4,5,7};\n",
    "int[] testVecR = {2,4,6};\n",
    "System.out.println(Arrays.toString(merge(testVecl, testVecR)));"
   ]
  },
  {
   "cell_type": "markdown",
   "metadata": {
    "kernel": "xeus-cling-cpp14"
   },
   "source": [
    "## Python: MergeSort Function"
   ]
  },
  {
   "cell_type": "code",
   "execution_count": null,
   "metadata": {
    "kernel": "Python3"
   },
   "outputs": [],
   "source": [
    "# Define MergeSort Function\n",
    "def mergeSort(aList, counter=0):\n",
    "    counter+=1\n",
    "    logger.info(\"\\n******MERGESORT: %d time. mergeSort(%s)\"%(counter,aList))\n",
    "    if len(aList) <=1:\n",
    "        logger.info(\"      MERGESORT: Input list length < 1. Returning %s.\"%aList)\n",
    "        logger.info(\"******MERGESORT: Exiting mergeSort(%s)\\n\"%aList)\n",
    "        counter+=1\n",
    "        return aList\n",
    "    \n",
    "    logger.info(\"        MERGESORT: Calling split(%s).\"%aList)\n",
    "    l,r = split(aList)\n",
    "    logger.info(\"        MERGESORT: Calling function mergeSort(%s).\"%l)\n",
    "    L = mergeSort(l, counter)\n",
    "    logger.info(\"        MERGESORT: Calling function mergeSort(%s).\"%r)\n",
    "    R = mergeSort(r,counter+1)\n",
    "    counter+=1\n",
    "    logger.info(\"        MERGESORT: Returning merge(%s,%s).\"%(str(L),str(R)))\n",
    "    logger.info(\"******MERGESORT: Exiting mergeSort(%s)\\n\"%aList)\n",
    "    return merge(L,R)"
   ]
  },
  {
   "cell_type": "code",
   "execution_count": null,
   "metadata": {
    "kernel": "Python3"
   },
   "outputs": [],
   "source": [
    "# Test Function mergeSort\n",
    "if __name__ == \"__main__\":\n",
    "    mergeSort([2,3,1])"
   ]
  },
  {
   "cell_type": "code",
   "execution_count": null,
   "metadata": {
    "kernel": "Python3"
   },
   "outputs": [],
   "source": [
    "# Test Function mergeSort\n",
    "if __name__ == \"__main__\":\n",
    "    mergeSort([3,6,4,55,4,2,7,1,27])"
   ]
  },
  {
   "cell_type": "markdown",
   "metadata": {
    "kernel": "java"
   },
   "source": [
    "## Javascript: MergeSort Function"
   ]
  },
  {
   "cell_type": "code",
   "execution_count": null,
   "metadata": {
    "kernel": "JavaScript"
   },
   "outputs": [],
   "source": [
    "//  Define mergeSort Function\n",
    "function mergeSort(aList)\n",
    "{\n",
    "    if(aList.length <=1)\n",
    "    {\n",
    "        return aList;\n",
    "    }\n",
    "    \n",
    "    var result_split = split(aList);\n",
    "    var L = mergeSort(result_split[0]);\n",
    "    var R = mergeSort(result_split[1]);\n",
    "    return merge(L,R);\n",
    "}"
   ]
  },
  {
   "cell_type": "code",
   "execution_count": null,
   "metadata": {
    "kernel": "JavaScript"
   },
   "outputs": [],
   "source": [
    "// Test mergeSort\n",
    "mergeSort([3,6,4,55,4,2,7,1,27])"
   ]
  },
  {
   "cell_type": "markdown",
   "metadata": {
    "kernel": "Python3"
   },
   "source": [
    "## C++: MergeSort Function"
   ]
  },
  {
   "cell_type": "code",
   "execution_count": null,
   "metadata": {
    "kernel": "xeus-cling-cpp14"
   },
   "outputs": [],
   "source": [
    "// Define mergeSort Function\n",
    "std::vector<int> mergeSort( std::vector<int> &aList )\n",
    "{\n",
    "    if (aList.size()<=1)\n",
    "    {\n",
    "        return aList;\n",
    "    }\n",
    "    \n",
    "    vectorVectors result_split=split(aList);\n",
    "    std::vector<int> L = mergeSort(result_split[0]);\n",
    "    std::vector<int> R = mergeSort(result_split[1]);\n",
    "    return merge(L,R);\n",
    "}"
   ]
  },
  {
   "cell_type": "code",
   "execution_count": null,
   "metadata": {
    "kernel": "xeus-cling-cpp14"
   },
   "outputs": [],
   "source": [
    "// Test mergeSort Function\n",
    "std::vector<int> testVec = {3,6,4,55,4,2,7,1,27};\n",
    "std::vector<int> sorted = mergeSort(testVec);\n",
    "sorted"
   ]
  },
  {
   "cell_type": "markdown",
   "metadata": {
    "kernel": "xeus-cling-cpp14"
   },
   "source": [
    "## Java: MergeSort Function"
   ]
  },
  {
   "cell_type": "code",
   "execution_count": null,
   "metadata": {
    "kernel": "java"
   },
   "outputs": [],
   "source": [
    "//Define mergeSort Function\n",
    "public static int[] mergeSort(int[] aList)\n",
    "{\n",
    "    if (aList.length<=1){\n",
    "        return aList;\n",
    "    }\n",
    "    \n",
    "    int[][] result_split = split(aList);\n",
    "    int[] L = mergeSort(result_split[0]);\n",
    "    int[] R= mergeSort(result_split[1]);\n",
    "    return merge(L,R);\n",
    "}"
   ]
  },
  {
   "cell_type": "code",
   "execution_count": null,
   "metadata": {
    "kernel": "java"
   },
   "outputs": [],
   "source": [
    "// Test mergeSort\n",
    "int[] a = {3,6,4,55,4,2,7,1,27};\n",
    "System.out.println(Arrays.toString(mergeSort(a)));"
   ]
  },
  {
   "cell_type": "markdown",
   "metadata": {
    "kernel": "java"
   },
   "source": [
    "## Python: Rest API Microservice for mergeSort"
   ]
  },
  {
   "cell_type": "markdown",
   "metadata": {
    "kernel": "java"
   },
   "source": [
    "### Export Python3 Kernel Notebook up to here as a Python Script."
   ]
  },
  {
   "cell_type": "code",
   "execution_count": null,
   "metadata": {
    "kernel": "Python3"
   },
   "outputs": [],
   "source": [
    "# Save notebook. A bug is not saving to script when using notebook -e mergeSortAlgo.py\n",
    "%notebook -e mergeSortAlgo.ipynb"
   ]
  },
  {
   "cell_type": "code",
   "execution_count": null,
   "metadata": {
    "kernel": "Python3"
   },
   "outputs": [],
   "source": [
    "# Convert the notebook to a script. A bug is saving the script as .txt instead of .py\n",
    "# Need to check the magic commands of the SoS extension vs standard Jupyter Notebook\n",
    "!jupyter nbconvert --to script mergeSortAlgo.ipynb "
   ]
  },
  {
   "cell_type": "code",
   "execution_count": null,
   "metadata": {
    "kernel": "Python3"
   },
   "outputs": [],
   "source": [
    "# Rename mergeSortAlgo.txt to mergeSortAlgo.py\n",
    "! mv mergeSortAlgo.txt mergeSortAlgo.py"
   ]
  },
  {
   "cell_type": "markdown",
   "metadata": {
    "kernel": "Python3"
   },
   "source": [
    "### Create a Notebook with a Rest API Microservice for the mergeSort Function"
   ]
  },
  {
   "cell_type": "code",
   "execution_count": null,
   "metadata": {
    "kernel": "Python3"
   },
   "outputs": [],
   "source": [
    "import nbformat as nbf\n",
    "nb = nbf.v4.new_notebook()\n",
    "\n",
    "cell1 = \"\"\"\\\n",
    "import json\n",
    "from mergeSortAlgo import mergeSort\"\"\"\n",
    "\n",
    "cell2 = \"\"\"\\\n",
    "import logging\n",
    "logging.getLogger('mergeSortAlgo').setLevel(logging.WARNING)\n",
    "REQUEST = json.dumps({\n",
    "    'path' : {},\n",
    "    'args' : {}})\"\"\"\n",
    "\n",
    "cell3 = \"\"\"\\\n",
    "# GET /sortList\n",
    "req = json.loads(REQUEST)\n",
    "args = req['args']\n",
    "\n",
    "if 'unsortedList' not in args:\n",
    "  print(json.dumps({'sortedList': None}))\n",
    "else:\n",
    "  unsortedList = [int(''.join(i for i in s if i.isdigit())) for s in args['unsortedList'][0].split(',')]\n",
    "  sortedList = mergeSort(unsortedList)\n",
    "  print(json.dumps({'sortedList': sortedList}))\"\"\"\n",
    "\n",
    "nb['cells'] = [nbf.v4.new_code_cell(cell1),\n",
    "               nbf.v4.new_code_cell(cell2),\n",
    "               nbf.v4.new_code_cell(cell3)]\n",
    "\n",
    "nb['metadata']={\n",
    "  \"kernelspec\": {\n",
    "   \"display_name\": \"Python 3\",\n",
    "   \"language\": \"python\",\n",
    "   \"name\": \"python3\"\n",
    "  },\n",
    "  \"language_info\": {\n",
    "   \"codemirror_mode\": {\n",
    "    \"name\": \"ipython\",\n",
    "    \"version\": 3\n",
    "   },\n",
    "   \"file_extension\": \".py\",\n",
    "   \"mimetype\": \"text/x-python\",\n",
    "   \"name\": \"python\",\n",
    "   \"nbconvert_exporter\": \"python\",\n",
    "   \"pygments_lexer\": \"ipython3\",\n",
    "   \"version\": \"3.6.8\"\n",
    "  }\n",
    " }\n",
    "\n",
    "\n",
    "with open('RestAPImergeSort.ipynb', 'w') as f:\n",
    "    nbf.write(nb, f)\n",
    "    \n",
    "!jupyter nbconvert --to notebook --execute RestAPImergeSort.ipynb --output RestAPImergeSort.ipynb"
   ]
  },
  {
   "cell_type": "markdown",
   "metadata": {
    "kernel": "Python3"
   },
   "source": [
    "### Start the newly create RestAPI Microservice Notebook from above using jupyter kernel gateway"
   ]
  },
  {
   "cell_type": "code",
   "execution_count": null,
   "metadata": {
    "kernel": "Python3"
   },
   "outputs": [],
   "source": [
    "from subprocess import Popen, PIPE, STDOUT  \n",
    "\n",
    "cmd = \"\\\n",
    "jupyter kernelgateway --KernelGatewayApp.api='kernel_gateway.notebook_http' \\\n",
    "--KernelGatewayApp.ip=0.0.0.0 --KernelGatewayApp.port=9127 --KernelGatewayApp.seed_uri=RestAPImergeSort.ipynb \\\n",
    "--KernelGatewayApp.allow_origin='*' &\"  \n",
    "\n",
    "p = Popen(cmd, shell=True, stdin=PIPE, stdout=PIPE, stderr=STDOUT, close_fds=True)  \n",
    "for line in p.stdout:  \n",
    "    line = line.rstrip().decode(\"utf-8\")\n",
    "    print (line)\n",
    "    if('http://0.0.0.0:' in line):\n",
    "        port=line[-4:]\n",
    "        break;"
   ]
  },
  {
   "cell_type": "code",
   "execution_count": null,
   "metadata": {
    "kernel": "Python3"
   },
   "outputs": [],
   "source": [
    "# Test localhost\n",
    "cmd = 'curl -s http://localhost:{}/sortList?unsortedList=3,6,4,55,4,2,7,1,27 '.format(port)\n",
    "p = Popen(cmd, shell=True, stdin=PIPE, stdout=PIPE, stderr=STDOUT, close_fds=True)  \n",
    "for line in p.stdout:  \n",
    "    line = line.rstrip().decode(\"utf-8\")\n",
    "    print (line)"
   ]
  },
  {
   "cell_type": "markdown",
   "metadata": {
    "kernel": "Python3"
   },
   "source": [
    "### Tunnel local host to a public ip using ngrok"
   ]
  },
  {
   "cell_type": "code",
   "execution_count": null,
   "metadata": {
    "kernel": "Python3"
   },
   "outputs": [],
   "source": [
    "cmd = \"./ngrok http {} &\".format(port)\n",
    "get_ipython().system_raw(cmd)\n",
    "import time\n",
    "time.sleep(2)"
   ]
  },
  {
   "cell_type": "markdown",
   "metadata": {
    "kernel": "Python3"
   },
   "source": [
    "### Get the url of the public ip "
   ]
  },
  {
   "cell_type": "code",
   "execution_count": null,
   "metadata": {
    "kernel": "Python3"
   },
   "outputs": [],
   "source": [
    "url = ! curl -s http://localhost:4040/api/tunnels | python3 -c \\\n",
    "    \"import sys, json; print(json.load(sys.stdin)['tunnels'][0]['public_url'])\""
   ]
  },
  {
   "cell_type": "markdown",
   "metadata": {
    "kernel": "Python3"
   },
   "source": [
    "### Generate a test vector url for the RestAPI Microservice"
   ]
  },
  {
   "cell_type": "code",
   "execution_count": null,
   "metadata": {
    "kernel": "Python3"
   },
   "outputs": [],
   "source": [
    "print(url[0]+ '/sortList?unsortedList=3,6,4,55,4,2,7,1,27')"
   ]
  },
  {
   "cell_type": "code",
   "execution_count": null,
   "metadata": {
    "kernel": "Python3"
   },
   "outputs": [],
   "source": []
  },
  {
   "cell_type": "code",
   "execution_count": null,
   "metadata": {
    "kernel": "Python3"
   },
   "outputs": [],
   "source": []
  }
 ],
 "metadata": {
  "kernelspec": {
   "display_name": "SoS",
   "language": "sos",
   "name": "sos"
  },
  "language_info": {
   "codemirror_mode": "sos",
   "file_extension": ".sos",
   "mimetype": "text/x-sos",
   "name": "sos",
   "nbconvert_exporter": "sos_notebook.converter.SoS_Exporter",
   "pygments_lexer": "sos"
  },
  "sos": {
   "kernels": [
    [
     "JavaScript",
     "javascript",
     "JavaScript",
     "#c8e1ae",
     ""
    ],
    [
     "Python3",
     "python3",
     "Python3",
     "#FFD91A",
     {
      "name": "ipython",
      "version": 3
     }
    ],
    [
     "java",
     "java",
     "java",
     "",
     "java"
    ],
    [
     "xeus-cling-cpp14",
     "xeus-cling-cpp14",
     "C++14",
     "",
     "text/x-c++src"
    ]
   ],
   "panel": {
    "displayed": false,
    "height": 0
   },
   "version": "0.18.5"
  }
 },
 "nbformat": 4,
 "nbformat_minor": 2
}
