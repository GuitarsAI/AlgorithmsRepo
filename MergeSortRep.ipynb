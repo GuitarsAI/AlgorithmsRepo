{
 "cells": [
  {
   "cell_type": "markdown",
   "metadata": {
    "kernel": "SoS"
   },
   "source": [
    "# MergeSort \n",
    "<p align=\"left\">\n",
    "<img src=\"./img/businesscard.jpg\" width=\"500px\" alt=\"Business Card\" align=\"left\" >\n",
    "</p>\n",
    "<br>\n",
    "\n",
    "[www.rptecnologias.com](http://www.rptecnologias.com)\n",
    "<br>\n",
    "guitars.ai@rptecnologias.com\n"
   ]
  },
  {
   "cell_type": "markdown",
   "metadata": {
    "kernel": "SoS"
   },
   "source": [
    "# Imports & Configurations"
   ]
  },
  {
   "cell_type": "code",
   "execution_count": 1,
   "metadata": {
    "kernel": "Python3"
   },
   "outputs": [],
   "source": [
    "# Display\n",
    "import matplotlib.pyplot as plt\n",
    "from IPython.core.display import HTML, display\n",
    "\n",
    "# Logging & Debbuging\n",
    "import logging"
   ]
  },
  {
   "cell_type": "code",
   "execution_count": 2,
   "metadata": {
    "kernel": "Python3"
   },
   "outputs": [],
   "source": [
    "# Logging Configuration\n",
    "import sys\n",
    "# Create logger\n",
    "logging.basicConfig(format='%(levelname)s : %(message)s', level=logging.INFO)\n",
    "logger = logging.getLogger()\n",
    "\n",
    "# Create STDERR handler\n",
    "handler = logging.StreamHandler(sys.stderr)\n",
    "\n",
    "# Set STDERR handler as the only handler \n",
    "logger.handlers = [handler]"
   ]
  },
  {
   "cell_type": "code",
   "execution_count": 3,
   "metadata": {
    "kernel": "Python3"
   },
   "outputs": [],
   "source": [
    "# Function to Display a Website\n",
    "def show_web(url):\n",
    "    html_code='<center><iframe src=\"%s\" width=\"800\" height=\"600\" frameborder=\"0\" marginheight=\"0\" marginwidth=\"0\">Loading...</iframe></center>' \\\n",
    "\t\t% (url)\n",
    "    display(HTML(html_code))"
   ]
  },
  {
   "cell_type": "markdown",
   "metadata": {
    "kernel": "Python3"
   },
   "source": [
    "# MergeSort Algorithm"
   ]
  },
  {
   "cell_type": "code",
   "execution_count": 4,
   "metadata": {
    "kernel": "Python3"
   },
   "outputs": [
    {
     "data": {
      "text/html": [
       "<center><iframe src=\"https://en.wikipedia.org/wiki/Merge_sort\" width=\"800\" height=\"600\" frameborder=\"0\" marginheight=\"0\" marginwidth=\"0\">Loading...</iframe></center>"
      ],
      "text/plain": [
       "<IPython.core.display.HTML object>"
      ]
     },
     "metadata": {},
     "output_type": "display_data"
    }
   ],
   "source": [
    "show_web(\"https://en.wikipedia.org/wiki/Merge_sort\")"
   ]
  },
  {
   "cell_type": "markdown",
   "metadata": {
    "kernel": "Python3"
   },
   "source": [
    "## Python: Split Function"
   ]
  },
  {
   "cell_type": "code",
   "execution_count": 5,
   "metadata": {
    "kernel": "Python3"
   },
   "outputs": [],
   "source": [
    "# Define function split\n",
    "def split(a_list):\n",
    "    logger.info(\"\\n--Inside function split(%s)\"%a_list)\n",
    "    middle_ind=len(a_list)//2\n",
    "    logger.info(\"  Calculate the index of the middle point: %d.\"%middle_ind)\n",
    "    logger.info(\"  Returning the ouput %s.\"%[a_list[:middle_ind], a_list[middle_ind:]])\n",
    "    logger.info(\"--Exiting function split(%s)\"%a_list)\n",
    "    return a_list[:middle_ind], a_list[middle_ind:]"
   ]
  },
  {
   "cell_type": "code",
   "execution_count": 6,
   "metadata": {
    "kernel": "Python3"
   },
   "outputs": [
    {
     "name": "stderr",
     "output_type": "stream",
     "text": [
      "\n",
      "--Inside function split([1, 2, 3])\n",
      "  Calculate the index of the middle point: 1.\n",
      "  Returning the ouput [[1], [2, 3]].\n",
      "--Exiting function split([1, 2, 3])\n"
     ]
    },
    {
     "data": {
      "text/plain": [
       "([1], [2, 3])"
      ]
     },
     "execution_count": 6,
     "metadata": {},
     "output_type": "execute_result"
    }
   ],
   "source": [
    "# Test function split\n",
    "split([1,2,3])"
   ]
  },
  {
   "cell_type": "markdown",
   "metadata": {
    "kernel": "Python3"
   },
   "source": [
    "## Javascript: Split Function"
   ]
  },
  {
   "cell_type": "code",
   "execution_count": 7,
   "metadata": {
    "kernel": "JavaScript"
   },
   "outputs": [],
   "source": [
    "// Define Split Function\n",
    "function split (aList)\n",
    "{\n",
    "    var middle_ind = Math.floor(aList.length /2);\n",
    "    left = aList.slice(0, middle_ind);\n",
    "    right = aList.slice(middle_ind)\n",
    "    return [left, right];\n",
    "};"
   ]
  },
  {
   "cell_type": "code",
   "execution_count": 8,
   "metadata": {
    "kernel": "JavaScript"
   },
   "outputs": [
    {
     "data": {
      "text/plain": [
       "[]"
      ]
     },
     "execution_count": 8,
     "metadata": {},
     "output_type": "execute_result"
    },
    {
     "name": "stdout",
     "output_type": "stream",
     "text": [
      "[ [ 1 ], [ 2, 3 ] ]\n"
     ]
    }
   ],
   "source": [
    "// Test Split Function\n",
    "var test = [1,2,3];\n",
    "console.log(split(test))"
   ]
  },
  {
   "cell_type": "markdown",
   "metadata": {
    "kernel": "JavaScript"
   },
   "source": [
    "## C++: Split Function"
   ]
  },
  {
   "cell_type": "code",
   "execution_count": 9,
   "metadata": {
    "kernel": "xeus-cling-cpp14"
   },
   "outputs": [],
   "source": [
    "// Includes\n",
    "#include <iostream>\n",
    "#include <vector>\n",
    "using namespace std;\n",
    "typedef vector<vector<int>> vectorVectors;"
   ]
  },
  {
   "cell_type": "code",
   "execution_count": 10,
   "metadata": {
    "kernel": "xeus-cling-cpp14"
   },
   "outputs": [],
   "source": [
    "// Define Split Function\n",
    "vectorVectors split (vector<int> &aList)\n",
    "{\n",
    "    vector<int> firstHalfVect(aList.begin(),\n",
    "                               aList.begin()+aList.size()/2);\n",
    "    vector<int> secondHalfVect(aList.begin()+aList.size()/2, aList.end());\n",
    "    vectorVectors result = {firstHalfVect, secondHalfVect};\n",
    "    return result;\n",
    "}"
   ]
  },
  {
   "cell_type": "code",
   "execution_count": 11,
   "metadata": {
    "kernel": "xeus-cling-cpp14"
   },
   "outputs": [
    {
     "data": {
      "text/plain": [
       "{ { 1 }, { 2, 3 } }"
      ]
     },
     "execution_count": 11,
     "metadata": {},
     "output_type": "execute_result"
    }
   ],
   "source": [
    "// Test Split Function\n",
    " std::vector<int> testVector = {1,2,3};\n",
    " split(testVector)"
   ]
  },
  {
   "cell_type": "markdown",
   "metadata": {
    "kernel": "xeus-cling-cpp14"
   },
   "source": [
    "## Java: Split Function"
   ]
  },
  {
   "cell_type": "code",
   "execution_count": 12,
   "metadata": {
    "kernel": "java"
   },
   "outputs": [],
   "source": [
    "// Imports\n",
    "import java.util.ArrayList;"
   ]
  },
  {
   "cell_type": "code",
   "execution_count": 13,
   "metadata": {
    "kernel": "java"
   },
   "outputs": [],
   "source": [
    "// Define Split Function\n",
    "public static int[][] split(int[] aList)\n",
    "{\n",
    "        int len = aList.length;\n",
    "        int left[] = Arrays.copyOfRange(aList, 0, len/2);\n",
    "        int right[] = Arrays.copyOfRange(aList, (len/2), len);\n",
    "        int result[][] = new int[][] {left,right};\n",
    "        return result;\n",
    "}"
   ]
  },
  {
   "cell_type": "code",
   "execution_count": 14,
   "metadata": {
    "kernel": "java"
   },
   "outputs": [
    {
     "name": "stdout",
     "output_type": "stream",
     "text": [
      "[1]\n",
      "[2, 3]\n"
     ]
    }
   ],
   "source": [
    "// Test Split Function\n",
    "int[] testVec = {1,2,3};\n",
    "\n",
    "void printElements(int[][] jaggedArr) {\n",
    "    for (int index = 0; index < jaggedArr.length; index++) {\n",
    "        System.out.println(Arrays.toString(jaggedArr[index]));\n",
    "    }\n",
    "}\n",
    "printElements(split(testVec));"
   ]
  },
  {
   "cell_type": "markdown",
   "metadata": {
    "kernel": "java"
   },
   "source": [
    "## Python: Merge Function"
   ]
  },
  {
   "cell_type": "code",
   "execution_count": 15,
   "metadata": {
    "kernel": "Python3"
   },
   "outputs": [],
   "source": [
    "# Define Merge Function\n",
    "def merge(lList,rList):\n",
    "    logger.info(\"\\n++Inside function merge(%s,%s).\"%(str(lList),str(rList)))\n",
    "    lInd=0\n",
    "    rInd=0\n",
    "    result=[]\n",
    "    for i in range(len(lList)+len(rList)):\n",
    "        logger.info(\"    Output Element %d\"%i)\n",
    "        if rInd == len(rList):\n",
    "            result.append(lList[lInd])\n",
    "            lInd+=1\n",
    "            logger.info(\"    Case end of rList. Intermediate result: %s.\"%str(result))\n",
    "        elif lInd == len(lList):\n",
    "            result.append(rList[rInd])\n",
    "            rInd+=1\n",
    "            logger.info(\"    Case end of lList. Intermediate result: %s.\"%str(result))\n",
    "        elif lList[lInd] < rList[rInd]:\n",
    "            result.append(lList[lInd])\n",
    "            logger.info(\"    Case element from lList %d <= %d element from rList. Intermediate result: %s.\"%(lList[lInd],rList[rInd],str(result)))\n",
    "            lInd+=1\n",
    "        else:\n",
    "            result.append(rList[rInd])\n",
    "            logger.info(\"    Case element from lList %d >= %d element from rList. Intermediate result: %s.\"%(lList[lInd],rList[rInd],str(result)))\n",
    "            rInd+=1\n",
    "    logger.info(\"    Returning the ouput %s.\"%str(result))\n",
    "    logger.info(\"++Exiting function merge(%s,%s)++\\n.\"%(str(lList),str(rList)))\n",
    "    return result"
   ]
  },
  {
   "cell_type": "code",
   "execution_count": 16,
   "metadata": {
    "kernel": "Python3"
   },
   "outputs": [
    {
     "name": "stderr",
     "output_type": "stream",
     "text": [
      "\n",
      "++Inside function merge([3, 4, 5, 7],[2, 4, 6]).\n",
      "    Output Element 0\n",
      "    Case element from lList 3 >= 2 element from rList. Intermediate result: [2].\n",
      "    Output Element 1\n",
      "    Case element from lList 3 <= 4 element from rList. Intermediate result: [2, 3].\n",
      "    Output Element 2\n",
      "    Case element from lList 4 >= 4 element from rList. Intermediate result: [2, 3, 4].\n",
      "    Output Element 3\n",
      "    Case element from lList 4 <= 6 element from rList. Intermediate result: [2, 3, 4, 4].\n",
      "    Output Element 4\n",
      "    Case element from lList 5 <= 6 element from rList. Intermediate result: [2, 3, 4, 4, 5].\n",
      "    Output Element 5\n",
      "    Case element from lList 7 >= 6 element from rList. Intermediate result: [2, 3, 4, 4, 5, 6].\n",
      "    Output Element 6\n",
      "    Case end of rList. Intermediate result: [2, 3, 4, 4, 5, 6, 7].\n",
      "    Returning the ouput [2, 3, 4, 4, 5, 6, 7].\n",
      "++Exiting function merge([3, 4, 5, 7],[2, 4, 6])++\n",
      ".\n"
     ]
    },
    {
     "data": {
      "text/plain": [
       "[2, 3, 4, 4, 5, 6, 7]"
      ]
     },
     "execution_count": 16,
     "metadata": {},
     "output_type": "execute_result"
    }
   ],
   "source": [
    "# Test Merge Function\n",
    "merge([3,4,5,7],[2,4,6])"
   ]
  },
  {
   "cell_type": "markdown",
   "metadata": {
    "kernel": "Python3"
   },
   "source": [
    "## Javascript: Merge Function"
   ]
  },
  {
   "cell_type": "code",
   "execution_count": 17,
   "metadata": {
    "kernel": "JavaScript"
   },
   "outputs": [],
   "source": [
    "// Define Merge Function\n",
    "function merge (lList, rList)\n",
    "{\n",
    "    lInd = 0;\n",
    "    rInd = 0;\n",
    "    result=[];\n",
    "    \n",
    "    for( i=0; i < (lList.length)+(rList.length); i++)\n",
    "    {\n",
    "        if (rInd==rList.length ){\n",
    "            result.push(lList[lInd]);\n",
    "            lInd++;\n",
    "            }\n",
    "            \n",
    "        else if (lInd==lList.length){\n",
    "            result.push(rList[rInd]);\n",
    "            rInd++;\n",
    "            }\n",
    "            \n",
    "        else if (lList[lInd] < rList[rInd])\n",
    "        {\n",
    "            result.push(lList[lInd]);\n",
    "            lInd++;\n",
    "        }\n",
    "        \n",
    "        else\n",
    "        {\n",
    "            result.push(rList[rInd]);\n",
    "            rInd++;\n",
    "        }\n",
    "    }\n",
    "    return result;\n",
    "}"
   ]
  },
  {
   "cell_type": "code",
   "execution_count": 18,
   "metadata": {
    "kernel": "JavaScript"
   },
   "outputs": [
    {
     "data": {
      "text/plain": [
       "[]"
      ]
     },
     "execution_count": 18,
     "metadata": {},
     "output_type": "execute_result"
    }
   ],
   "source": [
    "// Test Merge Function\n",
    "var testl = [3,4,5,7];\n",
    "var testr= [2,4,6];\n",
    "merge(testl, testr)"
   ]
  },
  {
   "cell_type": "markdown",
   "metadata": {
    "kernel": "JavaScript"
   },
   "source": [
    "## C++: Merge Function"
   ]
  },
  {
   "cell_type": "code",
   "execution_count": 19,
   "metadata": {
    "kernel": "xeus-cling-cpp14"
   },
   "outputs": [],
   "source": [
    "// Define Merge Function\n",
    "std::vector<int> merge (std::vector<int> &lList, std::vector<int> &rList)\n",
    "{\n",
    "    int lInd = 0;\n",
    "    int rInd = 0;\n",
    "    std::vector<int> result;\n",
    "    \n",
    "    for (int i=0; i < (lList.size()+rList.size());i++)\n",
    "    {\n",
    "        if (rInd==rList.size() ){\n",
    "            result.push_back(lList[lInd]);\n",
    "            lInd++;\n",
    "            }\n",
    "            \n",
    "        else if (lInd==lList.size()){\n",
    "            result.push_back(rList[rInd]);\n",
    "            rInd++;\n",
    "            }\n",
    "            \n",
    "        else if (lList[lInd] < rList[rInd])\n",
    "        {\n",
    "            result.push_back(lList[lInd]);\n",
    "            lInd++;\n",
    "        }\n",
    "        \n",
    "        else\n",
    "        {\n",
    "            result.push_back(rList[rInd]);\n",
    "            rInd++;\n",
    "        }\n",
    "    }\n",
    "    return result;\n",
    "    \n",
    "}"
   ]
  },
  {
   "cell_type": "code",
   "execution_count": 20,
   "metadata": {
    "kernel": "xeus-cling-cpp14"
   },
   "outputs": [
    {
     "data": {
      "text/plain": [
       "{ 2, 3, 4, 4, 5, 6, 7 }"
      ]
     },
     "execution_count": 20,
     "metadata": {},
     "output_type": "execute_result"
    }
   ],
   "source": [
    "// Test Merge Function\n",
    "std::vector<int> intVectL = {3,4,5,7};\n",
    "std::vector<int> intVectR = {2,4,6};\n",
    "merge(intVectL,intVectR)"
   ]
  },
  {
   "cell_type": "markdown",
   "metadata": {
    "kernel": "Python3"
   },
   "source": [
    "## Java: Merge Function"
   ]
  },
  {
   "cell_type": "code",
   "execution_count": 21,
   "metadata": {
    "kernel": "java"
   },
   "outputs": [],
   "source": [
    "// Define Merge Function\n",
    "public static int[] merge (int[] lList, int[] rList)\n",
    "{\n",
    "    int lInd=0;\n",
    "    int rInd=0;\n",
    "    ArrayList<Integer> result= new ArrayList<Integer>();\n",
    "    \n",
    "    for( int i=0; i < (lList.length)+(rList.length); i++)\n",
    "    {\n",
    "        if (rInd==rList.length ){\n",
    "            result.add(lList[lInd]);\n",
    "            lInd++;\n",
    "            }\n",
    "            \n",
    "        else if (lInd==lList.length){\n",
    "            result.add(rList[rInd]);\n",
    "            rInd++;\n",
    "            }\n",
    "            \n",
    "        else if (lList[lInd] < rList[rInd])\n",
    "        {\n",
    "            result.add(lList[lInd]);\n",
    "            lInd++;\n",
    "        }\n",
    "        \n",
    "        else\n",
    "        {\n",
    "            result.add(rList[rInd]);\n",
    "            rInd++;\n",
    "        }\n",
    "    }\n",
    "    \n",
    "    int[] arr = new int[result.size()];\n",
    "    for(int i = 0; i < result.size(); i++) {\n",
    "        arr[i] = result.get(i);\n",
    "    }\n",
    "    return arr;\n",
    "}"
   ]
  },
  {
   "cell_type": "code",
   "execution_count": 22,
   "metadata": {
    "kernel": "java"
   },
   "outputs": [
    {
     "name": "stdout",
     "output_type": "stream",
     "text": [
      "[2, 3, 4, 4, 5, 6, 7]\n"
     ]
    }
   ],
   "source": [
    "// Test Merge Function\n",
    "int[] testVecl = {3,4,5,7};\n",
    "int[] testVecR = {2,4,6};\n",
    "System.out.println(Arrays.toString(merge(testVecl, testVecR)));"
   ]
  },
  {
   "cell_type": "markdown",
   "metadata": {
    "kernel": "xeus-cling-cpp14"
   },
   "source": [
    "## Python: MergeSort Function"
   ]
  },
  {
   "cell_type": "code",
   "execution_count": 23,
   "metadata": {
    "kernel": "Python3"
   },
   "outputs": [],
   "source": [
    "# Define MergeSort Function\n",
    "def mergeSort(aList, counter=0):\n",
    "    counter+=1\n",
    "    logger.info(\"\\n******MERGESORT: %d time. mergeSort(%s)\"%(counter,aList))\n",
    "    if len(aList) <=1:\n",
    "        logger.info(\"      MERGESORT: Input list length < 1. Returning %s.\"%aList)\n",
    "        logger.info(\"******MERGESORT: Exiting mergeSort(%s)\\n\"%aList)\n",
    "        counter+=1\n",
    "        return aList\n",
    "    \n",
    "    logger.info(\"        MERGESORT: Calling split(%s).\"%aList)\n",
    "    l,r = split(aList)\n",
    "    logger.info(\"        MERGESORT: Calling function mergeSort(%s).\"%l)\n",
    "    L = mergeSort(l, counter)\n",
    "    logger.info(\"        MERGESORT: Calling function mergeSort(%s).\"%r)\n",
    "    R = mergeSort(r,counter+1)\n",
    "    counter+=1\n",
    "    logger.info(\"        MERGESORT: Returning merge(%s,%s).\"%(str(L),str(R)))\n",
    "    logger.info(\"******MERGESORT: Exiting mergeSort(%s)\\n\"%aList)\n",
    "    return merge(L,R)"
   ]
  },
  {
   "cell_type": "code",
   "execution_count": 24,
   "metadata": {
    "kernel": "Python3"
   },
   "outputs": [
    {
     "name": "stderr",
     "output_type": "stream",
     "text": [
      "\n",
      "******MERGESORT: 1 time. mergeSort([2, 3, 1])\n",
      "        MERGESORT: Calling split([2, 3, 1]).\n",
      "\n",
      "--Inside function split([2, 3, 1])\n",
      "  Calculate the index of the middle point: 1.\n",
      "  Returning the ouput [[2], [3, 1]].\n",
      "--Exiting function split([2, 3, 1])\n",
      "        MERGESORT: Calling function mergeSort([2]).\n",
      "\n",
      "******MERGESORT: 2 time. mergeSort([2])\n",
      "      MERGESORT: Input list length < 1. Returning [2].\n",
      "******MERGESORT: Exiting mergeSort([2])\n",
      "\n",
      "        MERGESORT: Calling function mergeSort([3, 1]).\n",
      "\n",
      "******MERGESORT: 3 time. mergeSort([3, 1])\n",
      "        MERGESORT: Calling split([3, 1]).\n",
      "\n",
      "--Inside function split([3, 1])\n",
      "  Calculate the index of the middle point: 1.\n",
      "  Returning the ouput [[3], [1]].\n",
      "--Exiting function split([3, 1])\n",
      "        MERGESORT: Calling function mergeSort([3]).\n",
      "\n",
      "******MERGESORT: 4 time. mergeSort([3])\n",
      "      MERGESORT: Input list length < 1. Returning [3].\n",
      "******MERGESORT: Exiting mergeSort([3])\n",
      "\n",
      "        MERGESORT: Calling function mergeSort([1]).\n",
      "\n",
      "******MERGESORT: 5 time. mergeSort([1])\n",
      "      MERGESORT: Input list length < 1. Returning [1].\n",
      "******MERGESORT: Exiting mergeSort([1])\n",
      "\n",
      "        MERGESORT: Returning merge([3],[1]).\n",
      "******MERGESORT: Exiting mergeSort([3, 1])\n",
      "\n",
      "\n",
      "++Inside function merge([3],[1]).\n",
      "    Output Element 0\n",
      "    Case element from lList 3 >= 1 element from rList. Intermediate result: [1].\n",
      "    Output Element 1\n",
      "    Case end of rList. Intermediate result: [1, 3].\n",
      "    Returning the ouput [1, 3].\n",
      "++Exiting function merge([3],[1])++\n",
      ".\n",
      "        MERGESORT: Returning merge([2],[1, 3]).\n",
      "******MERGESORT: Exiting mergeSort([2, 3, 1])\n",
      "\n",
      "\n",
      "++Inside function merge([2],[1, 3]).\n",
      "    Output Element 0\n",
      "    Case element from lList 2 >= 1 element from rList. Intermediate result: [1].\n",
      "    Output Element 1\n",
      "    Case element from lList 2 <= 3 element from rList. Intermediate result: [1, 2].\n",
      "    Output Element 2\n",
      "    Case end of lList. Intermediate result: [1, 2, 3].\n",
      "    Returning the ouput [1, 2, 3].\n",
      "++Exiting function merge([2],[1, 3])++\n",
      ".\n"
     ]
    },
    {
     "data": {
      "text/plain": [
       "[1, 2, 3]"
      ]
     },
     "execution_count": 24,
     "metadata": {},
     "output_type": "execute_result"
    }
   ],
   "source": [
    "# Test Function mergeSort\n",
    "mergeSort([2,3,1])"
   ]
  },
  {
   "cell_type": "code",
   "execution_count": 25,
   "metadata": {
    "kernel": "Python3"
   },
   "outputs": [
    {
     "name": "stderr",
     "output_type": "stream",
     "text": [
      "\n",
      "******MERGESORT: 1 time. mergeSort([3, 6, 4, 55, 4, 2, 7, 1, 27])\n",
      "        MERGESORT: Calling split([3, 6, 4, 55, 4, 2, 7, 1, 27]).\n",
      "\n",
      "--Inside function split([3, 6, 4, 55, 4, 2, 7, 1, 27])\n",
      "  Calculate the index of the middle point: 4.\n",
      "  Returning the ouput [[3, 6, 4, 55], [4, 2, 7, 1, 27]].\n",
      "--Exiting function split([3, 6, 4, 55, 4, 2, 7, 1, 27])\n",
      "        MERGESORT: Calling function mergeSort([3, 6, 4, 55]).\n",
      "\n",
      "******MERGESORT: 2 time. mergeSort([3, 6, 4, 55])\n",
      "        MERGESORT: Calling split([3, 6, 4, 55]).\n",
      "\n",
      "--Inside function split([3, 6, 4, 55])\n",
      "  Calculate the index of the middle point: 2.\n",
      "  Returning the ouput [[3, 6], [4, 55]].\n",
      "--Exiting function split([3, 6, 4, 55])\n",
      "        MERGESORT: Calling function mergeSort([3, 6]).\n",
      "\n",
      "******MERGESORT: 3 time. mergeSort([3, 6])\n",
      "        MERGESORT: Calling split([3, 6]).\n",
      "\n",
      "--Inside function split([3, 6])\n",
      "  Calculate the index of the middle point: 1.\n",
      "  Returning the ouput [[3], [6]].\n",
      "--Exiting function split([3, 6])\n",
      "        MERGESORT: Calling function mergeSort([3]).\n",
      "\n",
      "******MERGESORT: 4 time. mergeSort([3])\n",
      "      MERGESORT: Input list length < 1. Returning [3].\n",
      "******MERGESORT: Exiting mergeSort([3])\n",
      "\n",
      "        MERGESORT: Calling function mergeSort([6]).\n",
      "\n",
      "******MERGESORT: 5 time. mergeSort([6])\n",
      "      MERGESORT: Input list length < 1. Returning [6].\n",
      "******MERGESORT: Exiting mergeSort([6])\n",
      "\n",
      "        MERGESORT: Returning merge([3],[6]).\n",
      "******MERGESORT: Exiting mergeSort([3, 6])\n",
      "\n",
      "\n",
      "++Inside function merge([3],[6]).\n",
      "    Output Element 0\n",
      "    Case element from lList 3 <= 6 element from rList. Intermediate result: [3].\n",
      "    Output Element 1\n",
      "    Case end of lList. Intermediate result: [3, 6].\n",
      "    Returning the ouput [3, 6].\n",
      "++Exiting function merge([3],[6])++\n",
      ".\n",
      "        MERGESORT: Calling function mergeSort([4, 55]).\n",
      "\n",
      "******MERGESORT: 4 time. mergeSort([4, 55])\n",
      "        MERGESORT: Calling split([4, 55]).\n",
      "\n",
      "--Inside function split([4, 55])\n",
      "  Calculate the index of the middle point: 1.\n",
      "  Returning the ouput [[4], [55]].\n",
      "--Exiting function split([4, 55])\n",
      "        MERGESORT: Calling function mergeSort([4]).\n",
      "\n",
      "******MERGESORT: 5 time. mergeSort([4])\n",
      "      MERGESORT: Input list length < 1. Returning [4].\n",
      "******MERGESORT: Exiting mergeSort([4])\n",
      "\n",
      "        MERGESORT: Calling function mergeSort([55]).\n",
      "\n",
      "******MERGESORT: 6 time. mergeSort([55])\n",
      "      MERGESORT: Input list length < 1. Returning [55].\n",
      "******MERGESORT: Exiting mergeSort([55])\n",
      "\n",
      "        MERGESORT: Returning merge([4],[55]).\n",
      "******MERGESORT: Exiting mergeSort([4, 55])\n",
      "\n",
      "\n",
      "++Inside function merge([4],[55]).\n",
      "    Output Element 0\n",
      "    Case element from lList 4 <= 55 element from rList. Intermediate result: [4].\n",
      "    Output Element 1\n",
      "    Case end of lList. Intermediate result: [4, 55].\n",
      "    Returning the ouput [4, 55].\n",
      "++Exiting function merge([4],[55])++\n",
      ".\n",
      "        MERGESORT: Returning merge([3, 6],[4, 55]).\n",
      "******MERGESORT: Exiting mergeSort([3, 6, 4, 55])\n",
      "\n",
      "\n",
      "++Inside function merge([3, 6],[4, 55]).\n",
      "    Output Element 0\n",
      "    Case element from lList 3 <= 4 element from rList. Intermediate result: [3].\n",
      "    Output Element 1\n",
      "    Case element from lList 6 >= 4 element from rList. Intermediate result: [3, 4].\n",
      "    Output Element 2\n",
      "    Case element from lList 6 <= 55 element from rList. Intermediate result: [3, 4, 6].\n",
      "    Output Element 3\n",
      "    Case end of lList. Intermediate result: [3, 4, 6, 55].\n",
      "    Returning the ouput [3, 4, 6, 55].\n",
      "++Exiting function merge([3, 6],[4, 55])++\n",
      ".\n",
      "        MERGESORT: Calling function mergeSort([4, 2, 7, 1, 27]).\n",
      "\n",
      "******MERGESORT: 3 time. mergeSort([4, 2, 7, 1, 27])\n",
      "        MERGESORT: Calling split([4, 2, 7, 1, 27]).\n",
      "\n",
      "--Inside function split([4, 2, 7, 1, 27])\n",
      "  Calculate the index of the middle point: 2.\n",
      "  Returning the ouput [[4, 2], [7, 1, 27]].\n",
      "--Exiting function split([4, 2, 7, 1, 27])\n",
      "        MERGESORT: Calling function mergeSort([4, 2]).\n",
      "\n",
      "******MERGESORT: 4 time. mergeSort([4, 2])\n",
      "        MERGESORT: Calling split([4, 2]).\n",
      "\n",
      "--Inside function split([4, 2])\n",
      "  Calculate the index of the middle point: 1.\n",
      "  Returning the ouput [[4], [2]].\n",
      "--Exiting function split([4, 2])\n",
      "        MERGESORT: Calling function mergeSort([4]).\n",
      "\n",
      "******MERGESORT: 5 time. mergeSort([4])\n",
      "      MERGESORT: Input list length < 1. Returning [4].\n",
      "******MERGESORT: Exiting mergeSort([4])\n",
      "\n",
      "        MERGESORT: Calling function mergeSort([2]).\n",
      "\n",
      "******MERGESORT: 6 time. mergeSort([2])\n",
      "      MERGESORT: Input list length < 1. Returning [2].\n",
      "******MERGESORT: Exiting mergeSort([2])\n",
      "\n",
      "        MERGESORT: Returning merge([4],[2]).\n",
      "******MERGESORT: Exiting mergeSort([4, 2])\n",
      "\n",
      "\n",
      "++Inside function merge([4],[2]).\n",
      "    Output Element 0\n",
      "    Case element from lList 4 >= 2 element from rList. Intermediate result: [2].\n",
      "    Output Element 1\n",
      "    Case end of rList. Intermediate result: [2, 4].\n",
      "    Returning the ouput [2, 4].\n",
      "++Exiting function merge([4],[2])++\n",
      ".\n",
      "        MERGESORT: Calling function mergeSort([7, 1, 27]).\n",
      "\n",
      "******MERGESORT: 5 time. mergeSort([7, 1, 27])\n",
      "        MERGESORT: Calling split([7, 1, 27]).\n",
      "\n",
      "--Inside function split([7, 1, 27])\n",
      "  Calculate the index of the middle point: 1.\n",
      "  Returning the ouput [[7], [1, 27]].\n",
      "--Exiting function split([7, 1, 27])\n",
      "        MERGESORT: Calling function mergeSort([7]).\n",
      "\n",
      "******MERGESORT: 6 time. mergeSort([7])\n",
      "      MERGESORT: Input list length < 1. Returning [7].\n",
      "******MERGESORT: Exiting mergeSort([7])\n",
      "\n",
      "        MERGESORT: Calling function mergeSort([1, 27]).\n",
      "\n",
      "******MERGESORT: 7 time. mergeSort([1, 27])\n",
      "        MERGESORT: Calling split([1, 27]).\n",
      "\n",
      "--Inside function split([1, 27])\n",
      "  Calculate the index of the middle point: 1.\n",
      "  Returning the ouput [[1], [27]].\n",
      "--Exiting function split([1, 27])\n",
      "        MERGESORT: Calling function mergeSort([1]).\n",
      "\n",
      "******MERGESORT: 8 time. mergeSort([1])\n",
      "      MERGESORT: Input list length < 1. Returning [1].\n",
      "******MERGESORT: Exiting mergeSort([1])\n",
      "\n",
      "        MERGESORT: Calling function mergeSort([27]).\n",
      "\n",
      "******MERGESORT: 9 time. mergeSort([27])\n",
      "      MERGESORT: Input list length < 1. Returning [27].\n",
      "******MERGESORT: Exiting mergeSort([27])\n",
      "\n",
      "        MERGESORT: Returning merge([1],[27]).\n",
      "******MERGESORT: Exiting mergeSort([1, 27])\n",
      "\n",
      "\n",
      "++Inside function merge([1],[27]).\n",
      "    Output Element 0\n",
      "    Case element from lList 1 <= 27 element from rList. Intermediate result: [1].\n",
      "    Output Element 1\n",
      "    Case end of lList. Intermediate result: [1, 27].\n",
      "    Returning the ouput [1, 27].\n",
      "++Exiting function merge([1],[27])++\n",
      ".\n",
      "        MERGESORT: Returning merge([7],[1, 27]).\n",
      "******MERGESORT: Exiting mergeSort([7, 1, 27])\n",
      "\n",
      "\n",
      "++Inside function merge([7],[1, 27]).\n",
      "    Output Element 0\n",
      "    Case element from lList 7 >= 1 element from rList. Intermediate result: [1].\n",
      "    Output Element 1\n",
      "    Case element from lList 7 <= 27 element from rList. Intermediate result: [1, 7].\n",
      "    Output Element 2\n",
      "    Case end of lList. Intermediate result: [1, 7, 27].\n",
      "    Returning the ouput [1, 7, 27].\n",
      "++Exiting function merge([7],[1, 27])++\n",
      ".\n",
      "        MERGESORT: Returning merge([2, 4],[1, 7, 27]).\n",
      "******MERGESORT: Exiting mergeSort([4, 2, 7, 1, 27])\n",
      "\n",
      "\n",
      "++Inside function merge([2, 4],[1, 7, 27]).\n",
      "    Output Element 0\n",
      "    Case element from lList 2 >= 1 element from rList. Intermediate result: [1].\n",
      "    Output Element 1\n",
      "    Case element from lList 2 <= 7 element from rList. Intermediate result: [1, 2].\n",
      "    Output Element 2\n",
      "    Case element from lList 4 <= 7 element from rList. Intermediate result: [1, 2, 4].\n",
      "    Output Element 3\n",
      "    Case end of lList. Intermediate result: [1, 2, 4, 7].\n",
      "    Output Element 4\n",
      "    Case end of lList. Intermediate result: [1, 2, 4, 7, 27].\n",
      "    Returning the ouput [1, 2, 4, 7, 27].\n",
      "++Exiting function merge([2, 4],[1, 7, 27])++\n",
      ".\n",
      "        MERGESORT: Returning merge([3, 4, 6, 55],[1, 2, 4, 7, 27]).\n",
      "******MERGESORT: Exiting mergeSort([3, 6, 4, 55, 4, 2, 7, 1, 27])\n",
      "\n",
      "\n",
      "++Inside function merge([3, 4, 6, 55],[1, 2, 4, 7, 27]).\n",
      "    Output Element 0\n",
      "    Case element from lList 3 >= 1 element from rList. Intermediate result: [1].\n",
      "    Output Element 1\n",
      "    Case element from lList 3 >= 2 element from rList. Intermediate result: [1, 2].\n",
      "    Output Element 2\n",
      "    Case element from lList 3 <= 4 element from rList. Intermediate result: [1, 2, 3].\n",
      "    Output Element 3\n",
      "    Case element from lList 4 >= 4 element from rList. Intermediate result: [1, 2, 3, 4].\n",
      "    Output Element 4\n",
      "    Case element from lList 4 <= 7 element from rList. Intermediate result: [1, 2, 3, 4, 4].\n"
     ]
    },
    {
     "name": "stderr",
     "output_type": "stream",
     "text": [
      "    Output Element 5\n",
      "    Case element from lList 6 <= 7 element from rList. Intermediate result: [1, 2, 3, 4, 4, 6].\n",
      "    Output Element 6\n",
      "    Case element from lList 55 >= 7 element from rList. Intermediate result: [1, 2, 3, 4, 4, 6, 7].\n",
      "    Output Element 7\n",
      "    Case element from lList 55 >= 27 element from rList. Intermediate result: [1, 2, 3, 4, 4, 6, 7, 27].\n",
      "    Output Element 8\n",
      "    Case end of rList. Intermediate result: [1, 2, 3, 4, 4, 6, 7, 27, 55].\n",
      "    Returning the ouput [1, 2, 3, 4, 4, 6, 7, 27, 55].\n",
      "++Exiting function merge([3, 4, 6, 55],[1, 2, 4, 7, 27])++\n",
      ".\n"
     ]
    },
    {
     "data": {
      "text/plain": [
       "[1, 2, 3, 4, 4, 6, 7, 27, 55]"
      ]
     },
     "execution_count": 25,
     "metadata": {},
     "output_type": "execute_result"
    }
   ],
   "source": [
    "# Test Function mergeSort\n",
    "mergeSort([3,6,4,55,4,2,7,1,27])"
   ]
  },
  {
   "cell_type": "markdown",
   "metadata": {
    "kernel": "java"
   },
   "source": [
    "## Javascript: MergeSort Function"
   ]
  },
  {
   "cell_type": "code",
   "execution_count": 26,
   "metadata": {
    "kernel": "JavaScript"
   },
   "outputs": [
    {
     "data": {
      "text/plain": [
       "[]"
      ]
     },
     "execution_count": 26,
     "metadata": {},
     "output_type": "execute_result"
    }
   ],
   "source": [
    "//  Define mergeSort Function\n",
    "function mergeSort(aList)\n",
    "{\n",
    "    if(aList.length <=1)\n",
    "    {\n",
    "        return aList;\n",
    "    }\n",
    "    \n",
    "    var result_split = split(aList);\n",
    "    var L = mergeSort(result_split[0]);\n",
    "    var R = mergeSort(result_split[1]);\n",
    "    return merge(L,R);\n",
    "}"
   ]
  },
  {
   "cell_type": "code",
   "execution_count": 27,
   "metadata": {
    "kernel": "JavaScript"
   },
   "outputs": [
    {
     "data": {
      "text/plain": [
       "[ 1, 2, 3, 4, 4, 6, 7, 27, 55 ]"
      ]
     },
     "execution_count": 27,
     "metadata": {},
     "output_type": "execute_result"
    }
   ],
   "source": [
    "// Test mergeSort\n",
    "mergeSort([3,6,4,55,4,2,7,1,27])"
   ]
  },
  {
   "cell_type": "markdown",
   "metadata": {
    "kernel": "Python3"
   },
   "source": [
    "## C++: MergeSort Function"
   ]
  },
  {
   "cell_type": "code",
   "execution_count": 28,
   "metadata": {
    "kernel": "xeus-cling-cpp14"
   },
   "outputs": [],
   "source": [
    "// Define mergeSort Function\n",
    "std::vector<int> mergeSort( std::vector<int> &aList )\n",
    "{\n",
    "    if (aList.size()<=1)\n",
    "    {\n",
    "        return aList;\n",
    "    }\n",
    "    \n",
    "    vectorVectors result_split=split(aList);\n",
    "    std::vector<int> L = mergeSort(result_split[0]);\n",
    "    std::vector<int> R = mergeSort(result_split[1]);\n",
    "    return merge(L,R);\n",
    "}"
   ]
  },
  {
   "cell_type": "code",
   "execution_count": 29,
   "metadata": {
    "kernel": "xeus-cling-cpp14"
   },
   "outputs": [
    {
     "data": {
      "text/plain": [
       "{ 1, 2, 3, 4, 4, 6, 7, 27, 55 }"
      ]
     },
     "execution_count": 29,
     "metadata": {},
     "output_type": "execute_result"
    }
   ],
   "source": [
    "// Test mergeSort Function\n",
    "std::vector<int> testVec = {3,6,4,55,4,2,7,1,27};\n",
    "std::vector<int> sorted = mergeSort(testVec);\n",
    "sorted"
   ]
  },
  {
   "cell_type": "markdown",
   "metadata": {
    "kernel": "xeus-cling-cpp14"
   },
   "source": [
    "## Java: MergeSort Function"
   ]
  },
  {
   "cell_type": "code",
   "execution_count": 30,
   "metadata": {
    "kernel": "java"
   },
   "outputs": [],
   "source": [
    "//Define mergeSort Function\n",
    "public static int[] mergeSort(int[] aList)\n",
    "{\n",
    "    if (aList.length<=1){\n",
    "        return aList;\n",
    "    }\n",
    "    \n",
    "    int[][] result_split = split(aList);\n",
    "    int[] L = mergeSort(result_split[0]);\n",
    "    int[] R= mergeSort(result_split[1]);\n",
    "    return merge(L,R);\n",
    "}"
   ]
  },
  {
   "cell_type": "code",
   "execution_count": 44,
   "metadata": {
    "kernel": "java"
   },
   "outputs": [
    {
     "name": "stdout",
     "output_type": "stream",
     "text": [
      "[1, 2, 3, 4, 4, 6, 7, 27, 55]\n"
     ]
    }
   ],
   "source": [
    "// Test mergeSort\n",
    "int[] a = {3,6,4,55,4,2,7,1,27};\n",
    "System.out.println(Arrays.toString(mergeSort(a)));"
   ]
  },
  {
   "cell_type": "code",
   "execution_count": 53,
   "metadata": {
    "kernel": "SoS"
   },
   "outputs": [],
   "source": [
    "test=[1,2,3,4]\n"
   ]
  },
  {
   "cell_type": "code",
   "execution_count": 55,
   "metadata": {
    "kernel": "SoS"
   },
   "outputs": [
    {
     "name": "stderr",
     "output_type": "stream",
     "text": [
      "Failed to start kernel \"octave\". Kernel died before replying to kernel_info\n",
      "Error Message:\n",
      "Traceback (most recent call last):\n",
      "  File \"/home/feraubuntu/anaconda3/envs/SoS/lib/python3.6/runpy.py\", line 193, in _run_module_as_main\n",
      "    \"__main__\", mod_spec)\n",
      "  File \"/home/feraubuntu/anaconda3/envs/SoS/lib/python3.6/runpy.py\", line 85, in _run_code\n",
      "    exec(code, run_globals)\n",
      "  File \"/home/feraubuntu/anaconda3/envs/SoS/lib/python3.6/site-packages/octave_kernel/__main__.py\", line 5, in <module>\n",
      "    OctaveKernel.run_as_main()\n",
      "  File \"/home/feraubuntu/anaconda3/envs/SoS/lib/python3.6/site-packages/metakernel/_metakernel.py\", line 115, in run_as_main\n",
      "    MetaKernelApp.launch_instance(kernel_class=cls)\n",
      "  File \"/home/feraubuntu/anaconda3/envs/SoS/lib/python3.6/site-packages/traitlets/config/application.py\", line 657, in launch_instance\n",
      "    app.initialize(argv)\n",
      "  File \"</home/feraubuntu/anaconda3/envs/SoS/lib/python3.6/site-packages/decorator.py:decorator-gen-123>\", line 2, in initialize\n",
      "  File \"/home/feraubuntu/anaconda3/envs/SoS/lib/python3.6/site-packages/traitlets/config/application.py\", line 87, in catch_config_error\n",
      "    return method(app, *args, **kwargs)\n",
      "  File \"/home/feraubuntu/anaconda3/envs/SoS/lib/python3.6/site-packages/ipykernel/kernelapp.py\", line 484, in initialize\n",
      "    self.init_kernel()\n",
      "  File \"/home/feraubuntu/anaconda3/envs/SoS/lib/python3.6/site-packages/ipykernel/kernelapp.py\", line 389, in init_kernel\n",
      "    user_ns=self.user_ns,\n",
      "  File \"/home/feraubuntu/anaconda3/envs/SoS/lib/python3.6/site-packages/traitlets/config/configurable.py\", line 412, in instance\n",
      "    inst = cls(*args, **kwargs)\n",
      "  File \"/home/feraubuntu/anaconda3/envs/SoS/lib/python3.6/site-packages/metakernel/process_metakernel.py\", line 54, in __init__\n",
      "    self.wrapper = self.makeWrapper()\n",
      "  File \"/home/feraubuntu/anaconda3/envs/SoS/lib/python3.6/site-packages/octave_kernel/kernel.py\", line 94, in makeWrapper\n",
      "    return self.octave_engine.repl\n",
      "  File \"/home/feraubuntu/anaconda3/envs/SoS/lib/python3.6/site-packages/octave_kernel/kernel.py\", line 88, in octave_engine\n",
      "    logger=self.log)\n",
      "  File \"/home/feraubuntu/anaconda3/envs/SoS/lib/python3.6/site-packages/octave_kernel/kernel.py\", line 157, in __init__\n",
      "    self.executable = self._get_executable()\n",
      "  File \"/home/feraubuntu/anaconda3/envs/SoS/lib/python3.6/site-packages/octave_kernel/kernel.py\", line 432, in _get_executable\n",
      "    raise OSError(msg)\n",
      "OSError: Octave Executable not found, please add to path or set\"OCTAVE_EXECUTABLE\" environment variable\n"
     ]
    }
   ],
   "source": [
    "a=1"
   ]
  },
  {
   "cell_type": "code",
   "execution_count": null,
   "metadata": {
    "kernel": "SoS"
   },
   "outputs": [],
   "source": []
  }
 ],
 "metadata": {
  "kernelspec": {
   "display_name": "SoS",
   "language": "sos",
   "name": "sos"
  },
  "language_info": {
   "codemirror_mode": "sos",
   "file_extension": ".sos",
   "mimetype": "text/x-sos",
   "name": "sos",
   "nbconvert_exporter": "sos_notebook.converter.SoS_Exporter",
   "pygments_lexer": "sos"
  },
  "sos": {
   "kernels": [
    [
     "JavaScript",
     "javascript",
     "JavaScript",
     "#c8e1ae",
     ""
    ],
    [
     "Python3",
     "python3",
     "Python3",
     "#FFD91A",
     {
      "name": "ipython",
      "version": 3
     }
    ],
    [
     "SoS",
     "sos",
     "",
     "",
     "sos"
    ],
    [
     "java",
     "java",
     "java",
     "",
     "java"
    ],
    [
     "xeus-cling-cpp14",
     "xeus-cling-cpp14",
     "C++14",
     "",
     "text/x-c++src"
    ]
   ],
   "panel": {
    "displayed": false,
    "height": 0
   },
   "version": "0.18.5"
  }
 },
 "nbformat": 4,
 "nbformat_minor": 2
}
