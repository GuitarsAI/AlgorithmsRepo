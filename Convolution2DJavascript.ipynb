{
 "cells": [
  {
   "cell_type": "markdown",
   "metadata": {
    "kernel": "SoS"
   },
   "source": [
    "# JavaScript: Convolution 2D\n",
    "<p align=\"left\">\n",
    "<img src=\"./img/businesscard.jpg\" width=\"500px\" alt=\"Business Card\" align=\"left\" >\n",
    "</p>\n",
    "<br>\n",
    "\n",
    "[www.rptecnologias.com](http://www.rptecnologias.com)\n",
    "<br>\n",
    "guitars.ai@rptecnologias.com\n"
   ]
  },
  {
   "cell_type": "code",
   "execution_count": 1,
   "metadata": {
    "kernel": "JavaScript"
   },
   "outputs": [],
   "source": [
    "//Define function Convolution2D\n",
    "function Convolution2D(f,g)\n",
    "{\n",
    "        // Define output matrix with zeros\n",
    "        var result = [];\n",
    "        for ( var i = 0; i<(f.length+g.length-1);++i)\n",
    "        {\n",
    "            result[i]=[];\n",
    "            for (var j = 0 ; j < (f[0].length+g[0].length-1);++j)\n",
    "            {\n",
    "             result[i][j]=0;\n",
    "            }\n",
    "        }\n",
    "        \n",
    "        \n",
    "        // Convolution\n",
    "        for (x=0;x<f.length;++x)\n",
    "        {\n",
    "            for(y=0;y<f[0].length;++y)\n",
    "            {\n",
    "                for(i=0;i<g.length;++i)\n",
    "                {\n",
    "                    for (j=0;j<g[0].length;++j)\n",
    "                    {\n",
    "                        result[x+i][y+j]+=f[x][y]*g[i][j];\n",
    "                    }\n",
    "                }\n",
    "            }\n",
    "        }\n",
    "        \n",
    "        return result;\n",
    "}"
   ]
  },
  {
   "cell_type": "code",
   "execution_count": 2,
   "metadata": {
    "kernel": "JavaScript"
   },
   "outputs": [
    {
     "data": {
      "text/plain": [
       "[ [ -1, -1, -1 ], [ 2, 2, 2 ], [ -1, -1, -1 ] ]"
      ]
     },
     "execution_count": 2,
     "metadata": {},
     "output_type": "execute_result"
    }
   ],
   "source": [
    "// Testing Matrices\n",
    "f = [[1,1,1,1,1,1,1,1],\n",
    "    [1,3,3,3,3,3,3,1],\n",
    "    [1,3,1,1,3,1,1,1],\n",
    "    [1,3,3,3,3,3,3,1],\n",
    "    [1,3,1,1,3,1,1,1],\n",
    "    [1,1,1,1,1,1,1,1]];\n",
    "g = [[-1,-1,-1],\n",
    "    [2,2,2],\n",
    "    [-1,-1,-1]];"
   ]
  },
  {
   "cell_type": "code",
   "execution_count": 3,
   "metadata": {
    "kernel": "JavaScript"
   },
   "outputs": [
    {
     "data": {
      "text/plain": [
       "[ [ -1, -2, -3, -3, -3, -3, -3, -3, -2, -1 ],\n",
       "  [ 1, 0, -1, -3, -3, -3, -3, -1, 0, 1 ],\n",
       "  [ 0, 2, 6, 10, 10, 10, 10, 8, 4, 0 ],\n",
       "  [ 0, 0, -4, -8, -8, -8, -8, -8, -4, 0 ],\n",
       "  [ 0, 0, 4, 8, 8, 8, 8, 8, 4, 0 ],\n",
       "  [ 0, 2, 0, -2, -2, -2, -2, -4, -2, 0 ],\n",
       "  [ 1, 0, 1, 1, 1, 1, 1, 3, 2, 1 ],\n",
       "  [ -1, -2, -3, -3, -3, -3, -3, -3, -2, -1 ] ]"
      ]
     },
     "execution_count": 3,
     "metadata": {},
     "output_type": "execute_result"
    }
   ],
   "source": [
    "result_javascript= Convolution2D(f,g);\n",
    "result_javascript"
   ]
  },
  {
   "cell_type": "code",
   "execution_count": 4,
   "metadata": {
    "kernel": "Python3"
   },
   "outputs": [],
   "source": [
    "import matplotlib.pyplot as plt"
   ]
  },
  {
   "cell_type": "code",
   "execution_count": 5,
   "metadata": {
    "kernel": "Python3"
   },
   "outputs": [
    {
     "data": {
      "image/png": "[encoded data removed]",
      "text/plain": [
       "<Figure size 432x288 with 1 Axes>"
      ]
     },
     "metadata": {
      "needs_background": "light"
     },
     "output_type": "display_data"
    }
   ],
   "source": [
    "%get result_javascript --from javascript\n",
    "plt.figure()\n",
    "plt.imshow(result_javascript);"
   ]
  },
  {
   "cell_type": "code",
   "execution_count": null,
   "metadata": {
    "kernel": "Python3"
   },
   "outputs": [],
   "source": []
  }
 ],
 "metadata": {
  "kernelspec": {
   "display_name": "SoS",
   "language": "sos",
   "name": "sos"
  },
  "language_info": {
   "codemirror_mode": "sos",
   "file_extension": ".sos",
   "mimetype": "text/x-sos",
   "name": "sos",
   "nbconvert_exporter": "sos_notebook.converter.SoS_Exporter",
   "pygments_lexer": "sos"
  },
  "sos": {
   "kernels": [
    [
     "JavaScript",
     "javascript",
     "JavaScript",
     "#c8e1ae",
     ""
    ],
    [
     "Python3",
     "python3",
     "Python3",
     "#FFD91A",
     ""
    ]
   ],
   "panel": {
    "displayed": false,
    "height": 0
   },
   "version": "0.18.5"
  }
 },
 "nbformat": 4,
 "nbformat_minor": 2
}
